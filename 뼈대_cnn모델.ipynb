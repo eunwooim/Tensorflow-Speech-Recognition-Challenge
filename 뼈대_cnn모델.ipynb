{
  "nbformat": 4,
  "nbformat_minor": 0,
  "metadata": {
    "colab": {
      "name": "뼈대_cnn모델",
      "provenance": [],
      "collapsed_sections": [],
      "machine_shape": "hm",
      "authorship_tag": "ABX9TyM3B98o1ByMwbs7as/r0XeO",
      "include_colab_link": true
    },
    "kernelspec": {
      "name": "python3",
      "display_name": "Python 3"
    },
    "language_info": {
      "name": "python"
    },
    "accelerator": "GPU"
  },
  "cells": [
    {
      "cell_type": "markdown",
      "metadata": {
        "id": "view-in-github",
        "colab_type": "text"
      },
      "source": [
        "<a href=\"https://colab.research.google.com/github/imeunu/Capstone_PBL/blob/main/%EB%BC%88%EB%8C%80_cnn%EB%AA%A8%EB%8D%B8.ipynb\" target=\"_parent\"><img src=\"https://colab.research.google.com/assets/colab-badge.svg\" alt=\"Open In Colab\"/></a>"
      ]
    },
    {
      "cell_type": "code",
      "metadata": {
        "id": "HSf559WxqdPh"
      },
      "source": [
        "import os \n",
        "from os import listdir\n",
        "from os.path import join\n",
        "import pandas as pd\n",
        "from librosa.feature import melspectrogram\n",
        "from librosa import power_to_db\n",
        "from librosa.effects import trim\n",
        "import librosa\n",
        "import IPython as ipd\n",
        "import matplotlib.pyplot as plt\n",
        "import numpy as np\n",
        "from scipy.io import wavfile\n",
        "import warnings \n",
        "warnings.filterwarnings('ignore')\n",
        "\n",
        "from matplotlib.backends.backend_agg import FigureCanvasAgg as FigureCanvas"
      ],
      "execution_count": null,
      "outputs": []
    },
    {
      "cell_type": "code",
      "metadata": {
        "colab": {
          "base_uri": "https://localhost:8080/"
        },
        "id": "waLtZQgLqtkz",
        "outputId": "da1c5de4-98fa-44df-c113-881f109cbc2c"
      },
      "source": [
        "from google.colab import drive\n",
        "drive.mount('/content/drive')"
      ],
      "execution_count": null,
      "outputs": [
        {
          "output_type": "stream",
          "text": [
            "Mounted at /content/drive\n"
          ],
          "name": "stdout"
        }
      ]
    },
    {
      "cell_type": "code",
      "metadata": {
        "id": "5AurLhniqu9G"
      },
      "source": [
        "path_dir= '/content/drive/MyDrive/화자인식/뼈대용 화자'\n",
        "j=0\n",
        "X=[]\n",
        "Y=[]\n",
        "speaker_list= os.listdir(path_dir) #00f.../ 0b.../ 0c7...\n",
        "\n",
        "for speaker in speaker_list: #00f.../ 0b.../ 0c7...\n",
        "    \n",
        "  file_list= os.listdir(path_dir+'/'+str(speaker)) # one, two, three...\n",
        "  for filename in file_list:\n",
        "    wav_list= os.listdir(path_dir + '/' + str(speaker)+ '/'+str(filename)) # wav파일\n",
        "    for wav_file in wav_list:\n",
        "      #피처 추출\n",
        "      wav_file_adress= path_dir + '/' + str(speaker)+ '/'+str(filename)+'/'+str(wav_file)\n",
        "      x= librosa.load(wav_file_adress, 160000)[0]\n",
        "      y= librosa.stft(x, n_fft= 128, hop_length= 128, win_length=128)\n",
        "\n",
        "      magnitude= np.abs(y)\n",
        "      log_spectrogram= librosa.amplitude_to_db(magnitude)\n",
        "\n",
        "\n",
        "      X.append(log_spectrogram)\n",
        "      Y.append(str(speaker))"
      ],
      "execution_count": null,
      "outputs": []
    },
    {
      "cell_type": "code",
      "metadata": {
        "id": "qqlSeM5YuOle"
      },
      "source": [
        "X=np.asarray(X)"
      ],
      "execution_count": null,
      "outputs": []
    },
    {
      "cell_type": "code",
      "metadata": {
        "colab": {
          "base_uri": "https://localhost:8080/"
        },
        "id": "Q0qC5fqAutTZ",
        "outputId": "b1a6ee56-9e8f-4302-e41d-c92acbf3fdd4"
      },
      "source": [
        "X.shape"
      ],
      "execution_count": null,
      "outputs": [
        {
          "output_type": "execute_result",
          "data": {
            "text/plain": [
              "(87, 65, 1251)"
            ]
          },
          "metadata": {
            "tags": []
          },
          "execution_count": 5
        }
      ]
    },
    {
      "cell_type": "code",
      "metadata": {
        "colab": {
          "base_uri": "https://localhost:8080/"
        },
        "id": "TWipo-2N5UeV",
        "outputId": "3429a8ff-9298-4275-bdae-ec68bf0408f0"
      },
      "source": [
        "Y= np.asarray(Y)\n",
        "## 라벨링\n",
        "from sklearn.preprocessing import LabelEncoder\n",
        "le=LabelEncoder()\n",
        "le.fit(Y)\n",
        "Y=le.transform(Y)\n",
        "Y"
      ],
      "execution_count": null,
      "outputs": [
        {
          "output_type": "execute_result",
          "data": {
            "text/plain": [
              "array([1, 1, 1, 1, 1, 1, 1, 1, 1, 1, 1, 1, 1, 1, 1, 1, 1, 1, 1, 1, 1, 1,\n",
              "       1, 1, 1, 1, 1, 1, 1, 1, 2, 2, 2, 2, 2, 2, 2, 2, 2, 2, 2, 2, 2, 2,\n",
              "       2, 2, 2, 2, 2, 2, 2, 2, 2, 2, 2, 2, 2, 2, 2, 0, 0, 0, 0, 0, 0, 0,\n",
              "       0, 0, 0, 0, 0, 0, 0, 0, 0, 0, 0, 0, 0, 0, 0, 0, 0, 0, 0, 0, 0])"
            ]
          },
          "metadata": {
            "tags": []
          },
          "execution_count": 6
        }
      ]
    },
    {
      "cell_type": "markdown",
      "metadata": {
        "id": "SVevsT-y6CRW"
      },
      "source": [
        "## train val test 분리"
      ]
    },
    {
      "cell_type": "code",
      "metadata": {
        "colab": {
          "base_uri": "https://localhost:8080/"
        },
        "id": "QEODzNYW530W",
        "outputId": "b1ca19c6-7dbe-4a6f-d516-5235f3ad4aaf"
      },
      "source": [
        "# 7 : 1.5 : 1.5로 일단 분리\n",
        "from sklearn.model_selection import train_test_split\n",
        "\n",
        "X_train, X_save, y_train, y_save= train_test_split(X, Y, test_size= 0.3)\n",
        "X_test, X_val, y_test, y_val= train_test_split(X_save, y_save, test_size= 0.5)\n",
        "\n",
        "X_train= np.asarray(X_train)\n",
        "X_val= np.asarray(X_val)\n",
        "X_test=np.asarray(X_test)\n",
        "print(X_train.shape, X_test.shape, X_val.shape)\n",
        "print(y_train.shape, y_test.shape, y_val.shape)"
      ],
      "execution_count": null,
      "outputs": [
        {
          "output_type": "stream",
          "text": [
            "(60, 65, 1251) (13, 65, 1251) (14, 65, 1251)\n",
            "(60,) (13,) (14,)\n"
          ],
          "name": "stdout"
        }
      ]
    },
    {
      "cell_type": "code",
      "metadata": {
        "id": "Y_2DfRBrTY-f"
      },
      "source": [
        "train_X= np.expand_dims(X_train, -1)\n",
        "val_X=np.expand_dims(X_val,-1)\n",
        "test_X= np.expand_dims(X_test, -1)\n"
      ],
      "execution_count": null,
      "outputs": []
    },
    {
      "cell_type": "code",
      "metadata": {
        "colab": {
          "base_uri": "https://localhost:8080/"
        },
        "id": "dhUIGsdI6SPz",
        "outputId": "84928d91-f9ea-479d-f3d9-6cf7ba75f836"
      },
      "source": [
        "from keras import models\n",
        "from keras import layers\n",
        "import keras\n",
        "from keras.layers import Dense, Conv2D, Flatten, Dropout, MaxPooling2D\n",
        "\n",
        "\n",
        "#Define Model\n",
        "model = models.Sequential()\n",
        "model.add(Conv2D(32, kernel_size=(3, 3), activation='relu', input_shape=(65, 1251,1)))\n",
        "model.add(Conv2D(64, kernel_size=(3, 3), activation='relu'))\n",
        "model.add(MaxPooling2D(pool_size=(2, 2)))\n",
        "model.add(Dropout(0.25))\n",
        "model.add(Flatten())\n",
        "model.add(Dense(128, activation='relu'))\n",
        "model.add(Dropout(0.5))\n",
        "model.add(Dense(3, activation='softmax'))\n",
        "\n",
        "model.compile(optimizer='adam',\n",
        "              loss='sparse_categorical_crossentropy',\n",
        "              metrics=['accuracy'])\n",
        "\n",
        "from keras.callbacks import EarlyStopping\n",
        "\n",
        "es = EarlyStopping(monitor='val_loss', mode='min', verbose=1)\n",
        "\n",
        "history = model.fit(train_X,\n",
        "                    y_train,\n",
        "                    validation_data=(val_X, y_val),\n",
        "                    epochs=100)"
      ],
      "execution_count": null,
      "outputs": [
        {
          "output_type": "stream",
          "text": [
            "Epoch 1/100\n",
            "2/2 [==============================] - 1s 325ms/step - loss: 1121.0328 - accuracy: 0.3271 - val_loss: 2701.5005 - val_accuracy: 0.3571\n",
            "Epoch 2/100\n",
            "2/2 [==============================] - 0s 146ms/step - loss: 2247.9061 - accuracy: 0.2826 - val_loss: 655.7681 - val_accuracy: 0.2857\n",
            "Epoch 3/100\n",
            "2/2 [==============================] - 0s 143ms/step - loss: 988.0796 - accuracy: 0.3910 - val_loss: 245.1288 - val_accuracy: 0.3571\n",
            "Epoch 4/100\n",
            "2/2 [==============================] - 0s 150ms/step - loss: 228.6500 - accuracy: 0.3924 - val_loss: 2.2977e-04 - val_accuracy: 1.0000\n",
            "Epoch 5/100\n",
            "2/2 [==============================] - 0s 149ms/step - loss: 37.3458 - accuracy: 0.6486 - val_loss: 19.0795 - val_accuracy: 0.3571\n",
            "Epoch 6/100\n",
            "2/2 [==============================] - 0s 145ms/step - loss: 22.8029 - accuracy: 0.4354 - val_loss: 7.8128 - val_accuracy: 0.6429\n",
            "Epoch 7/100\n",
            "2/2 [==============================] - 0s 144ms/step - loss: 7.6730 - accuracy: 0.6958 - val_loss: 5.0834 - val_accuracy: 0.7143\n",
            "Epoch 8/100\n",
            "2/2 [==============================] - 0s 145ms/step - loss: 7.2301 - accuracy: 0.6736 - val_loss: 0.4016 - val_accuracy: 0.7857\n",
            "Epoch 9/100\n",
            "2/2 [==============================] - 0s 146ms/step - loss: 5.9537 - accuracy: 0.7618 - val_loss: 0.0625 - val_accuracy: 1.0000\n",
            "Epoch 10/100\n",
            "2/2 [==============================] - 0s 146ms/step - loss: 1.2313 - accuracy: 0.8917 - val_loss: 1.5451e-04 - val_accuracy: 1.0000\n",
            "Epoch 11/100\n",
            "2/2 [==============================] - 0s 145ms/step - loss: 0.5395 - accuracy: 0.9132 - val_loss: 1.0235 - val_accuracy: 0.8571\n",
            "Epoch 12/100\n",
            "2/2 [==============================] - 0s 149ms/step - loss: 1.4164 - accuracy: 0.8597 - val_loss: 0.0174 - val_accuracy: 1.0000\n",
            "Epoch 13/100\n",
            "2/2 [==============================] - 0s 148ms/step - loss: 0.3905 - accuracy: 0.9236 - val_loss: 0.0789 - val_accuracy: 0.9286\n",
            "Epoch 14/100\n",
            "2/2 [==============================] - 0s 146ms/step - loss: 1.1738 - accuracy: 0.8896 - val_loss: 2.5000 - val_accuracy: 0.7143\n",
            "Epoch 15/100\n",
            "2/2 [==============================] - 0s 143ms/step - loss: 1.9484 - accuracy: 0.7507 - val_loss: 1.9993 - val_accuracy: 0.7143\n",
            "Epoch 16/100\n",
            "2/2 [==============================] - 0s 157ms/step - loss: 1.7864 - accuracy: 0.7826 - val_loss: 1.5392 - val_accuracy: 0.7143\n",
            "Epoch 17/100\n",
            "2/2 [==============================] - 0s 148ms/step - loss: 1.4526 - accuracy: 0.8375 - val_loss: 1.0386 - val_accuracy: 0.7143\n",
            "Epoch 18/100\n",
            "2/2 [==============================] - 0s 147ms/step - loss: 1.1703 - accuracy: 0.8694 - val_loss: 0.6303 - val_accuracy: 0.7857\n",
            "Epoch 19/100\n",
            "2/2 [==============================] - 0s 144ms/step - loss: 2.0714 - accuracy: 0.8486 - val_loss: 0.4011 - val_accuracy: 0.7857\n",
            "Epoch 20/100\n",
            "2/2 [==============================] - 0s 144ms/step - loss: 0.4455 - accuracy: 0.8806 - val_loss: 0.2986 - val_accuracy: 0.7857\n",
            "Epoch 21/100\n",
            "2/2 [==============================] - 0s 146ms/step - loss: 0.7534 - accuracy: 0.8910 - val_loss: 0.2434 - val_accuracy: 0.7857\n",
            "Epoch 22/100\n",
            "2/2 [==============================] - 0s 145ms/step - loss: 0.1566 - accuracy: 0.9458 - val_loss: 0.2070 - val_accuracy: 0.7857\n",
            "Epoch 23/100\n",
            "2/2 [==============================] - 0s 145ms/step - loss: 0.4113 - accuracy: 0.9243 - val_loss: 0.1788 - val_accuracy: 0.8571\n",
            "Epoch 24/100\n",
            "2/2 [==============================] - 0s 144ms/step - loss: 0.3119 - accuracy: 0.9354 - val_loss: 0.1578 - val_accuracy: 0.9286\n",
            "Epoch 25/100\n",
            "2/2 [==============================] - 0s 147ms/step - loss: 0.0936 - accuracy: 0.9674 - val_loss: 0.1408 - val_accuracy: 1.0000\n",
            "Epoch 26/100\n",
            "2/2 [==============================] - 0s 145ms/step - loss: 0.0863 - accuracy: 0.9785 - val_loss: 0.1274 - val_accuracy: 1.0000\n",
            "Epoch 27/100\n",
            "2/2 [==============================] - 0s 147ms/step - loss: 0.1207 - accuracy: 0.9569 - val_loss: 0.1157 - val_accuracy: 1.0000\n",
            "Epoch 28/100\n",
            "2/2 [==============================] - 0s 146ms/step - loss: 0.0700 - accuracy: 0.9889 - val_loss: 0.1051 - val_accuracy: 1.0000\n",
            "Epoch 29/100\n",
            "2/2 [==============================] - 0s 156ms/step - loss: 0.0307 - accuracy: 1.0000 - val_loss: 0.0956 - val_accuracy: 1.0000\n",
            "Epoch 30/100\n",
            "2/2 [==============================] - 0s 147ms/step - loss: 0.0826 - accuracy: 0.9674 - val_loss: 0.0873 - val_accuracy: 1.0000\n",
            "Epoch 31/100\n",
            "2/2 [==============================] - 0s 147ms/step - loss: 0.3212 - accuracy: 0.9674 - val_loss: 0.0790 - val_accuracy: 1.0000\n",
            "Epoch 32/100\n",
            "2/2 [==============================] - 0s 146ms/step - loss: 0.0375 - accuracy: 0.9889 - val_loss: 0.0719 - val_accuracy: 1.0000\n",
            "Epoch 33/100\n",
            "2/2 [==============================] - 0s 149ms/step - loss: 0.1825 - accuracy: 0.9778 - val_loss: 0.0656 - val_accuracy: 1.0000\n",
            "Epoch 34/100\n",
            "2/2 [==============================] - 0s 145ms/step - loss: 0.1660 - accuracy: 0.9354 - val_loss: 0.0588 - val_accuracy: 1.0000\n",
            "Epoch 35/100\n",
            "2/2 [==============================] - 0s 148ms/step - loss: 0.0452 - accuracy: 0.9785 - val_loss: 0.0529 - val_accuracy: 1.0000\n",
            "Epoch 36/100\n",
            "2/2 [==============================] - 0s 144ms/step - loss: 0.0562 - accuracy: 0.9785 - val_loss: 0.0481 - val_accuracy: 1.0000\n",
            "Epoch 37/100\n",
            "2/2 [==============================] - 0s 144ms/step - loss: 0.0363 - accuracy: 0.9785 - val_loss: 0.0439 - val_accuracy: 1.0000\n",
            "Epoch 38/100\n",
            "2/2 [==============================] - 0s 145ms/step - loss: 0.0218 - accuracy: 0.9889 - val_loss: 0.0400 - val_accuracy: 1.0000\n",
            "Epoch 39/100\n",
            "2/2 [==============================] - 0s 146ms/step - loss: 0.0312 - accuracy: 0.9889 - val_loss: 0.0369 - val_accuracy: 1.0000\n",
            "Epoch 40/100\n",
            "2/2 [==============================] - 0s 144ms/step - loss: 0.0363 - accuracy: 1.0000 - val_loss: 0.0337 - val_accuracy: 1.0000\n",
            "Epoch 41/100\n",
            "2/2 [==============================] - 0s 144ms/step - loss: 0.1956 - accuracy: 0.9674 - val_loss: 0.0289 - val_accuracy: 1.0000\n",
            "Epoch 42/100\n",
            "2/2 [==============================] - 0s 146ms/step - loss: 0.0295 - accuracy: 0.9785 - val_loss: 0.0251 - val_accuracy: 1.0000\n",
            "Epoch 43/100\n",
            "2/2 [==============================] - 0s 150ms/step - loss: 0.0147 - accuracy: 1.0000 - val_loss: 0.0220 - val_accuracy: 1.0000\n",
            "Epoch 44/100\n",
            "2/2 [==============================] - 0s 147ms/step - loss: 0.0333 - accuracy: 1.0000 - val_loss: 0.0192 - val_accuracy: 1.0000\n",
            "Epoch 45/100\n",
            "2/2 [==============================] - 0s 146ms/step - loss: 0.0403 - accuracy: 0.9889 - val_loss: 0.0168 - val_accuracy: 1.0000\n",
            "Epoch 46/100\n",
            "2/2 [==============================] - 0s 144ms/step - loss: 0.0234 - accuracy: 0.9889 - val_loss: 0.0148 - val_accuracy: 1.0000\n",
            "Epoch 47/100\n",
            "2/2 [==============================] - 0s 146ms/step - loss: 0.0172 - accuracy: 1.0000 - val_loss: 0.0129 - val_accuracy: 1.0000\n",
            "Epoch 48/100\n",
            "2/2 [==============================] - 0s 146ms/step - loss: 0.0342 - accuracy: 0.9889 - val_loss: 0.0113 - val_accuracy: 1.0000\n",
            "Epoch 49/100\n",
            "2/2 [==============================] - 0s 147ms/step - loss: 0.0185 - accuracy: 0.9889 - val_loss: 0.0101 - val_accuracy: 1.0000\n",
            "Epoch 50/100\n",
            "2/2 [==============================] - 0s 146ms/step - loss: 0.0123 - accuracy: 1.0000 - val_loss: 0.0090 - val_accuracy: 1.0000\n",
            "Epoch 51/100\n",
            "2/2 [==============================] - 0s 150ms/step - loss: 0.0059 - accuracy: 1.0000 - val_loss: 0.0082 - val_accuracy: 1.0000\n",
            "Epoch 52/100\n",
            "2/2 [==============================] - 0s 146ms/step - loss: 0.0120 - accuracy: 1.0000 - val_loss: 0.0076 - val_accuracy: 1.0000\n",
            "Epoch 53/100\n",
            "2/2 [==============================] - 0s 145ms/step - loss: 0.0054 - accuracy: 1.0000 - val_loss: 0.0069 - val_accuracy: 1.0000\n",
            "Epoch 54/100\n",
            "2/2 [==============================] - 0s 145ms/step - loss: 0.0034 - accuracy: 1.0000 - val_loss: 0.0064 - val_accuracy: 1.0000\n",
            "Epoch 55/100\n",
            "2/2 [==============================] - 0s 148ms/step - loss: 0.0057 - accuracy: 1.0000 - val_loss: 0.0059 - val_accuracy: 1.0000\n",
            "Epoch 56/100\n",
            "2/2 [==============================] - 0s 145ms/step - loss: 0.0057 - accuracy: 1.0000 - val_loss: 0.0055 - val_accuracy: 1.0000\n",
            "Epoch 57/100\n",
            "2/2 [==============================] - 0s 147ms/step - loss: 0.0253 - accuracy: 0.9785 - val_loss: 0.0051 - val_accuracy: 1.0000\n",
            "Epoch 58/100\n",
            "2/2 [==============================] - 0s 146ms/step - loss: 0.0010 - accuracy: 1.0000 - val_loss: 0.0048 - val_accuracy: 1.0000\n",
            "Epoch 59/100\n",
            "2/2 [==============================] - 0s 152ms/step - loss: 0.0197 - accuracy: 0.9889 - val_loss: 0.0045 - val_accuracy: 1.0000\n",
            "Epoch 60/100\n",
            "2/2 [==============================] - 0s 148ms/step - loss: 0.0085 - accuracy: 1.0000 - val_loss: 0.0046 - val_accuracy: 1.0000\n",
            "Epoch 61/100\n",
            "2/2 [==============================] - 0s 146ms/step - loss: 0.0105 - accuracy: 1.0000 - val_loss: 0.0046 - val_accuracy: 1.0000\n",
            "Epoch 62/100\n",
            "2/2 [==============================] - 0s 148ms/step - loss: 0.0177 - accuracy: 1.0000 - val_loss: 0.0046 - val_accuracy: 1.0000\n",
            "Epoch 63/100\n",
            "2/2 [==============================] - 0s 150ms/step - loss: 0.0365 - accuracy: 0.9785 - val_loss: 0.0045 - val_accuracy: 1.0000\n",
            "Epoch 64/100\n",
            "2/2 [==============================] - 0s 144ms/step - loss: 0.0365 - accuracy: 0.9889 - val_loss: 0.0046 - val_accuracy: 1.0000\n",
            "Epoch 65/100\n",
            "2/2 [==============================] - 0s 147ms/step - loss: 2.9220e-04 - accuracy: 1.0000 - val_loss: 0.0047 - val_accuracy: 1.0000\n",
            "Epoch 66/100\n",
            "2/2 [==============================] - 0s 148ms/step - loss: 0.0058 - accuracy: 1.0000 - val_loss: 0.0048 - val_accuracy: 1.0000\n",
            "Epoch 67/100\n",
            "2/2 [==============================] - 0s 147ms/step - loss: 0.0147 - accuracy: 1.0000 - val_loss: 0.0048 - val_accuracy: 1.0000\n",
            "Epoch 68/100\n",
            "2/2 [==============================] - 0s 143ms/step - loss: 0.0103 - accuracy: 1.0000 - val_loss: 0.0047 - val_accuracy: 1.0000\n",
            "Epoch 69/100\n",
            "2/2 [==============================] - 0s 146ms/step - loss: 4.7713e-04 - accuracy: 1.0000 - val_loss: 0.0047 - val_accuracy: 1.0000\n",
            "Epoch 70/100\n",
            "2/2 [==============================] - 0s 145ms/step - loss: 0.0087 - accuracy: 1.0000 - val_loss: 0.0046 - val_accuracy: 1.0000\n",
            "Epoch 71/100\n",
            "2/2 [==============================] - 0s 151ms/step - loss: 0.0081 - accuracy: 1.0000 - val_loss: 0.0045 - val_accuracy: 1.0000\n",
            "Epoch 72/100\n",
            "2/2 [==============================] - 0s 147ms/step - loss: 0.0044 - accuracy: 1.0000 - val_loss: 0.0044 - val_accuracy: 1.0000\n",
            "Epoch 73/100\n",
            "2/2 [==============================] - 0s 148ms/step - loss: 0.0294 - accuracy: 0.9889 - val_loss: 0.0042 - val_accuracy: 1.0000\n",
            "Epoch 74/100\n",
            "2/2 [==============================] - 0s 145ms/step - loss: 0.0188 - accuracy: 0.9785 - val_loss: 0.0041 - val_accuracy: 1.0000\n",
            "Epoch 75/100\n",
            "2/2 [==============================] - 0s 147ms/step - loss: 0.0020 - accuracy: 1.0000 - val_loss: 0.0039 - val_accuracy: 1.0000\n",
            "Epoch 76/100\n",
            "2/2 [==============================] - 0s 145ms/step - loss: 0.0239 - accuracy: 0.9785 - val_loss: 0.0037 - val_accuracy: 1.0000\n",
            "Epoch 77/100\n",
            "2/2 [==============================] - 0s 143ms/step - loss: 9.8398e-04 - accuracy: 1.0000 - val_loss: 0.0036 - val_accuracy: 1.0000\n",
            "Epoch 78/100\n",
            "2/2 [==============================] - 0s 145ms/step - loss: 0.0018 - accuracy: 1.0000 - val_loss: 0.0035 - val_accuracy: 1.0000\n",
            "Epoch 79/100\n",
            "2/2 [==============================] - 0s 146ms/step - loss: 0.0021 - accuracy: 1.0000 - val_loss: 0.0033 - val_accuracy: 1.0000\n",
            "Epoch 80/100\n",
            "2/2 [==============================] - 0s 146ms/step - loss: 0.0041 - accuracy: 1.0000 - val_loss: 0.0032 - val_accuracy: 1.0000\n",
            "Epoch 81/100\n",
            "2/2 [==============================] - 0s 146ms/step - loss: 0.0235 - accuracy: 0.9889 - val_loss: 0.0031 - val_accuracy: 1.0000\n",
            "Epoch 82/100\n",
            "2/2 [==============================] - 0s 148ms/step - loss: 2.4147e-04 - accuracy: 1.0000 - val_loss: 0.0029 - val_accuracy: 1.0000\n",
            "Epoch 83/100\n",
            "2/2 [==============================] - 0s 148ms/step - loss: 0.0036 - accuracy: 1.0000 - val_loss: 0.0028 - val_accuracy: 1.0000\n",
            "Epoch 84/100\n",
            "2/2 [==============================] - 0s 145ms/step - loss: 0.0025 - accuracy: 1.0000 - val_loss: 0.0027 - val_accuracy: 1.0000\n",
            "Epoch 85/100\n",
            "2/2 [==============================] - 0s 145ms/step - loss: 4.2883e-04 - accuracy: 1.0000 - val_loss: 0.0026 - val_accuracy: 1.0000\n",
            "Epoch 86/100\n",
            "2/2 [==============================] - 0s 151ms/step - loss: 0.0121 - accuracy: 1.0000 - val_loss: 0.0025 - val_accuracy: 1.0000\n",
            "Epoch 87/100\n",
            "2/2 [==============================] - 0s 144ms/step - loss: 0.0051 - accuracy: 1.0000 - val_loss: 0.0024 - val_accuracy: 1.0000\n",
            "Epoch 88/100\n",
            "2/2 [==============================] - 0s 144ms/step - loss: 0.0055 - accuracy: 1.0000 - val_loss: 0.0023 - val_accuracy: 1.0000\n",
            "Epoch 89/100\n",
            "2/2 [==============================] - 0s 145ms/step - loss: 6.4674e-04 - accuracy: 1.0000 - val_loss: 0.0022 - val_accuracy: 1.0000\n",
            "Epoch 90/100\n",
            "2/2 [==============================] - 0s 144ms/step - loss: 0.0117 - accuracy: 0.9889 - val_loss: 0.0021 - val_accuracy: 1.0000\n",
            "Epoch 91/100\n",
            "2/2 [==============================] - 0s 147ms/step - loss: 0.3637 - accuracy: 0.9569 - val_loss: 0.0020 - val_accuracy: 1.0000\n",
            "Epoch 92/100\n",
            "2/2 [==============================] - 0s 146ms/step - loss: 0.0035 - accuracy: 1.0000 - val_loss: 0.0019 - val_accuracy: 1.0000\n",
            "Epoch 93/100\n",
            "2/2 [==============================] - 0s 147ms/step - loss: 3.6572e-04 - accuracy: 1.0000 - val_loss: 0.0019 - val_accuracy: 1.0000\n",
            "Epoch 94/100\n",
            "2/2 [==============================] - 0s 144ms/step - loss: 0.0062 - accuracy: 1.0000 - val_loss: 0.0018 - val_accuracy: 1.0000\n",
            "Epoch 95/100\n",
            "2/2 [==============================] - 0s 146ms/step - loss: 6.7643e-04 - accuracy: 1.0000 - val_loss: 0.0017 - val_accuracy: 1.0000\n",
            "Epoch 96/100\n",
            "2/2 [==============================] - 0s 145ms/step - loss: 0.0091 - accuracy: 0.9889 - val_loss: 0.0017 - val_accuracy: 1.0000\n",
            "Epoch 97/100\n",
            "2/2 [==============================] - 0s 146ms/step - loss: 0.0297 - accuracy: 0.9785 - val_loss: 0.0017 - val_accuracy: 1.0000\n",
            "Epoch 98/100\n",
            "2/2 [==============================] - 0s 145ms/step - loss: 0.0020 - accuracy: 1.0000 - val_loss: 0.0017 - val_accuracy: 1.0000\n",
            "Epoch 99/100\n",
            "2/2 [==============================] - 0s 144ms/step - loss: 0.0202 - accuracy: 1.0000 - val_loss: 0.0017 - val_accuracy: 1.0000\n",
            "Epoch 100/100\n",
            "2/2 [==============================] - 0s 142ms/step - loss: 0.0079 - accuracy: 1.0000 - val_loss: 0.0016 - val_accuracy: 1.0000\n"
          ],
          "name": "stdout"
        }
      ]
    },
    {
      "cell_type": "code",
      "metadata": {
        "colab": {
          "base_uri": "https://localhost:8080/"
        },
        "id": "L-i8UWu97YlC",
        "outputId": "cd55ce9c-aa4c-41c9-e46a-6bb0cd548671"
      },
      "source": [
        "model.summary()"
      ],
      "execution_count": null,
      "outputs": [
        {
          "output_type": "stream",
          "text": [
            "Model: \"sequential_2\"\n",
            "_________________________________________________________________\n",
            "Layer (type)                 Output Shape              Param #   \n",
            "=================================================================\n",
            "conv2d_4 (Conv2D)            (None, 63, 1249, 32)      320       \n",
            "_________________________________________________________________\n",
            "conv2d_5 (Conv2D)            (None, 61, 1247, 64)      18496     \n",
            "_________________________________________________________________\n",
            "max_pooling2d_2 (MaxPooling2 (None, 30, 623, 64)       0         \n",
            "_________________________________________________________________\n",
            "dropout_4 (Dropout)          (None, 30, 623, 64)       0         \n",
            "_________________________________________________________________\n",
            "flatten_2 (Flatten)          (None, 1196160)           0         \n",
            "_________________________________________________________________\n",
            "dense_4 (Dense)              (None, 128)               153108608 \n",
            "_________________________________________________________________\n",
            "dropout_5 (Dropout)          (None, 128)               0         \n",
            "_________________________________________________________________\n",
            "dense_5 (Dense)              (None, 3)                 387       \n",
            "=================================================================\n",
            "Total params: 153,127,811\n",
            "Trainable params: 153,127,811\n",
            "Non-trainable params: 0\n",
            "_________________________________________________________________\n"
          ],
          "name": "stdout"
        }
      ]
    },
    {
      "cell_type": "code",
      "metadata": {
        "colab": {
          "base_uri": "https://localhost:8080/",
          "height": 324
        },
        "id": "Cs6T7kTPXXHW",
        "outputId": "74935296-5a8e-4152-df70-06d61201c10e"
      },
      "source": [
        "pd.DataFrame(history.history).plot(figsize=(8,5))\n",
        "plt.grid(True)\n",
        "plt.gca().set_ylim(0,1)\n",
        "plt.show()"
      ],
      "execution_count": null,
      "outputs": [
        {
          "output_type": "display_data",
          "data": {
            "image/png": "[encoded data removed]",
            "text/plain": [
              "<Figure size 576x360 with 1 Axes>"
            ]
          },
          "metadata": {
            "tags": [],
            "needs_background": "light"
          }
        }
      ]
    },
    {
      "cell_type": "code",
      "metadata": {
        "colab": {
          "base_uri": "https://localhost:8080/"
        },
        "id": "_RVVJjW7XapJ",
        "outputId": "3a2762e4-9e9a-424a-d04d-2075ab28ff32"
      },
      "source": [
        "## Evaluate\n",
        "\n",
        "test_loss, test_mae= model.evaluate(test_X, y_test)"
      ],
      "execution_count": null,
      "outputs": [
        {
          "output_type": "stream",
          "text": [
            "1/1 [==============================] - 0s 33ms/step - loss: 0.0027 - accuracy: 1.0000\n"
          ],
          "name": "stdout"
        }
      ]
    },
    {
      "cell_type": "code",
      "metadata": {
        "colab": {
          "base_uri": "https://localhost:8080/"
        },
        "id": "u7JL7TIpXenP",
        "outputId": "a7e1af35-e045-4069-fd67-a55d0852e8f9"
      },
      "source": [
        "test_prediction= model.predict(test_X)\n",
        "test_prediction"
      ],
      "execution_count": null,
      "outputs": [
        {
          "output_type": "execute_result",
          "data": {
            "text/plain": [
              "array([[9.65746582e-01, 3.38853449e-02, 3.68066307e-04],\n",
              "       [9.99785960e-01, 2.13905674e-04, 1.40473318e-07],\n",
              "       [0.00000000e+00, 0.00000000e+00, 1.00000000e+00],\n",
              "       [9.99990582e-01, 8.90190131e-06, 4.19533677e-07],\n",
              "       [0.00000000e+00, 0.00000000e+00, 1.00000000e+00],\n",
              "       [0.00000000e+00, 1.00000000e+00, 7.94719644e-29],\n",
              "       [0.00000000e+00, 0.00000000e+00, 1.00000000e+00],\n",
              "       [5.18152494e-23, 1.00000000e+00, 5.89166777e-14],\n",
              "       [0.00000000e+00, 1.00000000e+00, 2.89324660e-35],\n",
              "       [4.86013846e-21, 1.00000000e+00, 1.06085286e-10],\n",
              "       [9.99997616e-01, 1.91705021e-06, 5.24623374e-07],\n",
              "       [0.00000000e+00, 0.00000000e+00, 1.00000000e+00],\n",
              "       [1.27817345e-26, 1.00000000e+00, 4.69801960e-17]], dtype=float32)"
            ]
          },
          "metadata": {
            "tags": []
          },
          "execution_count": 34
        }
      ]
    },
    {
      "cell_type": "code",
      "metadata": {
        "id": "mJWXwLS2Zfyd",
        "colab": {
          "base_uri": "https://localhost:8080/"
        },
        "outputId": "f50a104a-2fa4-4494-def6-4fa606923157"
      },
      "source": [
        "y_test"
      ],
      "execution_count": null,
      "outputs": [
        {
          "output_type": "execute_result",
          "data": {
            "text/plain": [
              "array([0, 0, 2, 0, 2, 1, 2, 1, 1, 1, 0, 2, 1])"
            ]
          },
          "metadata": {
            "tags": []
          },
          "execution_count": 28
        }
      ]
    },
    {
      "cell_type": "code",
      "metadata": {
        "colab": {
          "base_uri": "https://localhost:8080/",
          "height": 596
        },
        "id": "YL04sIYR4Im2",
        "outputId": "77dcd1da-b1ad-46b4-f615-b19bc1a55596"
      },
      "source": [
        "import seaborn as sns\n",
        "\n",
        "value= test_prediction\n",
        "x=[0, 1 ,2]\n",
        "df_eval= pd.DataFrame(value, columns=x, index= y_test)\n",
        "\n",
        "fig, ax = plt.subplots(figsize=(18,10))    # figsize\n",
        "\n",
        "ax = sns.heatmap(df_eval,\n",
        "                 cmap=\"Reds\",           # cmap Color\n",
        "                 annot=True,            # Value Text\n",
        "                 fmt=\".2f\",             # Value type (interge = \"d\")\n",
        "                 linewidths=2)"
      ],
      "execution_count": null,
      "outputs": [
        {
          "output_type": "display_data",
          "data": {
            "image/png": "[encoded data removed]",
            "text/plain": [
              "<Figure size 1296x720 with 2 Axes>"
            ]
          },
          "metadata": {
            "tags": [],
            "needs_background": "light"
          }
        }
      ]
    },
    {
      "cell_type": "code",
      "metadata": {
        "id": "P-xHjrMt5Udu"
      },
      "source": [
        ""
      ],
      "execution_count": null,
      "outputs": []
    }
  ]
}