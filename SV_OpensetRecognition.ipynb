{
  "nbformat": 4,
  "nbformat_minor": 0,
  "metadata": {
    "colab": {
      "name": "SV_OpensetRecognition",
      "provenance": [],
      "collapsed_sections": [],
      "machine_shape": "hm",
      "authorship_tag": "ABX9TyM4uwGXw6x+xcjt7q48Sudq",
      "include_colab_link": true
    },
    "kernelspec": {
      "name": "python3",
      "display_name": "Python 3"
    },
    "language_info": {
      "name": "python"
    },
    "accelerator": "GPU"
  },
  "cells": [
    {
      "cell_type": "markdown",
      "metadata": {
        "id": "view-in-github",
        "colab_type": "text"
      },
      "source": [
        "<a href=\"https://colab.research.google.com/github/imeunu/Capstone_PBL/blob/main/SV_OpensetRecognition.ipynb\" target=\"_parent\"><img src=\"https://colab.research.google.com/assets/colab-badge.svg\" alt=\"Open In Colab\"/></a>"
      ]
    },
    {
      "cell_type": "code",
      "metadata": {
        "colab": {
          "base_uri": "https://localhost:8080/"
        },
        "id": "er_yx-s-wNI4",
        "outputId": "eaa50c1e-64a8-4fa7-c137-57d8f2e0af69"
      },
      "source": [
        "from google.colab import drive\n",
        "drive.mount('/content/drive')"
      ],
      "execution_count": 1,
      "outputs": [
        {
          "output_type": "stream",
          "text": [
            "Mounted at /content/drive\n"
          ],
          "name": "stdout"
        }
      ]
    },
    {
      "cell_type": "code",
      "metadata": {
        "id": "W8vqyzPvwkZ_"
      },
      "source": [
        "import os\n",
        "import csv\n",
        "import pandas as pd\n",
        "import numpy as np\n",
        "import matplotlib.pyplot as plt\n",
        "\n",
        "\n",
        "import tensorflow as tf"
      ],
      "execution_count": 566,
      "outputs": []
    },
    {
      "cell_type": "code",
      "metadata": {
        "id": "ergvduMlwsco",
        "colab": {
          "base_uri": "https://localhost:8080/"
        },
        "outputId": "e2c182a4-8cea-41d8-c0a5-d83d9f7ce5a7"
      },
      "source": [
        "mfcc_folder_path= '/content/drive/MyDrive/화자인식/Preprocessed_mfcc'\n",
        "list_word_folder= os.listdir(mfcc_folder_path)\n",
        "list_word_folder"
      ],
      "execution_count": 567,
      "outputs": [
        {
          "output_type": "execute_result",
          "data": {
            "text/plain": [
              "['sheila',\n",
              " 'six',\n",
              " 'up',\n",
              " 'two',\n",
              " 'three',\n",
              " 'stop',\n",
              " 'wow',\n",
              " 'zero',\n",
              " 'tree',\n",
              " 'yes',\n",
              " 'no',\n",
              " 'on',\n",
              " 'marvin',\n",
              " 'one',\n",
              " 'left',\n",
              " 'right',\n",
              " 'off',\n",
              " 'nine',\n",
              " 'seven',\n",
              " 'house',\n",
              " 'eight',\n",
              " 'dog',\n",
              " 'bed',\n",
              " 'happy',\n",
              " 'five',\n",
              " 'go',\n",
              " 'bird',\n",
              " 'four',\n",
              " 'down',\n",
              " 'cat']"
            ]
          },
          "metadata": {
            "tags": []
          },
          "execution_count": 567
        }
      ]
    },
    {
      "cell_type": "code",
      "metadata": {
        "id": "JItB9rtvwuF5"
      },
      "source": [
        "ver_X= []\n",
        "ver_Y= []\n",
        "unver_X=[]\n",
        "unver_Y=[]\n",
        "ver_list=['0b77ee66', '0b40aa8e', '1a5b9ca4']  # 등록할 화자들\n",
        "for word in list_word_folder:\n",
        "  word_dir= mfcc_folder_path+'/'+word\n",
        "  list_csv= os.listdir(word_dir)\n",
        "  for file in list_csv: # 등록할 데이터 저장\n",
        "    if file.split('_')[2] in ver_list:\n",
        "      csv_dir= word_dir+'/'+file\n",
        "      data= np.genfromtxt(csv_dir, delimiter=',', dtype= float)\n",
        "      ver_X.append(data)\n",
        "      \n",
        "      if file.split('_')[2]==ver_list[0]:\n",
        "        ver_Y.append(0)\n",
        "      elif file.split('_')[2]== ver_list[1]:\n",
        "        ver_Y.append(1)\n",
        "      else:\n",
        "        ver_Y.append(2)\n",
        "    else: # 등록되지 않은 데이터 저장\n",
        "      csv_dir= word_dir+'/'+file\n",
        "      data= np.genfromtxt(csv_dir, delimiter=',', dtype=float)\n",
        "      unver_X.append(data)\n",
        "      unver_Y.append(3)"
      ],
      "execution_count": 729,
      "outputs": []
    },
    {
      "cell_type": "code",
      "metadata": {
        "colab": {
          "base_uri": "https://localhost:8080/"
        },
        "id": "K9__sW39yXu8",
        "outputId": "12eede87-ccbd-49bf-ebae-92628b7a5b4a"
      },
      "source": [
        "ver_X= np.asarray(ver_X)\n",
        "unver_X= np.asarray(unver_X)\n",
        "print('shape of verified X:', ver_X.shape,\n",
        "      '\\nshape of unverified X:', unver_X.shape)"
      ],
      "execution_count": 730,
      "outputs": [
        {
          "output_type": "stream",
          "text": [
            "shape of verified X: (79, 196, 14) \n",
            "shape of unverified X: (184, 196, 14)\n"
          ],
          "name": "stdout"
        }
      ]
    },
    {
      "cell_type": "code",
      "metadata": {
        "colab": {
          "base_uri": "https://localhost:8080/"
        },
        "id": "S8gKBrPdyc1S",
        "outputId": "50b4c9b6-783c-45d1-e5d2-c7d9119ff8ad"
      },
      "source": [
        "ver_Y= np.asarray(ver_Y)\n",
        "unver_Y= np.asarray(unver_Y)\n",
        "print('shape of verified Y:', ver_Y.shape,\n",
        "      '\\nshape of unverified Y:', unver_Y.shape)"
      ],
      "execution_count": 731,
      "outputs": [
        {
          "output_type": "stream",
          "text": [
            "shape of verified Y: (79,) \n",
            "shape of unverified Y: (184,)\n"
          ],
          "name": "stdout"
        }
      ]
    },
    {
      "cell_type": "code",
      "metadata": {
        "colab": {
          "base_uri": "https://localhost:8080/"
        },
        "id": "GQhQkADYyeTm",
        "outputId": "4752cbd6-9420-46a5-ef28-4cbc3a3d979e"
      },
      "source": [
        "from sklearn.model_selection import train_test_split\n",
        "## 7: 1.5: 1.5 로 분리\n",
        "## Stratifiy를 이용해서 데이터 불균형 해소\n",
        "ver_X_train, X_save, ver_y_train, y_save= train_test_split(ver_X, ver_Y, test_size= 0.3, stratify= ver_Y)\n",
        "ver_X_test, ver_X_val, ver_y_test, ver_y_val= train_test_split(X_save, y_save, test_size= 0.5, stratify= y_save)\n",
        "\n",
        "ver_X_train= np.asarray(ver_X_train)\n",
        "ver_X_val= np.asarray(ver_X_val)\n",
        "ver_X_test=np.asarray(ver_X_test)\n",
        "print(ver_X_train.shape, ver_X_test.shape, ver_X_val.shape)\n",
        "print(ver_y_train.shape, ver_y_test.shape, ver_y_val.shape)"
      ],
      "execution_count": 741,
      "outputs": [
        {
          "output_type": "stream",
          "text": [
            "(55, 196, 14) (12, 196, 14) (12, 196, 14)\n",
            "(55,) (12,) (12,)\n"
          ],
          "name": "stdout"
        }
      ]
    },
    {
      "cell_type": "code",
      "metadata": {
        "colab": {
          "base_uri": "https://localhost:8080/"
        },
        "id": "GwpYu3CqDCEw",
        "outputId": "fc933d25-0569-40d7-f33b-e36845a475a8"
      },
      "source": [
        "# test set을 unver 과 합치기\n",
        "X_test= np.concatenate((ver_X_test, unver_X), axis=0)\n",
        "y_test= np.concatenate((ver_y_test, unver_Y), axis=0)\n",
        "print(X_test.shape, y_test.shape)"
      ],
      "execution_count": 740,
      "outputs": [
        {
          "output_type": "stream",
          "text": [
            "(196, 196, 14) (196,)\n"
          ],
          "name": "stdout"
        }
      ]
    },
    {
      "cell_type": "code",
      "metadata": {
        "id": "7LIu_vGBzKTD",
        "colab": {
          "base_uri": "https://localhost:8080/"
        },
        "outputId": "880ee30d-f063-4407-d29a-950fa3982460"
      },
      "source": [
        "## 차원 확장\n",
        "ver_X_train= np.expand_dims(ver_X_train, -1)\n",
        "ver_X_val= np.expand_dims(ver_X_val, -1)\n",
        "X_test= np.expand_dims(X_test, -1)\n",
        "print('shape of ver_X_train:', ver_X_train.shape,\n",
        "      '\\nshape of ver_X_val:', ver_X_val.shape,\n",
        "      '\\nshape of X_test:', X_test.shape)"
      ],
      "execution_count": 742,
      "outputs": [
        {
          "output_type": "stream",
          "text": [
            "shape of ver_X_train: (55, 196, 14, 1) \n",
            "shape of ver_X_val: (12, 196, 14, 1) \n",
            "shape of X_test: (196, 196, 14, 1)\n"
          ],
          "name": "stdout"
        }
      ]
    },
    {
      "cell_type": "code",
      "metadata": {
        "id": "vs5pBZ3qzMEW"
      },
      "source": [
        "from keras import models\n",
        "from keras import layers\n",
        "import keras\n",
        "from keras.layers import Dense, Conv2D, Flatten, Dropout, AveragePooling2D, BatchNormalization\n",
        "from tensorflow.keras import optimizers,regularizers\n",
        "\n",
        "model = models.Sequential()\n",
        "model.add(Conv2D(64,7, activation='relu',padding= 'same', input_shape=(196, 14, 1)))\n",
        "model.add(MaxPooling2D(2))\n",
        "model.add(Conv2D(128,3,activation='relu',padding='same'))\n",
        "model.add(Conv2D(128,3,activation='relu',padding='same'))\n",
        "model.add(MaxPooling2D(2))\n",
        "model.add(Conv2D(256,3,activation='relu',padding='same'))\n",
        "model.add(Conv2D(256,3,activation='relu',padding='same'))\n",
        "model.add(Flatten())\n",
        "model.add(Dense(128, activation='relu'))\n",
        "model.add(Dropout(0.5))\n",
        "model.add(Dense(64, activation='relu'))\n",
        "model.add(Dropout(0.5))\n",
        "model.add(Dense(3, activation='softmax'))\n",
        "\n",
        "\n",
        "model.compile(optimizer='adam',\n",
        "              loss='sparse_categorical_crossentropy',\n",
        "              metrics=['accuracy'])"
      ],
      "execution_count": 743,
      "outputs": []
    },
    {
      "cell_type": "code",
      "metadata": {
        "id": "a2s04Hj6-NUc"
      },
      "source": [
        "from keras.callbacks import EarlyStopping\n",
        "# callback\n",
        "es = EarlyStopping(monitor='val_loss', mode='min', verbose=1, patience=50)\n",
        "\n",
        "history = model.fit(ver_X_train,\n",
        "                    ver_y_train,\n",
        "                    validation_data=(ver_X_val, ver_y_val),\n",
        "                    epochs=300)"
      ],
      "execution_count": null,
      "outputs": []
    },
    {
      "cell_type": "code",
      "metadata": {
        "colab": {
          "base_uri": "https://localhost:8080/"
        },
        "id": "CEg7GB4S9bRp",
        "outputId": "4e535d53-3744-4756-b58f-51779a995704"
      },
      "source": [
        "model.summary()"
      ],
      "execution_count": 745,
      "outputs": [
        {
          "output_type": "stream",
          "text": [
            "Model: \"sequential_31\"\n",
            "_________________________________________________________________\n",
            "Layer (type)                 Output Shape              Param #   \n",
            "=================================================================\n",
            "conv2d_66 (Conv2D)           (None, 196, 14, 64)       3200      \n",
            "_________________________________________________________________\n",
            "max_pooling2d_32 (MaxPooling (None, 98, 7, 64)         0         \n",
            "_________________________________________________________________\n",
            "conv2d_67 (Conv2D)           (None, 98, 7, 128)        73856     \n",
            "_________________________________________________________________\n",
            "conv2d_68 (Conv2D)           (None, 98, 7, 128)        147584    \n",
            "_________________________________________________________________\n",
            "max_pooling2d_33 (MaxPooling (None, 49, 3, 128)        0         \n",
            "_________________________________________________________________\n",
            "conv2d_69 (Conv2D)           (None, 49, 3, 256)        295168    \n",
            "_________________________________________________________________\n",
            "conv2d_70 (Conv2D)           (None, 49, 3, 256)        590080    \n",
            "_________________________________________________________________\n",
            "flatten_17 (Flatten)         (None, 37632)             0         \n",
            "_________________________________________________________________\n",
            "dense_48 (Dense)             (None, 128)               4817024   \n",
            "_________________________________________________________________\n",
            "dropout_29 (Dropout)         (None, 128)               0         \n",
            "_________________________________________________________________\n",
            "dense_49 (Dense)             (None, 64)                8256      \n",
            "_________________________________________________________________\n",
            "dropout_30 (Dropout)         (None, 64)                0         \n",
            "_________________________________________________________________\n",
            "dense_50 (Dense)             (None, 3)                 195       \n",
            "=================================================================\n",
            "Total params: 5,935,363\n",
            "Trainable params: 5,935,363\n",
            "Non-trainable params: 0\n",
            "_________________________________________________________________\n"
          ],
          "name": "stdout"
        }
      ]
    },
    {
      "cell_type": "code",
      "metadata": {
        "colab": {
          "base_uri": "https://localhost:8080/"
        },
        "id": "rgeZtFmAzOeQ",
        "outputId": "88d439a5-a0b7-42e1-8f7f-1d2dba8940e6"
      },
      "source": [
        "test_loss, test_mae= model.evaluate(ver_X_train, ver_y_train) # 잘 학습 되었나 확인"
      ],
      "execution_count": 746,
      "outputs": [
        {
          "output_type": "stream",
          "text": [
            "2/2 [==============================] - 0s 6ms/step - loss: 3.4895e-07 - accuracy: 1.0000\n"
          ],
          "name": "stdout"
        }
      ]
    },
    {
      "cell_type": "code",
      "metadata": {
        "id": "PRgsfd5U8Z7X"
      },
      "source": [
        "from tensorflow.python.keras.models import load_model\n",
        "\n",
        "save_path= '/content/drive/MyDrive/화자인식/'\n",
        "model.save(save_path+'tutorial_model.h5') # 잘 학습된 모델 저장"
      ],
      "execution_count": 747,
      "outputs": []
    },
    {
      "cell_type": "code",
      "metadata": {
        "colab": {
          "base_uri": "https://localhost:8080/"
        },
        "id": "cov3f0COfGux",
        "outputId": "fbd3fc8a-6f71-405d-b9ed-21ce140df61e"
      },
      "source": [
        "model.layers"
      ],
      "execution_count": 748,
      "outputs": [
        {
          "output_type": "execute_result",
          "data": {
            "text/plain": [
              "[<tensorflow.python.keras.layers.convolutional.Conv2D at 0x7fc40fca9e50>,\n",
              " <tensorflow.python.keras.layers.pooling.MaxPooling2D at 0x7fc40fbbae10>,\n",
              " <tensorflow.python.keras.layers.convolutional.Conv2D at 0x7fc40fc41e10>,\n",
              " <tensorflow.python.keras.layers.convolutional.Conv2D at 0x7fc40bde42d0>,\n",
              " <tensorflow.python.keras.layers.pooling.MaxPooling2D at 0x7fc40fbff390>,\n",
              " <tensorflow.python.keras.layers.convolutional.Conv2D at 0x7fc40fbff190>,\n",
              " <tensorflow.python.keras.layers.convolutional.Conv2D at 0x7fc40fc92390>,\n",
              " <tensorflow.python.keras.layers.core.Flatten at 0x7fc40fb6d0d0>,\n",
              " <tensorflow.python.keras.layers.core.Dense at 0x7fc40fed0f50>,\n",
              " <tensorflow.python.keras.layers.core.Dropout at 0x7fc40fe78510>,\n",
              " <tensorflow.python.keras.layers.core.Dense at 0x7fc40fb6c610>,\n",
              " <tensorflow.python.keras.layers.core.Dropout at 0x7fc40b2bca50>,\n",
              " <tensorflow.python.keras.layers.core.Dense at 0x7fc511bf6e10>]"
            ]
          },
          "metadata": {
            "tags": []
          },
          "execution_count": 748
        }
      ]
    },
    {
      "cell_type": "code",
      "metadata": {
        "id": "AJ_s7bO_dQt9"
      },
      "source": [
        "save_path= '/content/drive/MyDrive/화자인식/'\n",
        "model_a= keras.models.load_model(save_path+'tutorial_model.h5') # temp모델 "
      ],
      "execution_count": 749,
      "outputs": []
    },
    {
      "cell_type": "code",
      "metadata": {
        "id": "Cl4C5INIewCT"
      },
      "source": [
        "new_model= keras.models.Sequential(model_a.layers[:-1])\n",
        "new_model.add(Dense(3, activation='linear')) ## 마지막 층만 linear로 바꿔서 softmax되기 전 값 출력할 준비\n",
        "\n",
        "new_model.compile(optimizer='adam',\n",
        "              loss='sparse_categorical_crossentropy',\n",
        "              metrics=['accuracy']) ## 컴파일을 해주어야 새로운 모델 사용가능"
      ],
      "execution_count": 750,
      "outputs": []
    },
    {
      "cell_type": "code",
      "metadata": {
        "id": "Iix39LMwiMon"
      },
      "source": [
        "new_model.load_weights(save_path+'tutorial_model.h5') # weitght을 복사해서 불러옴"
      ],
      "execution_count": 751,
      "outputs": []
    },
    {
      "cell_type": "code",
      "metadata": {
        "colab": {
          "base_uri": "https://localhost:8080/"
        },
        "id": "KZ5tdn4UkYUi",
        "outputId": "eae62a47-c7d6-4a22-bb5c-74fccdb2866d"
      },
      "source": [
        "test_loss, test_mae= new_model.evaluate(ver_X_train, ver_y_train) ## 같은 성능을 내는지 확인"
      ],
      "execution_count": 752,
      "outputs": [
        {
          "output_type": "stream",
          "text": [
            "2/2 [==============================] - 0s 6ms/step - loss: 0.0898 - accuracy: 1.0000\n"
          ],
          "name": "stdout"
        }
      ]
    },
    {
      "cell_type": "code",
      "metadata": {
        "colab": {
          "base_uri": "https://localhost:8080/"
        },
        "id": "SPR93UL4mqJp",
        "outputId": "91fd4649-1d05-4e1b-e3d1-858b396f62be"
      },
      "source": [
        "penultimate_vector= np.array(new_model.predict(ver_X_train))\n",
        "penultimate_vector[:3]"
      ],
      "execution_count": 753,
      "outputs": [
        {
          "output_type": "execute_result",
          "data": {
            "text/plain": [
              "array([[  2.5823462,  28.986065 ,  -7.5350966],\n",
              "       [  1.9419631,  26.37224  ,  -5.878332 ],\n",
              "       [ -1.1800346,  42.46373  , -10.900003 ]], dtype=float32)"
            ]
          },
          "metadata": {
            "tags": []
          },
          "execution_count": 753
        }
      ]
    },
    {
      "cell_type": "code",
      "metadata": {
        "id": "A6ZSiv7hlzd3",
        "colab": {
          "base_uri": "https://localhost:8080/"
        },
        "outputId": "df65de7d-5a6a-41b4-af96-3b5364d81151"
      },
      "source": [
        "# ver_y_train 데이터와 합치기\n",
        "tmp=ver_y_train.reshape((-1,1))\n",
        "\n",
        "penultimate_vector=np.hstack((penultimate_vector, tmp))\n",
        "penultimate_vector[:5]"
      ],
      "execution_count": 754,
      "outputs": [
        {
          "output_type": "execute_result",
          "data": {
            "text/plain": [
              "array([[  2.5823462 ,  28.98606491,  -7.53509665,   1.        ],\n",
              "       [  1.94196308,  26.37224007,  -5.87833214,   1.        ],\n",
              "       [ -1.18003464,  42.46372986, -10.90000343,   1.        ],\n",
              "       [ 17.40877914,  -6.75039244,  -5.26610994,   0.        ],\n",
              "       [ 15.12278461,  -5.23559093,  -4.39759016,   0.        ]])"
            ]
          },
          "metadata": {
            "tags": []
          },
          "execution_count": 754
        }
      ]
    },
    {
      "cell_type": "code",
      "metadata": {
        "colab": {
          "base_uri": "https://localhost:8080/"
        },
        "id": "lokkBmtunWUG",
        "outputId": "630cfba1-4e6b-4a34-c146-39a78576269a"
      },
      "source": [
        "# 각 클래스별로 배열을 새로 나누기\n",
        "arr_0penultimate= np.array([])\n",
        "arr_1penultimate= np.array([])\n",
        "arr_2penultimate= np.array([])\n",
        "\n",
        "for i in penultimate_vector:\n",
        "  if int(i[3])==0:\n",
        "    arr_0penultimate= np.append(arr_0penultimate, i)\n",
        "  elif int(i[3])==1:\n",
        "    arr_1penultimate= np.append(arr_1penultimate, i)\n",
        "  else:\n",
        "    arr_2penultimate= np.append(arr_2penultimate, i)\n",
        "arr_0penultimate = arr_0penultimate.reshape((-1, 4))\n",
        "arr_1penultimate = arr_1penultimate.reshape((-1, 4))\n",
        "arr_2penultimate = arr_2penultimate.reshape((-1, 4))\n",
        "arr_0penultimate[:3]"
      ],
      "execution_count": 755,
      "outputs": [
        {
          "output_type": "execute_result",
          "data": {
            "text/plain": [
              "array([[17.40877914, -6.75039244, -5.26610994,  0.        ],\n",
              "       [15.12278461, -5.23559093, -4.39759016,  0.        ],\n",
              "       [16.53941727, -6.67961884, -5.38052511,  0.        ]])"
            ]
          },
          "metadata": {
            "tags": []
          },
          "execution_count": 755
        }
      ]
    },
    {
      "cell_type": "code",
      "metadata": {
        "colab": {
          "base_uri": "https://localhost:8080/"
        },
        "id": "CDCFBH6cnXK-",
        "outputId": "33b42319-1701-4766-c0b3-e171193d835d"
      },
      "source": [
        "# 각 클래스의 평균 구하기\n",
        "mean_0= arr_0penultimate.mean(axis=0)[:3]\n",
        "mean_1= arr_1penultimate.mean(axis=0)[:3]\n",
        "mean_2= arr_2penultimate.mean(axis=0)[:3]\n",
        "\n",
        "print(mean_0,'\\n', mean_1,'\\n', mean_2)"
      ],
      "execution_count": 756,
      "outputs": [
        {
          "output_type": "stream",
          "text": [
            "[20.11806526 -7.93315294 -6.7427938 ] \n",
            " [-1.40042481 37.19088564 -9.03550478] \n",
            " [-18.42501221  -0.30047735  26.23310318]\n"
          ],
          "name": "stdout"
        }
      ]
    },
    {
      "cell_type": "markdown",
      "metadata": {
        "id": "vYg1bvAjtF7a"
      },
      "source": [
        "- 각 클래스의 평균과의 거리를 구합니다"
      ]
    },
    {
      "cell_type": "code",
      "metadata": {
        "id": "kq5eXPDHo-2j"
      },
      "source": [
        "distance_0= np.array([])\n",
        "distance_1= np.array([])\n",
        "distance_2= np.array([])\n",
        "\n",
        "for i in arr_0penultimate:\n",
        "  a= i[:3]\n",
        "  tmp= a-mean_0\n",
        "  tmp= tmp**2\n",
        "  distance_0= np.append(distance_0, tmp.sum())\n",
        "\n",
        "for i in arr_1penultimate:\n",
        "  a= i[:3]\n",
        "  tmp= a-mean_1\n",
        "  tmp= tmp**2\n",
        "  distance_1= np.append(distance_1, tmp.sum())\n",
        "\n",
        "for i in arr_2penultimate:\n",
        "  a= i[:3]\n",
        "  tmp= a-mean_2\n",
        "  tmp= tmp**2\n",
        "  distance_2= np.append(distance_2, tmp.sum())"
      ],
      "execution_count": 757,
      "outputs": []
    },
    {
      "cell_type": "code",
      "metadata": {
        "id": "cUGLe9jLpAF6"
      },
      "source": [
        "distance_0.sort()\n",
        "distance_1.sort()\n",
        "distance_2.sort()"
      ],
      "execution_count": 758,
      "outputs": []
    },
    {
      "cell_type": "code",
      "metadata": {
        "colab": {
          "base_uri": "https://localhost:8080/"
        },
        "id": "aWF_mhuP6jZk",
        "outputId": "43077c1c-be3d-4f36-f71c-f1fa77fe391a"
      },
      "source": [
        "distance_0"
      ],
      "execution_count": 759,
      "outputs": [
        {
          "output_type": "execute_result",
          "data": {
            "text/plain": [
              "array([  0.16409206,   0.23190754,   1.39833784,   1.54147967,\n",
              "         3.42955455,   5.11469393,   7.51044884,   8.50171535,\n",
              "         8.50967493,  10.91974888,  11.77923728,  11.89329709,\n",
              "        12.85524813,  14.49136591,  16.23384519,  18.08164071,\n",
              "        32.3966553 ,  37.1181123 ,  37.72964961, 134.16744858])"
            ]
          },
          "metadata": {
            "tags": []
          },
          "execution_count": 759
        }
      ]
    },
    {
      "cell_type": "code",
      "metadata": {
        "colab": {
          "base_uri": "https://localhost:8080/",
          "height": 407
        },
        "id": "6snKlJ6x8cFL",
        "outputId": "4bc807e4-7073-4c39-8e02-f2ef7625a3ae"
      },
      "source": [
        "from scipy.stats import weibull_min\n",
        "import matplotlib.pyplot as plt\n",
        "import seaborn as sns\n",
        "\n",
        "fig, axes = plt.subplots(nrows=1,ncols=3)\n",
        "\n",
        "c_0, loc_0, scale_0 = weibull_min.fit(distance_0[-20:])\n",
        "dist_0 = weibull_min.rvs(c_0, loc_0, scale_0, size=1000)\n",
        "sns.distplot(dist_0, ax= axes[0])\n",
        "\n",
        "c_1, loc_1, scale_1 = weibull_min.fit(distance_1[-20:])\n",
        "dist_1 = weibull_min.rvs(c_1, loc_1, scale_1, size=1000)\n",
        "sns.distplot(dist_1, ax= axes[1])\n",
        "\n",
        "c_2, loc_2, scale_2 = weibull_min.fit(distance_2[-20:])\n",
        "dist_2 = weibull_min.rvs(c_2, loc_2, scale_2, size=1000)\n",
        "sns.distplot(dist_2, ax= axes[2])"
      ],
      "execution_count": 797,
      "outputs": [
        {
          "output_type": "stream",
          "text": [
            "/usr/local/lib/python3.7/dist-packages/seaborn/distributions.py:2557: FutureWarning: `distplot` is a deprecated function and will be removed in a future version. Please adapt your code to use either `displot` (a figure-level function with similar flexibility) or `histplot` (an axes-level function for histograms).\n",
            "  warnings.warn(msg, FutureWarning)\n",
            "/usr/local/lib/python3.7/dist-packages/seaborn/distributions.py:2557: FutureWarning: `distplot` is a deprecated function and will be removed in a future version. Please adapt your code to use either `displot` (a figure-level function with similar flexibility) or `histplot` (an axes-level function for histograms).\n",
            "  warnings.warn(msg, FutureWarning)\n",
            "/usr/local/lib/python3.7/dist-packages/seaborn/distributions.py:2557: FutureWarning: `distplot` is a deprecated function and will be removed in a future version. Please adapt your code to use either `displot` (a figure-level function with similar flexibility) or `histplot` (an axes-level function for histograms).\n",
            "  warnings.warn(msg, FutureWarning)\n"
          ],
          "name": "stderr"
        },
        {
          "output_type": "execute_result",
          "data": {
            "text/plain": [
              "<matplotlib.axes._subplots.AxesSubplot at 0x7fc407f25e10>"
            ]
          },
          "metadata": {
            "tags": []
          },
          "execution_count": 797
        },
        {
          "output_type": "display_data",
          "data": {
            "image/png": "[encoded data removed]",
            "text/plain": [
              "<Figure size 432x288 with 3 Axes>"
            ]
          },
          "metadata": {
            "tags": [],
            "needs_background": "light"
          }
        }
      ]
    },
    {
      "cell_type": "code",
      "metadata": {
        "colab": {
          "base_uri": "https://localhost:8080/"
        },
        "id": "i3OSr5VOLA1T",
        "outputId": "c2dd8008-816a-47b4-b17a-55926750567b"
      },
      "source": [
        "print( distance_0[10:],'\\n',distance_1[10:],'\\n',distance_2[10:])"
      ],
      "execution_count": 798,
      "outputs": [
        {
          "output_type": "stream",
          "text": [
            "[ 11.77923728  11.89329709  12.85524813  14.49136591  16.23384519\n",
            "  18.08164071  32.3966553   37.1181123   37.72964961 134.16744858] \n",
            " [ 139.4146239   140.27271879  179.25817982  182.41560884  196.68594383\n",
            "  394.51479467  419.07914858  610.41270377  761.62988697 2656.28282312] \n",
            " [ 90.23437047  93.2584207  113.33890863 120.76759014 170.00811972]\n"
          ],
          "name": "stdout"
        }
      ]
    },
    {
      "cell_type": "code",
      "metadata": {
        "colab": {
          "base_uri": "https://localhost:8080/"
        },
        "id": "uztMP1cpmEUp",
        "outputId": "9f7f5320-992d-42ec-f5bc-0f5fe489f428"
      },
      "source": [
        "print(c_0, loc_0, scale_0)\n",
        "print(c_1, loc_1, scale_1)\n",
        "print(c_2, loc_2, scale_2)"
      ],
      "execution_count": 799,
      "outputs": [
        {
          "output_type": "stream",
          "text": [
            "0.6403390213858535 0.16409206407463386 11.292356617287037\n",
            "0.7157860337191997 5.775930966502452 205.13583071570812\n",
            "0.27725974159073274 2.30543435489844 3.1861473862932916\n"
          ],
          "name": "stdout"
        }
      ]
    },
    {
      "cell_type": "code",
      "metadata": {
        "id": "H9HfulPWtBC0"
      },
      "source": [
        "list_unver_logit= np.array(new_model.predict(X_test))"
      ],
      "execution_count": 800,
      "outputs": []
    },
    {
      "cell_type": "code",
      "metadata": {
        "id": "3aBFaewUtSKv",
        "colab": {
          "base_uri": "https://localhost:8080/"
        },
        "outputId": "d901623c-646d-455d-9691-247b4ebf6c88"
      },
      "source": [
        "list_unver_logit[:3]"
      ],
      "execution_count": 801,
      "outputs": [
        {
          "output_type": "execute_result",
          "data": {
            "text/plain": [
              "array([[ -3.67121   ,  27.795355  ,  -8.566868  ],\n",
              "       [-15.18357   ,   0.05014728,  22.183535  ],\n",
              "       [-11.025855  ,  -0.15805377,  15.57248   ]], dtype=float32)"
            ]
          },
          "metadata": {
            "tags": []
          },
          "execution_count": 801
        }
      ]
    },
    {
      "cell_type": "code",
      "metadata": {
        "colab": {
          "base_uri": "https://localhost:8080/"
        },
        "id": "kO9qu1Phps_H",
        "outputId": "077c18dc-44b8-45f9-8af7-84c7383846e3"
      },
      "source": [
        "mean_0"
      ],
      "execution_count": 802,
      "outputs": [
        {
          "output_type": "execute_result",
          "data": {
            "text/plain": [
              "array([20.11806526, -7.93315294, -6.7427938 ])"
            ]
          },
          "metadata": {
            "tags": []
          },
          "execution_count": 802
        }
      ]
    },
    {
      "cell_type": "code",
      "metadata": {
        "id": "z1YOJbCLA2yU",
        "colab": {
          "base_uri": "https://localhost:8080/"
        },
        "outputId": "f1feca8a-b545-463c-b0a3-957fe1fd3076"
      },
      "source": [
        "new_unver_logit= np.array([])\n",
        "mean_0= np.array(mean_0)[:3]\n",
        "mean_1= np.array(mean_1)[:3]\n",
        "mean_2= np.array(mean_2)[:3]\n",
        "\n",
        "for i in list_unver_logit:\n",
        "  val_0= (i-mean_0)**2\n",
        "  val_1= (i-mean_1)**2\n",
        "  val_2= (i-mean_2)**2\n",
        "\n",
        "  val_0= val_0.sum()\n",
        "  val_1= val_1.sum()\n",
        "  val_2= val_2.sum()\n",
        "\n",
        "  w_0= weibull_min.cdf(val_0, c_0, loc_0, scale_0) \n",
        "  w_1= weibull_min.cdf(val_1, c_1, loc_1, scale_1)\n",
        "  w_2= weibull_min.cdf(val_2, c_2, loc_2, scale_2)\n",
        "\n",
        "  data=np.array([i[0]-(w_0*i[0]), i[1]- (w_1*i[1]), i[2]-(w_2*i[2]),(i[0]*w_0)+(i[1]*w_1)+(i[2]*w_2)])\n",
        "  \n",
        "  if all(i == list_unver_logit[0]):\n",
        "    new_unver_logit= np.append(new_unver_logit, data)\n",
        "  else:\n",
        "    new_unver_logit= np.vstack((new_unver_logit, data))\n",
        "new_unver_logit[:3]"
      ],
      "execution_count": 803,
      "outputs": [
        {
          "output_type": "execute_result",
          "data": {
            "text/plain": [
              "array([[-1.63122849e-11,  1.61154476e+01, -1.84932600e-02,\n",
              "        -5.39677408e-01],\n",
              "       [-4.74642547e-12,  1.17850146e-04,  3.79794436e+00,\n",
              "         3.25204979e+00],\n",
              "       [-9.60172386e-10, -8.19050986e-04,  7.80834009e-01,\n",
              "         3.60855641e+00]])"
            ]
          },
          "metadata": {
            "tags": []
          },
          "execution_count": 803
        }
      ]
    },
    {
      "cell_type": "code",
      "metadata": {
        "colab": {
          "base_uri": "https://localhost:8080/"
        },
        "id": "WG_lwRNUhRnE",
        "outputId": "add81d75-4a65-4927-d0d3-998555dfef77"
      },
      "source": [
        "soft_max_list=[]\n",
        "for i in new_unver_logit:\n",
        "  exp_list= np.exp(i)\n",
        "  sum= exp_list.sum()\n",
        "\n",
        "  soft_max_list.append(exp_list/sum)\n",
        "soft_max_list[:10]"
      ],
      "execution_count": 804,
      "outputs": [
        {
          "output_type": "execute_result",
          "data": {
            "text/plain": [
              "[array([1.00265127e-07, 9.99999743e-01, 9.84279382e-08, 5.84481795e-08]),\n",
              " array([0.0138021 , 0.01380372, 0.61570305, 0.35669113]),\n",
              " array([0.02433374, 0.02431382, 0.05312767, 0.89822477]),\n",
              " array([0.00126998, 0.00151624, 0.00126322, 0.99595055]),\n",
              " array([9.98441435e-01, 6.53169249e-04, 6.56316115e-04, 2.49079920e-04]),\n",
              " array([0.00317302, 0.00250986, 0.00250513, 0.99181199]),\n",
              " array([0.00275301, 0.00275274, 0.92587564, 0.0686186 ]),\n",
              " array([9.99837069e-01, 7.72471236e-05, 7.77049089e-05, 7.97863835e-06]),\n",
              " array([0.12947111, 0.0361782 , 0.03683029, 0.79752039]),\n",
              " array([8.31885904e-11, 9.99982068e-01, 8.25174424e-11, 1.79321556e-05])]"
            ]
          },
          "metadata": {
            "tags": []
          },
          "execution_count": 804
        }
      ]
    },
    {
      "cell_type": "code",
      "metadata": {
        "colab": {
          "base_uri": "https://localhost:8080/"
        },
        "id": "hezSjQ8ojCgv",
        "outputId": "01a81006-9547-4fa4-afdf-48f359b9c900"
      },
      "source": [
        "predict=np.array([])\n",
        "for i in soft_max_list:\n",
        "  predict= np.append(predict,(np.argmax(i)))\n",
        "predict.reshape(1,-1)\n",
        "predict[:10]"
      ],
      "execution_count": 813,
      "outputs": [
        {
          "output_type": "execute_result",
          "data": {
            "text/plain": [
              "array([1., 2., 3., 3., 0., 3., 2., 0., 3., 1.])"
            ]
          },
          "metadata": {
            "tags": []
          },
          "execution_count": 813
        }
      ]
    },
    {
      "cell_type": "code",
      "metadata": {
        "id": "HMwCMR8Gjxht",
        "colab": {
          "base_uri": "https://localhost:8080/"
        },
        "outputId": "e43a2873-5b0b-4acd-e4dc-91606aa6f20b"
      },
      "source": [
        "y_test[:10]"
      ],
      "execution_count": 814,
      "outputs": [
        {
          "output_type": "execute_result",
          "data": {
            "text/plain": [
              "array([1, 2, 2, 1, 0, 0, 2, 0, 0, 1])"
            ]
          },
          "metadata": {
            "tags": []
          },
          "execution_count": 814
        }
      ]
    },
    {
      "cell_type": "code",
      "metadata": {
        "colab": {
          "base_uri": "https://localhost:8080/"
        },
        "id": "hLpvtcUEKGxC",
        "outputId": "be684524-0e97-4e8c-a215-6049c0f92bdc"
      },
      "source": [
        "from sklearn.metrics import confusion_matrix, accuracy_score\n",
        "\n",
        "confusion_matrix(y_test, predict)"
      ],
      "execution_count": 815,
      "outputs": [
        {
          "output_type": "execute_result",
          "data": {
            "text/plain": [
              "array([[  2,   0,   0,   2],\n",
              "       [  0,   4,   0,   1],\n",
              "       [  0,   0,   2,   1],\n",
              "       [  0,  11,   1, 172]])"
            ]
          },
          "metadata": {
            "tags": []
          },
          "execution_count": 815
        }
      ]
    },
    {
      "cell_type": "code",
      "metadata": {
        "colab": {
          "base_uri": "https://localhost:8080/"
        },
        "id": "OpCp7X3MKSAL",
        "outputId": "5b8215ae-721e-4095-e554-d085a5c52b58"
      },
      "source": [
        "accuracy_score(y_test, predict)"
      ],
      "execution_count": 816,
      "outputs": [
        {
          "output_type": "execute_result",
          "data": {
            "text/plain": [
              "0.9183673469387755"
            ]
          },
          "metadata": {
            "tags": []
          },
          "execution_count": 816
        }
      ]
    },
    {
      "cell_type": "code",
      "metadata": {
        "id": "yWyw1Y4_Kt0f"
      },
      "source": [
        "far=(11+1)/(2+15+3+172)"
      ],
      "execution_count": 817,
      "outputs": []
    },
    {
      "cell_type": "code",
      "metadata": {
        "colab": {
          "base_uri": "https://localhost:8080/"
        },
        "id": "R8NWmGsvocnm",
        "outputId": "663c8692-3f9b-434e-e8a6-5130ed736318"
      },
      "source": [
        "far"
      ],
      "execution_count": 818,
      "outputs": [
        {
          "output_type": "execute_result",
          "data": {
            "text/plain": [
              "0.0625"
            ]
          },
          "metadata": {
            "tags": []
          },
          "execution_count": 818
        }
      ]
    },
    {
      "cell_type": "code",
      "metadata": {
        "id": "9hkJfcDrodMY"
      },
      "source": [
        ""
      ],
      "execution_count": null,
      "outputs": []
    }
  ]
}