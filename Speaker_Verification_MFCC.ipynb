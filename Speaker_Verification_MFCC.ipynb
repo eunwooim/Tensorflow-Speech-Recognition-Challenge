{
  "nbformat": 4,
  "nbformat_minor": 0,
  "metadata": {
    "colab": {
      "name": "Speaker_Verification_MFCC",
      "provenance": [],
      "collapsed_sections": [],
      "authorship_tag": "ABX9TyOGw4sPuqnZip50gLToUoCM",
      "include_colab_link": true
    },
    "kernelspec": {
      "name": "python3",
      "display_name": "Python 3"
    },
    "language_info": {
      "name": "python"
    }
  },
  "cells": [
    {
      "cell_type": "markdown",
      "metadata": {
        "id": "view-in-github",
        "colab_type": "text"
      },
      "source": [
        "<a href=\"https://colab.research.google.com/github/imeunu/Capstone_PBL/blob/main/Speaker_Verification_MFCC.ipynb\" target=\"_parent\"><img src=\"https://colab.research.google.com/assets/colab-badge.svg\" alt=\"Open In Colab\"/></a>"
      ]
    },
    {
      "cell_type": "markdown",
      "metadata": {
        "id": "jR_BFN1_9MQh"
      },
      "source": [
        "이번 모델에서는 MFCC로 했을 때의 정확도를 알아보려고 했습니다."
      ]
    },
    {
      "cell_type": "code",
      "metadata": {
        "colab": {
          "base_uri": "https://localhost:8080/"
        },
        "id": "M2V5aLaFODcd",
        "outputId": "4fd7debe-aadb-4610-836f-0246f73426b7"
      },
      "source": [
        "from google.colab import drive\n",
        "drive.mount('/content/drive')"
      ],
      "execution_count": null,
      "outputs": [
        {
          "output_type": "stream",
          "text": [
            "Mounted at /content/drive\n"
          ],
          "name": "stdout"
        }
      ]
    },
    {
      "cell_type": "code",
      "metadata": {
        "id": "EJhRC0UNOfV8"
      },
      "source": [
        "import os\n",
        "import csv\n",
        "import pandas as pd\n",
        "import numpy as np\n",
        "import matplotlib.pyplot as plt\n",
        "\n",
        "\n",
        "import tensorflow as tf"
      ],
      "execution_count": null,
      "outputs": []
    },
    {
      "cell_type": "code",
      "metadata": {
        "colab": {
          "base_uri": "https://localhost:8080/"
        },
        "id": "AANA06fgOmEx",
        "outputId": "3a29190f-3073-4200-f8dc-3dd98a0beed3"
      },
      "source": [
        "mfcc_folder_path= '/content/drive/MyDrive/화자인식/Preprocessed_mfcc'\n",
        "list_word_folder= os.listdir(mfcc_folder_path)\n",
        "list_word_folder"
      ],
      "execution_count": null,
      "outputs": [
        {
          "output_type": "execute_result",
          "data": {
            "text/plain": [
              "['sheila',\n",
              " 'six',\n",
              " 'up',\n",
              " 'two',\n",
              " 'three',\n",
              " 'stop',\n",
              " 'wow',\n",
              " 'zero',\n",
              " 'tree',\n",
              " 'yes',\n",
              " 'no',\n",
              " 'on',\n",
              " 'marvin',\n",
              " 'one',\n",
              " 'left',\n",
              " 'right',\n",
              " 'off',\n",
              " 'nine',\n",
              " 'seven',\n",
              " 'house',\n",
              " 'eight',\n",
              " 'dog',\n",
              " 'bed',\n",
              " 'happy',\n",
              " 'five',\n",
              " 'go',\n",
              " 'bird',\n",
              " 'four',\n",
              " 'down',\n",
              " 'cat']"
            ]
          },
          "metadata": {
            "tags": []
          },
          "execution_count": 3
        }
      ]
    },
    {
      "cell_type": "code",
      "metadata": {
        "id": "6Ou8d839Sa1t"
      },
      "source": [
        "X= []\n",
        "Y= []\n",
        "ver_speaker='0b77ee66' # 임의의 화자\n",
        "for word in list_word_folder:\n",
        "  word_dir= mfcc_folder_path+'/'+word\n",
        "  list_csv= os.listdir(word_dir)\n",
        "  for file in list_csv:\n",
        "    csv_dir= word_dir+'/'+file\n",
        "    data= np.genfromtxt(csv_dir, delimiter=',', dtype= float)\n",
        "    X.append(data)\n",
        "    if file.split('_')[2]==ver_speaker:\n",
        "      Y.append(0)\n",
        "    else:\n",
        "      Y.append(1)\n"
      ],
      "execution_count": null,
      "outputs": []
    },
    {
      "cell_type": "code",
      "metadata": {
        "colab": {
          "base_uri": "https://localhost:8080/"
        },
        "id": "3tGbmw27mcsf",
        "outputId": "41243ddb-b59b-48cd-dca4-1876beca27f5"
      },
      "source": [
        "X= np.asarray(X)\n",
        "X.shape"
      ],
      "execution_count": null,
      "outputs": [
        {
          "output_type": "execute_result",
          "data": {
            "text/plain": [
              "(263, 196, 14)"
            ]
          },
          "metadata": {
            "tags": []
          },
          "execution_count": 13
        }
      ]
    },
    {
      "cell_type": "code",
      "metadata": {
        "id": "z_uP1vwSm4R4",
        "colab": {
          "base_uri": "https://localhost:8080/"
        },
        "outputId": "c0af3f34-bdb8-4c47-feaa-fef73e879431"
      },
      "source": [
        "print(Y[:5])\n",
        "Y= np.asarray(Y)\n",
        "Y.shape"
      ],
      "execution_count": null,
      "outputs": [
        {
          "output_type": "stream",
          "text": [
            "[1, 1, 1, 1, 1]\n"
          ],
          "name": "stdout"
        },
        {
          "output_type": "execute_result",
          "data": {
            "text/plain": [
              "(263,)"
            ]
          },
          "metadata": {
            "tags": []
          },
          "execution_count": 14
        }
      ]
    },
    {
      "cell_type": "code",
      "metadata": {
        "id": "wj4M6pkzm3KM",
        "colab": {
          "base_uri": "https://localhost:8080/"
        },
        "outputId": "9b75b2f6-7ab5-4b2d-ef2d-36c7c3be5285"
      },
      "source": [
        "from sklearn.model_selection import train_test_split\n",
        "## 0.6: 0.2: 0.2 로 분리\n",
        "## Stratifiy를 이용해서 데이터 불균형 해소\n",
        "X_train, X_save, y_train, y_save= train_test_split(X, Y, test_size= 0.4, stratify= Y)\n",
        "X_test, X_val, y_test, y_val= train_test_split(X_save, y_save, test_size= 0.5, stratify= y_save)\n",
        "\n",
        "X_train= np.asarray(X_train)\n",
        "X_val= np.asarray(X_val)\n",
        "X_test=np.asarray(X_test)\n",
        "print(X_train.shape, X_test.shape, X_val.shape)\n",
        "print(y_train.shape, y_test.shape, y_val.shape)"
      ],
      "execution_count": null,
      "outputs": [
        {
          "output_type": "stream",
          "text": [
            "(157, 196, 14) (53, 196, 14) (53, 196, 14)\n",
            "(157,) (53,) (53,)\n"
          ],
          "name": "stdout"
        }
      ]
    },
    {
      "cell_type": "code",
      "metadata": {
        "id": "Ty3F6fLMzSgd"
      },
      "source": [
        "## 차원 확장\n",
        "X_train= np.expand_dims(X_train, -1)\n",
        "X_val= np.expand_dims(X_val, -1)\n",
        "X_test= np.expand_dims(X_test, -1)"
      ],
      "execution_count": null,
      "outputs": []
    },
    {
      "cell_type": "code",
      "metadata": {
        "colab": {
          "base_uri": "https://localhost:8080/"
        },
        "id": "EoW5cu2kz8jy",
        "outputId": "8f283e35-0c38-4a80-c54d-f3eab112f673"
      },
      "source": [
        "print(X_train.shape, X_val.shape)"
      ],
      "execution_count": null,
      "outputs": [
        {
          "output_type": "stream",
          "text": [
            "(157, 196, 14, 1) (53, 196, 14, 1)\n"
          ],
          "name": "stdout"
        }
      ]
    },
    {
      "cell_type": "code",
      "metadata": {
        "colab": {
          "base_uri": "https://localhost:8080/"
        },
        "id": "gZZvLzvJzNil",
        "outputId": "3cce57e6-3c73-47aa-ff83-f070b64ef86c"
      },
      "source": [
        "from keras import models\n",
        "from keras import layers\n",
        "import keras\n",
        "from keras.layers import Dense, Conv2D, Flatten, Dropout, MaxPooling2D\n",
        "\n",
        "\n",
        "model = models.Sequential()\n",
        "model.add(Conv2D(64, kernel_size=(3, 3), activation='relu', input_shape=(196, 14, 1)))\n",
        "model.add(MaxPooling2D(pool_size= (2, 2)))\n",
        "model.add(Conv2D(32, kernel_size=(3, 3), activation='relu'))\n",
        "model.add(MaxPooling2D(pool_size=(2, 2)))\n",
        "model.add(Dropout(0.5))\n",
        "model.add(Flatten())\n",
        "model.add(Dense(32, activation='relu'))\n",
        "model.add(Dropout(0.5))\n",
        "model.add(Dense(2, activation='softmax'))\n",
        "\n",
        "model.compile(optimizer='adam',\n",
        "              loss='sparse_categorical_crossentropy',\n",
        "              metrics=['accuracy'])\n",
        "\n",
        "from keras.callbacks import EarlyStopping\n",
        "\n",
        "# callback\n",
        "es = EarlyStopping(monitor='val_loss', mode='min', verbose=1, patience=50)\n",
        "\n",
        "history = model.fit(X_train,\n",
        "                    y_train,\n",
        "                    validation_data=(X_val, y_val),\n",
        "                    callbacks=[es],\n",
        "                    epochs=100)"
      ],
      "execution_count": null,
      "outputs": [
        {
          "output_type": "stream",
          "text": [
            "Epoch 1/100\n",
            "5/5 [==============================] - 2s 224ms/step - loss: 3.1371 - accuracy: 0.6191 - val_loss: 0.3859 - val_accuracy: 0.8868\n",
            "Epoch 2/100\n",
            "5/5 [==============================] - 1s 130ms/step - loss: 0.4337 - accuracy: 0.8784 - val_loss: 0.3433 - val_accuracy: 0.8868\n",
            "Epoch 3/100\n",
            "5/5 [==============================] - 1s 127ms/step - loss: 0.3579 - accuracy: 0.8967 - val_loss: 0.3133 - val_accuracy: 0.8868\n",
            "Epoch 4/100\n",
            "5/5 [==============================] - 1s 127ms/step - loss: 0.3496 - accuracy: 0.9075 - val_loss: 0.3053 - val_accuracy: 0.8868\n",
            "Epoch 5/100\n",
            "5/5 [==============================] - 1s 127ms/step - loss: 0.2913 - accuracy: 0.9153 - val_loss: 0.2992 - val_accuracy: 0.8868\n",
            "Epoch 6/100\n",
            "5/5 [==============================] - 1s 125ms/step - loss: 0.3036 - accuracy: 0.8884 - val_loss: 0.2984 - val_accuracy: 0.8868\n",
            "Epoch 7/100\n",
            "5/5 [==============================] - 1s 125ms/step - loss: 0.2968 - accuracy: 0.8871 - val_loss: 0.2720 - val_accuracy: 0.8868\n",
            "Epoch 8/100\n",
            "5/5 [==============================] - 1s 123ms/step - loss: 0.3833 - accuracy: 0.8902 - val_loss: 0.2602 - val_accuracy: 0.8868\n",
            "Epoch 9/100\n",
            "5/5 [==============================] - 1s 129ms/step - loss: 0.2319 - accuracy: 0.8906 - val_loss: 0.2568 - val_accuracy: 0.8868\n",
            "Epoch 10/100\n",
            "5/5 [==============================] - 1s 124ms/step - loss: 0.2967 - accuracy: 0.8697 - val_loss: 0.2432 - val_accuracy: 0.8868\n",
            "Epoch 11/100\n",
            "5/5 [==============================] - 1s 127ms/step - loss: 0.2432 - accuracy: 0.8914 - val_loss: 0.2351 - val_accuracy: 0.8868\n",
            "Epoch 12/100\n",
            "5/5 [==============================] - 1s 129ms/step - loss: 0.2103 - accuracy: 0.8771 - val_loss: 0.2137 - val_accuracy: 0.8868\n",
            "Epoch 13/100\n",
            "5/5 [==============================] - 1s 126ms/step - loss: 0.1694 - accuracy: 0.8945 - val_loss: 0.1986 - val_accuracy: 0.8868\n",
            "Epoch 14/100\n",
            "5/5 [==============================] - 1s 128ms/step - loss: 0.1909 - accuracy: 0.8888 - val_loss: 0.1903 - val_accuracy: 0.8868\n",
            "Epoch 15/100\n",
            "5/5 [==============================] - 1s 125ms/step - loss: 0.2072 - accuracy: 0.8840 - val_loss: 0.1787 - val_accuracy: 0.8868\n",
            "Epoch 16/100\n",
            "5/5 [==============================] - 1s 125ms/step - loss: 0.2040 - accuracy: 0.8798 - val_loss: 0.1709 - val_accuracy: 0.8868\n",
            "Epoch 17/100\n",
            "5/5 [==============================] - 1s 137ms/step - loss: 0.1302 - accuracy: 0.8962 - val_loss: 0.1796 - val_accuracy: 0.8868\n",
            "Epoch 18/100\n",
            "5/5 [==============================] - 1s 126ms/step - loss: 0.1410 - accuracy: 0.9027 - val_loss: 0.1636 - val_accuracy: 0.8868\n",
            "Epoch 19/100\n",
            "5/5 [==============================] - 1s 130ms/step - loss: 0.1695 - accuracy: 0.8797 - val_loss: 0.1515 - val_accuracy: 0.9245\n",
            "Epoch 20/100\n",
            "5/5 [==============================] - 1s 127ms/step - loss: 0.1245 - accuracy: 0.9614 - val_loss: 0.1904 - val_accuracy: 0.9057\n",
            "Epoch 21/100\n",
            "5/5 [==============================] - 1s 126ms/step - loss: 0.1370 - accuracy: 0.9259 - val_loss: 0.1516 - val_accuracy: 0.9057\n",
            "Epoch 22/100\n",
            "5/5 [==============================] - 1s 130ms/step - loss: 0.1366 - accuracy: 0.9530 - val_loss: 0.1486 - val_accuracy: 0.9057\n",
            "Epoch 23/100\n",
            "5/5 [==============================] - 1s 123ms/step - loss: 0.1114 - accuracy: 0.9751 - val_loss: 0.1683 - val_accuracy: 0.9057\n",
            "Epoch 24/100\n",
            "5/5 [==============================] - 1s 129ms/step - loss: 0.0970 - accuracy: 0.9122 - val_loss: 0.1902 - val_accuracy: 0.9057\n",
            "Epoch 25/100\n",
            "5/5 [==============================] - 1s 132ms/step - loss: 0.1493 - accuracy: 0.9015 - val_loss: 0.1425 - val_accuracy: 0.9245\n",
            "Epoch 26/100\n",
            "5/5 [==============================] - 1s 125ms/step - loss: 0.1047 - accuracy: 0.9646 - val_loss: 0.1439 - val_accuracy: 0.9057\n",
            "Epoch 27/100\n",
            "5/5 [==============================] - 1s 133ms/step - loss: 0.1140 - accuracy: 0.9603 - val_loss: 0.1770 - val_accuracy: 0.9057\n",
            "Epoch 28/100\n",
            "5/5 [==============================] - 1s 128ms/step - loss: 0.1034 - accuracy: 0.9315 - val_loss: 0.1770 - val_accuracy: 0.9057\n",
            "Epoch 29/100\n",
            "5/5 [==============================] - 1s 128ms/step - loss: 0.1236 - accuracy: 0.9611 - val_loss: 0.1580 - val_accuracy: 0.9057\n",
            "Epoch 30/100\n",
            "5/5 [==============================] - 1s 127ms/step - loss: 0.0976 - accuracy: 0.9577 - val_loss: 0.1577 - val_accuracy: 0.9057\n",
            "Epoch 31/100\n",
            "5/5 [==============================] - 1s 128ms/step - loss: 0.0754 - accuracy: 0.9726 - val_loss: 0.1598 - val_accuracy: 0.9057\n",
            "Epoch 32/100\n",
            "5/5 [==============================] - 1s 125ms/step - loss: 0.0824 - accuracy: 0.9452 - val_loss: 0.1278 - val_accuracy: 0.9623\n",
            "Epoch 33/100\n",
            "5/5 [==============================] - 1s 126ms/step - loss: 0.0697 - accuracy: 0.9876 - val_loss: 0.1294 - val_accuracy: 0.9623\n",
            "Epoch 34/100\n",
            "5/5 [==============================] - 1s 133ms/step - loss: 0.0858 - accuracy: 0.9682 - val_loss: 0.1423 - val_accuracy: 0.9057\n",
            "Epoch 35/100\n",
            "5/5 [==============================] - 1s 129ms/step - loss: 0.0799 - accuracy: 0.9741 - val_loss: 0.1620 - val_accuracy: 0.9057\n",
            "Epoch 36/100\n",
            "5/5 [==============================] - 1s 127ms/step - loss: 0.1000 - accuracy: 0.9815 - val_loss: 0.1598 - val_accuracy: 0.9057\n",
            "Epoch 37/100\n",
            "5/5 [==============================] - 1s 125ms/step - loss: 0.0812 - accuracy: 0.9768 - val_loss: 0.1310 - val_accuracy: 0.9623\n",
            "Epoch 38/100\n",
            "5/5 [==============================] - 1s 125ms/step - loss: 0.0973 - accuracy: 0.9922 - val_loss: 0.1298 - val_accuracy: 0.9623\n",
            "Epoch 39/100\n",
            "5/5 [==============================] - 1s 124ms/step - loss: 0.0765 - accuracy: 0.9870 - val_loss: 0.1423 - val_accuracy: 0.9434\n",
            "Epoch 40/100\n",
            "5/5 [==============================] - 1s 131ms/step - loss: 0.0762 - accuracy: 0.9789 - val_loss: 0.1503 - val_accuracy: 0.9245\n",
            "Epoch 41/100\n",
            "5/5 [==============================] - 1s 125ms/step - loss: 0.0815 - accuracy: 0.9880 - val_loss: 0.1557 - val_accuracy: 0.9245\n",
            "Epoch 42/100\n",
            "5/5 [==============================] - 1s 131ms/step - loss: 0.0728 - accuracy: 0.9719 - val_loss: 0.1465 - val_accuracy: 0.9434\n",
            "Epoch 43/100\n",
            "5/5 [==============================] - 1s 128ms/step - loss: 0.0678 - accuracy: 0.9948 - val_loss: 0.1544 - val_accuracy: 0.9245\n",
            "Epoch 44/100\n",
            "5/5 [==============================] - 1s 123ms/step - loss: 0.0665 - accuracy: 0.9715 - val_loss: 0.1564 - val_accuracy: 0.9057\n",
            "Epoch 45/100\n",
            "5/5 [==============================] - 1s 126ms/step - loss: 0.0705 - accuracy: 0.9758 - val_loss: 0.1539 - val_accuracy: 0.9623\n",
            "Epoch 46/100\n",
            "5/5 [==============================] - 1s 129ms/step - loss: 0.0816 - accuracy: 0.9741 - val_loss: 0.1295 - val_accuracy: 0.9623\n",
            "Epoch 47/100\n",
            "5/5 [==============================] - 1s 124ms/step - loss: 0.0749 - accuracy: 0.9922 - val_loss: 0.1573 - val_accuracy: 0.9434\n",
            "Epoch 48/100\n",
            "5/5 [==============================] - 1s 126ms/step - loss: 0.0634 - accuracy: 0.9880 - val_loss: 0.1714 - val_accuracy: 0.9245\n",
            "Epoch 49/100\n",
            "5/5 [==============================] - 1s 127ms/step - loss: 0.1035 - accuracy: 0.9793 - val_loss: 0.1467 - val_accuracy: 0.9434\n",
            "Epoch 50/100\n",
            "5/5 [==============================] - 1s 135ms/step - loss: 0.0690 - accuracy: 0.9910 - val_loss: 0.1429 - val_accuracy: 0.9434\n",
            "Epoch 51/100\n",
            "5/5 [==============================] - 1s 127ms/step - loss: 0.0913 - accuracy: 0.9966 - val_loss: 0.1505 - val_accuracy: 0.9434\n",
            "Epoch 52/100\n",
            "5/5 [==============================] - 1s 126ms/step - loss: 0.0651 - accuracy: 0.9922 - val_loss: 0.1645 - val_accuracy: 0.9057\n",
            "Epoch 53/100\n",
            "5/5 [==============================] - 1s 129ms/step - loss: 0.0887 - accuracy: 0.9611 - val_loss: 0.1588 - val_accuracy: 0.9245\n",
            "Epoch 54/100\n",
            "5/5 [==============================] - 1s 127ms/step - loss: 0.0756 - accuracy: 0.9849 - val_loss: 0.1775 - val_accuracy: 0.9057\n",
            "Epoch 55/100\n",
            "5/5 [==============================] - 1s 129ms/step - loss: 0.0949 - accuracy: 0.9870 - val_loss: 0.1225 - val_accuracy: 0.9623\n",
            "Epoch 56/100\n",
            "5/5 [==============================] - 1s 128ms/step - loss: 0.0633 - accuracy: 1.0000 - val_loss: 0.1137 - val_accuracy: 0.9623\n",
            "Epoch 57/100\n",
            "5/5 [==============================] - 1s 127ms/step - loss: 0.0718 - accuracy: 1.0000 - val_loss: 0.1289 - val_accuracy: 0.9623\n",
            "Epoch 58/100\n",
            "5/5 [==============================] - 1s 128ms/step - loss: 0.0701 - accuracy: 0.9966 - val_loss: 0.1575 - val_accuracy: 0.9434\n",
            "Epoch 59/100\n",
            "5/5 [==============================] - 1s 129ms/step - loss: 0.0706 - accuracy: 0.9871 - val_loss: 0.1368 - val_accuracy: 0.9623\n",
            "Epoch 60/100\n",
            "5/5 [==============================] - 1s 124ms/step - loss: 0.0667 - accuracy: 1.0000 - val_loss: 0.1396 - val_accuracy: 0.9623\n",
            "Epoch 61/100\n",
            "5/5 [==============================] - 1s 129ms/step - loss: 0.0667 - accuracy: 0.9870 - val_loss: 0.1391 - val_accuracy: 0.9623\n",
            "Epoch 62/100\n",
            "5/5 [==============================] - 1s 125ms/step - loss: 0.0753 - accuracy: 0.9948 - val_loss: 0.1450 - val_accuracy: 0.9623\n",
            "Epoch 63/100\n",
            "5/5 [==============================] - 1s 130ms/step - loss: 0.0781 - accuracy: 1.0000 - val_loss: 0.1534 - val_accuracy: 0.9623\n",
            "Epoch 64/100\n",
            "5/5 [==============================] - 1s 126ms/step - loss: 0.0922 - accuracy: 0.9966 - val_loss: 0.1552 - val_accuracy: 0.9623\n",
            "Epoch 65/100\n",
            "5/5 [==============================] - 1s 127ms/step - loss: 0.0507 - accuracy: 1.0000 - val_loss: 0.1686 - val_accuracy: 0.9434\n",
            "Epoch 66/100\n",
            "5/5 [==============================] - 1s 131ms/step - loss: 0.0489 - accuracy: 1.0000 - val_loss: 0.1843 - val_accuracy: 0.9434\n",
            "Epoch 67/100\n",
            "5/5 [==============================] - 1s 130ms/step - loss: 0.0702 - accuracy: 0.9689 - val_loss: 0.1227 - val_accuracy: 0.9623\n",
            "Epoch 68/100\n",
            "5/5 [==============================] - 1s 126ms/step - loss: 0.0791 - accuracy: 1.0000 - val_loss: 0.1252 - val_accuracy: 0.9623\n",
            "Epoch 69/100\n",
            "5/5 [==============================] - 1s 131ms/step - loss: 0.0587 - accuracy: 1.0000 - val_loss: 0.1372 - val_accuracy: 0.9623\n",
            "Epoch 70/100\n",
            "5/5 [==============================] - 1s 126ms/step - loss: 0.0552 - accuracy: 1.0000 - val_loss: 0.1509 - val_accuracy: 0.9434\n",
            "Epoch 71/100\n",
            "5/5 [==============================] - 1s 131ms/step - loss: 0.0589 - accuracy: 1.0000 - val_loss: 0.1783 - val_accuracy: 0.9245\n",
            "Epoch 72/100\n",
            "5/5 [==============================] - 1s 125ms/step - loss: 0.0607 - accuracy: 0.9927 - val_loss: 0.1821 - val_accuracy: 0.9245\n",
            "Epoch 73/100\n",
            "5/5 [==============================] - 1s 127ms/step - loss: 0.0627 - accuracy: 0.9979 - val_loss: 0.1622 - val_accuracy: 0.9434\n",
            "Epoch 74/100\n",
            "5/5 [==============================] - 1s 131ms/step - loss: 0.0639 - accuracy: 1.0000 - val_loss: 0.1450 - val_accuracy: 0.9623\n",
            "Epoch 75/100\n",
            "5/5 [==============================] - 1s 127ms/step - loss: 0.0687 - accuracy: 0.9948 - val_loss: 0.1461 - val_accuracy: 0.9434\n",
            "Epoch 76/100\n",
            "5/5 [==============================] - 1s 130ms/step - loss: 0.0639 - accuracy: 1.0000 - val_loss: 0.1520 - val_accuracy: 0.9434\n",
            "Epoch 77/100\n",
            "5/5 [==============================] - 1s 133ms/step - loss: 0.0547 - accuracy: 1.0000 - val_loss: 0.1626 - val_accuracy: 0.9434\n",
            "Epoch 78/100\n",
            "5/5 [==============================] - 1s 127ms/step - loss: 0.0639 - accuracy: 1.0000 - val_loss: 0.1477 - val_accuracy: 0.9434\n",
            "Epoch 79/100\n",
            "5/5 [==============================] - 1s 131ms/step - loss: 0.0551 - accuracy: 1.0000 - val_loss: 0.1446 - val_accuracy: 0.9623\n",
            "Epoch 80/100\n",
            "5/5 [==============================] - 1s 128ms/step - loss: 0.0720 - accuracy: 1.0000 - val_loss: 0.1524 - val_accuracy: 0.9623\n",
            "Epoch 81/100\n",
            "5/5 [==============================] - 1s 130ms/step - loss: 0.0571 - accuracy: 0.9922 - val_loss: 0.1385 - val_accuracy: 0.9623\n",
            "Epoch 82/100\n",
            "5/5 [==============================] - 1s 127ms/step - loss: 0.0579 - accuracy: 1.0000 - val_loss: 0.1347 - val_accuracy: 0.9623\n",
            "Epoch 83/100\n",
            "5/5 [==============================] - 1s 132ms/step - loss: 0.0565 - accuracy: 1.0000 - val_loss: 0.1414 - val_accuracy: 0.9623\n",
            "Epoch 84/100\n",
            "5/5 [==============================] - 1s 133ms/step - loss: 0.0530 - accuracy: 1.0000 - val_loss: 0.1995 - val_accuracy: 0.9245\n",
            "Epoch 85/100\n",
            "5/5 [==============================] - 1s 129ms/step - loss: 0.0543 - accuracy: 0.9979 - val_loss: 0.2459 - val_accuracy: 0.9245\n",
            "Epoch 86/100\n",
            "5/5 [==============================] - 1s 128ms/step - loss: 0.0706 - accuracy: 0.9888 - val_loss: 0.1574 - val_accuracy: 0.9623\n",
            "Epoch 87/100\n",
            "5/5 [==============================] - 1s 132ms/step - loss: 0.0576 - accuracy: 1.0000 - val_loss: 0.1222 - val_accuracy: 0.9811\n",
            "Epoch 88/100\n",
            "5/5 [==============================] - 1s 127ms/step - loss: 0.0525 - accuracy: 1.0000 - val_loss: 0.1247 - val_accuracy: 0.9811\n",
            "Epoch 89/100\n",
            "5/5 [==============================] - 1s 128ms/step - loss: 0.0609 - accuracy: 1.0000 - val_loss: 0.1311 - val_accuracy: 0.9623\n",
            "Epoch 90/100\n",
            "5/5 [==============================] - 1s 128ms/step - loss: 0.0528 - accuracy: 1.0000 - val_loss: 0.1301 - val_accuracy: 0.9623\n",
            "Epoch 91/100\n",
            "5/5 [==============================] - 1s 128ms/step - loss: 0.0588 - accuracy: 1.0000 - val_loss: 0.1379 - val_accuracy: 0.9623\n",
            "Epoch 92/100\n",
            "5/5 [==============================] - 1s 131ms/step - loss: 0.0510 - accuracy: 1.0000 - val_loss: 0.1469 - val_accuracy: 0.9623\n",
            "Epoch 93/100\n",
            "5/5 [==============================] - 1s 127ms/step - loss: 0.0560 - accuracy: 0.9979 - val_loss: 0.1481 - val_accuracy: 0.9623\n",
            "Epoch 94/100\n",
            "5/5 [==============================] - 1s 130ms/step - loss: 0.0431 - accuracy: 1.0000 - val_loss: 0.1344 - val_accuracy: 0.9623\n",
            "Epoch 95/100\n",
            "5/5 [==============================] - 1s 131ms/step - loss: 0.0606 - accuracy: 1.0000 - val_loss: 0.1404 - val_accuracy: 0.9623\n",
            "Epoch 96/100\n",
            "5/5 [==============================] - 1s 128ms/step - loss: 0.0486 - accuracy: 1.0000 - val_loss: 0.1414 - val_accuracy: 0.9623\n",
            "Epoch 97/100\n",
            "5/5 [==============================] - 1s 130ms/step - loss: 0.0576 - accuracy: 0.9927 - val_loss: 0.1518 - val_accuracy: 0.9623\n",
            "Epoch 98/100\n",
            "5/5 [==============================] - 1s 128ms/step - loss: 0.0626 - accuracy: 1.0000 - val_loss: 0.1506 - val_accuracy: 0.9623\n",
            "Epoch 99/100\n",
            "5/5 [==============================] - 1s 131ms/step - loss: 0.0500 - accuracy: 1.0000 - val_loss: 0.1137 - val_accuracy: 0.9623\n",
            "Epoch 100/100\n",
            "5/5 [==============================] - 1s 133ms/step - loss: 0.0530 - accuracy: 1.0000 - val_loss: 0.1088 - val_accuracy: 0.9623\n"
          ],
          "name": "stdout"
        }
      ]
    },
    {
      "cell_type": "code",
      "metadata": {
        "colab": {
          "base_uri": "https://localhost:8080/",
          "height": 320
        },
        "id": "uhPnnxLhzq-V",
        "outputId": "4d0a0dea-e4f3-4fcf-e3fa-ae2b07f91191"
      },
      "source": [
        "# 학습과정 시각화\n",
        "pd.DataFrame(history.history).plot(figsize=(8,5))\n",
        "plt.grid(True)\n",
        "plt.gca().set_ylim(-0.1,1.1)\n",
        "plt.show()"
      ],
      "execution_count": null,
      "outputs": [
        {
          "output_type": "display_data",
          "data": {
            "image/png": "[encoded data removed]",
            "text/plain": [
              "<Figure size 576x360 with 1 Axes>"
            ]
          },
          "metadata": {
            "tags": [],
            "needs_background": "light"
          }
        }
      ]
    },
    {
      "cell_type": "code",
      "metadata": {
        "colab": {
          "base_uri": "https://localhost:8080/"
        },
        "id": "NAKs38lC0r-y",
        "outputId": "4762e978-8b8b-4c92-c796-86ad85939330"
      },
      "source": [
        "## test set에다가 평가\n",
        "test_loss, test_mae= model.evaluate(X_test, y_test)"
      ],
      "execution_count": null,
      "outputs": [
        {
          "output_type": "stream",
          "text": [
            "2/2 [==============================] - 0s 23ms/step - loss: 0.0614 - accuracy: 0.9811\n"
          ],
          "name": "stdout"
        }
      ]
    },
    {
      "cell_type": "code",
      "metadata": {
        "id": "-87QNsBq1DoU"
      },
      "source": [
        "test_prediction= model.predict(X_test)\n",
        "test_prediction"
      ],
      "execution_count": null,
      "outputs": []
    },
    {
      "cell_type": "code",
      "metadata": {
        "id": "XFjOXreh5Rl2"
      },
      "source": [
        "y_pred=[]\n",
        "for i in test_prediction:\n",
        "  if i[0]>i[1]:\n",
        "    y_pred.append(0)\n",
        "  else:\n",
        "    y_pred.append(1)\n",
        "\n",
        "y_pred"
      ],
      "execution_count": null,
      "outputs": []
    },
    {
      "cell_type": "code",
      "metadata": {
        "colab": {
          "base_uri": "https://localhost:8080/"
        },
        "id": "c1axu5bs5KNk",
        "outputId": "7ca13665-cf54-42e5-ec55-cdc6b35fceac"
      },
      "source": [
        "y_test"
      ],
      "execution_count": null,
      "outputs": [
        {
          "output_type": "execute_result",
          "data": {
            "text/plain": [
              "array([0, 1, 1, 1, 1, 0, 1, 1, 1, 0, 1, 1, 1, 1, 1, 1, 1, 1, 1, 1, 1, 1,\n",
              "       1, 1, 1, 1, 1, 1, 1, 1, 1, 1, 1, 1, 1, 1, 1, 1, 1, 1, 1, 1, 1, 0,\n",
              "       1, 1, 1, 0, 1, 1, 1, 0, 1])"
            ]
          },
          "metadata": {
            "tags": []
          },
          "execution_count": 32
        }
      ]
    },
    {
      "cell_type": "markdown",
      "metadata": {
        "id": "ILrjSfBD8mJq"
      },
      "source": [
        "## Confusion Matrix"
      ]
    },
    {
      "cell_type": "code",
      "metadata": {
        "colab": {
          "base_uri": "https://localhost:8080/"
        },
        "id": "lV6H4x2Y1NPB",
        "outputId": "ed1f2e7d-c88d-427f-eb88-5b04af8c3c03"
      },
      "source": [
        "from sklearn.metrics import confusion_matrix\n",
        "\n",
        "confusion_matrix(y_test, y_pred)"
      ],
      "execution_count": null,
      "outputs": [
        {
          "output_type": "execute_result",
          "data": {
            "text/plain": [
              "array([[ 5,  1],\n",
              "       [ 0, 47]])"
            ]
          },
          "metadata": {
            "tags": []
          },
          "execution_count": 39
        }
      ]
    },
    {
      "cell_type": "markdown",
      "metadata": {
        "id": "DVMOBWub8ffT"
      },
      "source": [
        "## FAR로 Evaluation"
      ]
    },
    {
      "cell_type": "code",
      "metadata": {
        "colab": {
          "base_uri": "https://localhost:8080/"
        },
        "id": "U1cNXRBm6jc0",
        "outputId": "162be9a4-2683-4bdd-c11e-d80f43ea739f"
      },
      "source": [
        "far= 1/48*100\n",
        "print('FAR={:.4}%'.format(far)) "
      ],
      "execution_count": null,
      "outputs": [
        {
          "output_type": "stream",
          "text": [
            "FAR=2.083%\n"
          ],
          "name": "stdout"
        }
      ]
    },
    {
      "cell_type": "code",
      "metadata": {
        "id": "zxRfRHP563up"
      },
      "source": [
        ""
      ],
      "execution_count": null,
      "outputs": []
    }
  ]
}