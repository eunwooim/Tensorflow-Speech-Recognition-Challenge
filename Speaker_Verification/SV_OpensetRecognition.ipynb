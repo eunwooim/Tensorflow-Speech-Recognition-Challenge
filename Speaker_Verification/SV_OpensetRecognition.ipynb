{
  "nbformat": 4,
  "nbformat_minor": 0,
  "metadata": {
    "colab": {
      "name": "SV_OpensetRecognition",
      "provenance": [],
      "collapsed_sections": [],
      "machine_shape": "hm",
      "authorship_tag": "ABX9TyMvuRyWpyYvfMWL6OOwZQvc",
      "include_colab_link": true
    },
    "kernelspec": {
      "name": "python3",
      "display_name": "Python 3"
    },
    "language_info": {
      "name": "python"
    },
    "accelerator": "GPU"
  },
  "cells": [
    {
      "cell_type": "markdown",
      "metadata": {
        "id": "view-in-github",
        "colab_type": "text"
      },
      "source": [
        "<a href=\"https://colab.research.google.com/github/imeunu/Capstone_PBL/blob/main/SV_OpensetRecognition.ipynb\" target=\"_parent\"><img src=\"https://colab.research.google.com/assets/colab-badge.svg\" alt=\"Open In Colab\"/></a>"
      ]
    },
    {
      "cell_type": "code",
      "metadata": {
        "colab": {
          "base_uri": "https://localhost:8080/"
        },
        "id": "er_yx-s-wNI4",
        "outputId": "eaa50c1e-64a8-4fa7-c137-57d8f2e0af69"
      },
      "source": [
        "from google.colab import drive\n",
        "drive.mount('/content/drive')"
      ],
      "execution_count": 1,
      "outputs": [
        {
          "output_type": "stream",
          "text": [
            "Mounted at /content/drive\n"
          ],
          "name": "stdout"
        }
      ]
    },
    {
      "cell_type": "code",
      "metadata": {
        "id": "W8vqyzPvwkZ_"
      },
      "source": [
        "import os\n",
        "import csv\n",
        "import pandas as pd\n",
        "import numpy as np\n",
        "import matplotlib.pyplot as plt\n",
        "\n",
        "\n",
        "import tensorflow as tf"
      ],
      "execution_count": 566,
      "outputs": []
    },
    {
      "cell_type": "code",
      "metadata": {
        "id": "ergvduMlwsco",
        "colab": {
          "base_uri": "https://localhost:8080/"
        },
        "outputId": "e2c182a4-8cea-41d8-c0a5-d83d9f7ce5a7"
      },
      "source": [
        "mfcc_folder_path= '/content/drive/MyDrive/화자인식/Preprocessed_mfcc'\n",
        "list_word_folder= os.listdir(mfcc_folder_path)\n",
        "list_word_folder"
      ],
      "execution_count": 567,
      "outputs": [
        {
          "output_type": "execute_result",
          "data": {
            "text/plain": [
              "['sheila',\n",
              " 'six',\n",
              " 'up',\n",
              " 'two',\n",
              " 'three',\n",
              " 'stop',\n",
              " 'wow',\n",
              " 'zero',\n",
              " 'tree',\n",
              " 'yes',\n",
              " 'no',\n",
              " 'on',\n",
              " 'marvin',\n",
              " 'one',\n",
              " 'left',\n",
              " 'right',\n",
              " 'off',\n",
              " 'nine',\n",
              " 'seven',\n",
              " 'house',\n",
              " 'eight',\n",
              " 'dog',\n",
              " 'bed',\n",
              " 'happy',\n",
              " 'five',\n",
              " 'go',\n",
              " 'bird',\n",
              " 'four',\n",
              " 'down',\n",
              " 'cat']"
            ]
          },
          "metadata": {
            "tags": []
          },
          "execution_count": 567
        }
      ]
    },
    {
      "cell_type": "code",
      "metadata": {
        "id": "JItB9rtvwuF5"
      },
      "source": [
        "ver_X= []\n",
        "ver_Y= []\n",
        "unver_X=[]\n",
        "unver_Y=[]\n",
        "ver_list=['0b77ee66', '0b40aa8e', '1a5b9ca4']  # 등록할 화자들\n",
        "for word in list_word_folder:\n",
        "  word_dir= mfcc_folder_path+'/'+word\n",
        "  list_csv= os.listdir(word_dir)\n",
        "  for file in list_csv: # 등록할 데이터 저장\n",
        "    if file.split('_')[2] in ver_list:\n",
        "      csv_dir= word_dir+'/'+file\n",
        "      data= np.genfromtxt(csv_dir, delimiter=',', dtype= float)\n",
        "      ver_X.append(data)\n",
        "      \n",
        "      if file.split('_')[2]==ver_list[0]:\n",
        "        ver_Y.append(0)\n",
        "      elif file.split('_')[2]== ver_list[1]:\n",
        "        ver_Y.append(1)\n",
        "      else:\n",
        "        ver_Y.append(2)\n",
        "    else: # 등록되지 않은 데이터 저장\n",
        "      csv_dir= word_dir+'/'+file\n",
        "      data= np.genfromtxt(csv_dir, delimiter=',', dtype=float)\n",
        "      unver_X.append(data)\n",
        "      unver_Y.append(3)"
      ],
      "execution_count": 729,
      "outputs": []
    },
    {
      "cell_type": "code",
      "metadata": {
        "colab": {
          "base_uri": "https://localhost:8080/"
        },
        "id": "K9__sW39yXu8",
        "outputId": "12eede87-ccbd-49bf-ebae-92628b7a5b4a"
      },
      "source": [
        "ver_X= np.asarray(ver_X)\n",
        "unver_X= np.asarray(unver_X)\n",
        "print('shape of verified X:', ver_X.shape,\n",
        "      '\\nshape of unverified X:', unver_X.shape)"
      ],
      "execution_count": 730,
      "outputs": [
        {
          "output_type": "stream",
          "text": [
            "shape of verified X: (79, 196, 14) \n",
            "shape of unverified X: (184, 196, 14)\n"
          ],
          "name": "stdout"
        }
      ]
    },
    {
      "cell_type": "code",
      "metadata": {
        "colab": {
          "base_uri": "https://localhost:8080/"
        },
        "id": "S8gKBrPdyc1S",
        "outputId": "50b4c9b6-783c-45d1-e5d2-c7d9119ff8ad"
      },
      "source": [
        "ver_Y= np.asarray(ver_Y)\n",
        "unver_Y= np.asarray(unver_Y)\n",
        "print('shape of verified Y:', ver_Y.shape,\n",
        "      '\\nshape of unverified Y:', unver_Y.shape)"
      ],
      "execution_count": 731,
      "outputs": [
        {
          "output_type": "stream",
          "text": [
            "shape of verified Y: (79,) \n",
            "shape of unverified Y: (184,)\n"
          ],
          "name": "stdout"
        }
      ]
    },
    {
      "cell_type": "code",
      "metadata": {
        "colab": {
          "base_uri": "https://localhost:8080/"
        },
        "id": "GQhQkADYyeTm",
        "outputId": "4752cbd6-9420-46a5-ef28-4cbc3a3d979e"
      },
      "source": [
        "from sklearn.model_selection import train_test_split\n",
        "## 7: 1.5: 1.5 로 분리\n",
        "## Stratifiy를 이용해서 데이터 불균형 해소\n",
        "ver_X_train, X_save, ver_y_train, y_save= train_test_split(ver_X, ver_Y, test_size= 0.3, stratify= ver_Y)\n",
        "ver_X_test, ver_X_val, ver_y_test, ver_y_val= train_test_split(X_save, y_save, test_size= 0.5, stratify= y_save)\n",
        "\n",
        "ver_X_train= np.asarray(ver_X_train)\n",
        "ver_X_val= np.asarray(ver_X_val)\n",
        "ver_X_test=np.asarray(ver_X_test)\n",
        "print(ver_X_train.shape, ver_X_test.shape, ver_X_val.shape)\n",
        "print(ver_y_train.shape, ver_y_test.shape, ver_y_val.shape)"
      ],
      "execution_count": 741,
      "outputs": [
        {
          "output_type": "stream",
          "text": [
            "(55, 196, 14) (12, 196, 14) (12, 196, 14)\n",
            "(55,) (12,) (12,)\n"
          ],
          "name": "stdout"
        }
      ]
    },
    {
      "cell_type": "code",
      "metadata": {
        "colab": {
          "base_uri": "https://localhost:8080/"
        },
        "id": "GwpYu3CqDCEw",
        "outputId": "fc933d25-0569-40d7-f33b-e36845a475a8"
      },
      "source": [
        "# test set을 unver 과 합치기\n",
        "X_test= np.concatenate((ver_X_test, unver_X), axis=0)\n",
        "y_test= np.concatenate((ver_y_test, unver_Y), axis=0)\n",
        "print(X_test.shape, y_test.shape)"
      ],
      "execution_count": 740,
      "outputs": [
        {
          "output_type": "stream",
          "text": [
            "(196, 196, 14) (196,)\n"
          ],
          "name": "stdout"
        }
      ]
    },
    {
      "cell_type": "code",
      "metadata": {
        "id": "7LIu_vGBzKTD",
        "colab": {
          "base_uri": "https://localhost:8080/"
        },
        "outputId": "880ee30d-f063-4407-d29a-950fa3982460"
      },
      "source": [
        "## 차원 확장\n",
        "ver_X_train= np.expand_dims(ver_X_train, -1)\n",
        "ver_X_val= np.expand_dims(ver_X_val, -1)\n",
        "X_test= np.expand_dims(X_test, -1)\n",
        "print('shape of ver_X_train:', ver_X_train.shape,\n",
        "      '\\nshape of ver_X_val:', ver_X_val.shape,\n",
        "      '\\nshape of X_test:', X_test.shape)"
      ],
      "execution_count": 742,
      "outputs": [
        {
          "output_type": "stream",
          "text": [
            "shape of ver_X_train: (55, 196, 14, 1) \n",
            "shape of ver_X_val: (12, 196, 14, 1) \n",
            "shape of X_test: (196, 196, 14, 1)\n"
          ],
          "name": "stdout"
        }
      ]
    },
    {
      "cell_type": "code",
      "metadata": {
        "id": "vs5pBZ3qzMEW"
      },
      "source": [
        "from keras import models\n",
        "from keras import layers\n",
        "import keras\n",
        "from keras.layers import Dense, Conv2D, Flatten, Dropout, AveragePooling2D, BatchNormalization\n",
        "from tensorflow.keras import optimizers,regularizers\n",
        "\n",
        "model = models.Sequential()\n",
        "model.add(Conv2D(64,7, activation='relu',padding= 'same', input_shape=(196, 14, 1)))\n",
        "model.add(MaxPooling2D(2))\n",
        "model.add(Conv2D(128,3,activation='relu',padding='same'))\n",
        "model.add(Conv2D(128,3,activation='relu',padding='same'))\n",
        "model.add(MaxPooling2D(2))\n",
        "model.add(Conv2D(256,3,activation='relu',padding='same'))\n",
        "model.add(Conv2D(256,3,activation='relu',padding='same'))\n",
        "model.add(Flatten())\n",
        "model.add(Dense(128, activation='relu'))\n",
        "model.add(Dropout(0.5))\n",
        "model.add(Dense(64, activation='relu'))\n",
        "model.add(Dropout(0.5))\n",
        "model.add(Dense(3, activation='softmax'))\n",
        "\n",
        "\n",
        "model.compile(optimizer='adam',\n",
        "              loss='sparse_categorical_crossentropy',\n",
        "              metrics=['accuracy'])"
      ],
      "execution_count": 743,
      "outputs": []
    },
    {
      "cell_type": "code",
      "metadata": {
        "id": "a2s04Hj6-NUc",
        "colab": {
          "base_uri": "https://localhost:8080/"
        },
        "outputId": "8decd5b3-437b-4772-c95b-2e1c29660c84"
      },
      "source": [
        "from keras.callbacks import EarlyStopping\n",
        "# callback\n",
        "es = EarlyStopping(monitor='val_loss', mode='min', verbose=1, patience=50)\n",
        "\n",
        "history = model.fit(ver_X_train,\n",
        "                    ver_y_train,\n",
        "                    validation_data=(ver_X_val, ver_y_val),\n",
        "                    epochs=300)"
      ],
      "execution_count": 744,
      "outputs": [
        {
          "output_type": "stream",
          "text": [
            "Epoch 1/300\n",
            "2/2 [==============================] - 1s 613ms/step - loss: 1.3196 - accuracy: 0.3674 - val_loss: 1.1369 - val_accuracy: 0.2500\n",
            "Epoch 2/300\n",
            "2/2 [==============================] - 0s 45ms/step - loss: 1.7672 - accuracy: 0.2652 - val_loss: 1.0784 - val_accuracy: 0.4167\n",
            "Epoch 3/300\n",
            "2/2 [==============================] - 0s 45ms/step - loss: 1.0856 - accuracy: 0.3917 - val_loss: 1.0711 - val_accuracy: 0.4167\n",
            "Epoch 4/300\n",
            "2/2 [==============================] - 0s 42ms/step - loss: 1.6600 - accuracy: 0.3085 - val_loss: 1.0822 - val_accuracy: 0.4167\n",
            "Epoch 5/300\n",
            "2/2 [==============================] - 0s 47ms/step - loss: 1.0621 - accuracy: 0.4350 - val_loss: 1.0690 - val_accuracy: 0.5000\n",
            "Epoch 6/300\n",
            "2/2 [==============================] - 0s 43ms/step - loss: 1.0513 - accuracy: 0.4004 - val_loss: 1.0325 - val_accuracy: 0.5000\n",
            "Epoch 7/300\n",
            "2/2 [==============================] - 0s 47ms/step - loss: 1.0295 - accuracy: 0.3761 - val_loss: 1.0008 - val_accuracy: 0.7500\n",
            "Epoch 8/300\n",
            "2/2 [==============================] - 0s 44ms/step - loss: 1.0100 - accuracy: 0.4593 - val_loss: 0.9475 - val_accuracy: 0.5833\n",
            "Epoch 9/300\n",
            "2/2 [==============================] - 0s 43ms/step - loss: 1.0525 - accuracy: 0.4125 - val_loss: 0.9625 - val_accuracy: 0.6667\n",
            "Epoch 10/300\n",
            "2/2 [==============================] - 0s 45ms/step - loss: 1.0040 - accuracy: 0.4748 - val_loss: 0.9309 - val_accuracy: 0.6667\n",
            "Epoch 11/300\n",
            "2/2 [==============================] - 0s 43ms/step - loss: 0.9858 - accuracy: 0.5095 - val_loss: 0.7820 - val_accuracy: 0.5833\n",
            "Epoch 12/300\n",
            "2/2 [==============================] - 0s 42ms/step - loss: 0.9491 - accuracy: 0.5044 - val_loss: 0.6905 - val_accuracy: 0.6667\n",
            "Epoch 13/300\n",
            "2/2 [==============================] - 0s 43ms/step - loss: 0.8745 - accuracy: 0.5598 - val_loss: 0.8416 - val_accuracy: 0.6667\n",
            "Epoch 14/300\n",
            "2/2 [==============================] - 0s 44ms/step - loss: 0.8678 - accuracy: 0.6568 - val_loss: 0.7603 - val_accuracy: 0.6667\n",
            "Epoch 15/300\n",
            "2/2 [==============================] - 0s 44ms/step - loss: 0.8209 - accuracy: 0.6777 - val_loss: 0.6157 - val_accuracy: 0.7500\n",
            "Epoch 16/300\n",
            "2/2 [==============================] - 0s 43ms/step - loss: 0.8256 - accuracy: 0.6170 - val_loss: 0.6043 - val_accuracy: 0.7500\n",
            "Epoch 17/300\n",
            "2/2 [==============================] - 0s 48ms/step - loss: 0.6953 - accuracy: 0.6239 - val_loss: 0.5830 - val_accuracy: 0.8333\n",
            "Epoch 18/300\n",
            "2/2 [==============================] - 0s 44ms/step - loss: 0.6585 - accuracy: 0.7331 - val_loss: 0.5463 - val_accuracy: 0.7500\n",
            "Epoch 19/300\n",
            "2/2 [==============================] - 0s 43ms/step - loss: 0.9056 - accuracy: 0.6430 - val_loss: 0.6909 - val_accuracy: 0.8333\n",
            "Epoch 20/300\n",
            "2/2 [==============================] - 0s 43ms/step - loss: 0.6021 - accuracy: 0.8146 - val_loss: 0.5819 - val_accuracy: 0.7500\n",
            "Epoch 21/300\n",
            "2/2 [==============================] - 0s 45ms/step - loss: 0.6861 - accuracy: 0.6655 - val_loss: 0.5686 - val_accuracy: 0.7500\n",
            "Epoch 22/300\n",
            "2/2 [==============================] - 0s 44ms/step - loss: 0.6623 - accuracy: 0.7019 - val_loss: 0.4606 - val_accuracy: 0.8333\n",
            "Epoch 23/300\n",
            "2/2 [==============================] - 0s 43ms/step - loss: 0.6207 - accuracy: 0.7816 - val_loss: 0.4913 - val_accuracy: 0.9167\n",
            "Epoch 24/300\n",
            "2/2 [==============================] - 0s 45ms/step - loss: 0.5978 - accuracy: 0.7903 - val_loss: 0.5542 - val_accuracy: 0.7500\n",
            "Epoch 25/300\n",
            "2/2 [==============================] - 0s 46ms/step - loss: 0.6156 - accuracy: 0.7920 - val_loss: 0.4484 - val_accuracy: 0.9167\n",
            "Epoch 26/300\n",
            "2/2 [==============================] - 0s 44ms/step - loss: 0.4886 - accuracy: 0.8059 - val_loss: 0.4226 - val_accuracy: 0.9167\n",
            "Epoch 27/300\n",
            "2/2 [==============================] - 0s 43ms/step - loss: 0.4818 - accuracy: 0.8059 - val_loss: 0.5452 - val_accuracy: 0.8333\n",
            "Epoch 28/300\n",
            "2/2 [==============================] - 0s 44ms/step - loss: 0.6483 - accuracy: 0.6828 - val_loss: 0.3551 - val_accuracy: 0.9167\n",
            "Epoch 29/300\n",
            "2/2 [==============================] - 0s 45ms/step - loss: 0.5876 - accuracy: 0.7244 - val_loss: 0.3487 - val_accuracy: 0.9167\n",
            "Epoch 30/300\n",
            "2/2 [==============================] - 0s 44ms/step - loss: 0.4341 - accuracy: 0.8059 - val_loss: 0.4152 - val_accuracy: 0.9167\n",
            "Epoch 31/300\n",
            "2/2 [==============================] - 0s 47ms/step - loss: 0.3293 - accuracy: 0.8735 - val_loss: 0.3984 - val_accuracy: 0.8333\n",
            "Epoch 32/300\n",
            "2/2 [==============================] - 0s 44ms/step - loss: 0.4003 - accuracy: 0.8405 - val_loss: 0.3023 - val_accuracy: 0.9167\n",
            "Epoch 33/300\n",
            "2/2 [==============================] - 0s 50ms/step - loss: 0.4092 - accuracy: 0.7816 - val_loss: 0.2401 - val_accuracy: 0.8333\n",
            "Epoch 34/300\n",
            "2/2 [==============================] - 0s 44ms/step - loss: 0.2432 - accuracy: 0.8873 - val_loss: 0.5132 - val_accuracy: 0.8333\n",
            "Epoch 35/300\n",
            "2/2 [==============================] - 0s 44ms/step - loss: 0.5105 - accuracy: 0.8614 - val_loss: 0.5209 - val_accuracy: 0.9167\n",
            "Epoch 36/300\n",
            "2/2 [==============================] - 0s 41ms/step - loss: 0.5222 - accuracy: 0.7712 - val_loss: 0.3247 - val_accuracy: 0.9167\n",
            "Epoch 37/300\n",
            "2/2 [==============================] - 0s 42ms/step - loss: 0.2905 - accuracy: 0.8960 - val_loss: 0.1772 - val_accuracy: 1.0000\n",
            "Epoch 38/300\n",
            "2/2 [==============================] - 0s 44ms/step - loss: 0.1528 - accuracy: 0.9636 - val_loss: 0.2016 - val_accuracy: 0.9167\n",
            "Epoch 39/300\n",
            "2/2 [==============================] - 0s 45ms/step - loss: 0.2052 - accuracy: 0.9428 - val_loss: 0.5436 - val_accuracy: 0.8333\n",
            "Epoch 40/300\n",
            "2/2 [==============================] - 0s 43ms/step - loss: 0.1786 - accuracy: 0.9653 - val_loss: 0.7979 - val_accuracy: 0.8333\n",
            "Epoch 41/300\n",
            "2/2 [==============================] - 0s 47ms/step - loss: 0.5127 - accuracy: 0.8752 - val_loss: 0.3315 - val_accuracy: 0.8333\n",
            "Epoch 42/300\n",
            "2/2 [==============================] - 0s 47ms/step - loss: 0.2224 - accuracy: 0.8735 - val_loss: 0.2323 - val_accuracy: 0.8333\n",
            "Epoch 43/300\n",
            "2/2 [==============================] - 0s 42ms/step - loss: 0.8546 - accuracy: 0.9203 - val_loss: 0.2919 - val_accuracy: 0.9167\n",
            "Epoch 44/300\n",
            "2/2 [==============================] - 0s 45ms/step - loss: 0.0882 - accuracy: 0.9879 - val_loss: 0.2952 - val_accuracy: 0.9167\n",
            "Epoch 45/300\n",
            "2/2 [==============================] - 0s 45ms/step - loss: 0.1695 - accuracy: 0.9549 - val_loss: 0.1819 - val_accuracy: 0.9167\n",
            "Epoch 46/300\n",
            "2/2 [==============================] - 0s 45ms/step - loss: 0.1062 - accuracy: 0.9758 - val_loss: 0.1313 - val_accuracy: 0.9167\n",
            "Epoch 47/300\n",
            "2/2 [==============================] - 0s 44ms/step - loss: 0.1229 - accuracy: 0.9549 - val_loss: 0.1313 - val_accuracy: 0.9167\n",
            "Epoch 48/300\n",
            "2/2 [==============================] - 0s 45ms/step - loss: 0.0990 - accuracy: 0.9775 - val_loss: 0.0897 - val_accuracy: 0.9167\n",
            "Epoch 49/300\n",
            "2/2 [==============================] - 0s 44ms/step - loss: 0.1093 - accuracy: 0.9324 - val_loss: 0.0499 - val_accuracy: 1.0000\n",
            "Epoch 50/300\n",
            "2/2 [==============================] - 0s 44ms/step - loss: 0.0164 - accuracy: 1.0000 - val_loss: 0.0345 - val_accuracy: 1.0000\n",
            "Epoch 51/300\n",
            "2/2 [==============================] - 0s 48ms/step - loss: 0.2759 - accuracy: 0.8977 - val_loss: 0.5606 - val_accuracy: 0.9167\n",
            "Epoch 52/300\n",
            "2/2 [==============================] - 0s 44ms/step - loss: 0.1860 - accuracy: 0.9081 - val_loss: 0.2704 - val_accuracy: 0.9167\n",
            "Epoch 53/300\n",
            "2/2 [==============================] - 0s 44ms/step - loss: 0.0556 - accuracy: 0.9879 - val_loss: 0.0136 - val_accuracy: 1.0000\n",
            "Epoch 54/300\n",
            "2/2 [==============================] - 0s 45ms/step - loss: 0.0606 - accuracy: 0.9775 - val_loss: 0.3081 - val_accuracy: 0.9167\n",
            "Epoch 55/300\n",
            "2/2 [==============================] - 0s 45ms/step - loss: 0.2482 - accuracy: 0.9411 - val_loss: 0.0799 - val_accuracy: 0.9167\n",
            "Epoch 56/300\n",
            "2/2 [==============================] - 0s 43ms/step - loss: 0.1146 - accuracy: 0.9636 - val_loss: 0.1540 - val_accuracy: 0.9167\n",
            "Epoch 57/300\n",
            "2/2 [==============================] - 0s 43ms/step - loss: 0.0420 - accuracy: 1.0000 - val_loss: 0.0669 - val_accuracy: 1.0000\n",
            "Epoch 58/300\n",
            "2/2 [==============================] - 0s 48ms/step - loss: 0.2685 - accuracy: 0.8735 - val_loss: 0.0957 - val_accuracy: 1.0000\n",
            "Epoch 59/300\n",
            "2/2 [==============================] - 0s 47ms/step - loss: 0.1251 - accuracy: 0.9653 - val_loss: 0.1739 - val_accuracy: 0.9167\n",
            "Epoch 60/300\n",
            "2/2 [==============================] - 0s 44ms/step - loss: 0.0797 - accuracy: 0.9775 - val_loss: 0.3576 - val_accuracy: 0.9167\n",
            "Epoch 61/300\n",
            "2/2 [==============================] - 0s 44ms/step - loss: 0.2320 - accuracy: 0.9324 - val_loss: 0.1936 - val_accuracy: 0.9167\n",
            "Epoch 62/300\n",
            "2/2 [==============================] - 0s 43ms/step - loss: 0.2234 - accuracy: 0.9532 - val_loss: 0.1094 - val_accuracy: 0.9167\n",
            "Epoch 63/300\n",
            "2/2 [==============================] - 0s 43ms/step - loss: 0.1574 - accuracy: 0.9307 - val_loss: 0.4357 - val_accuracy: 0.8333\n",
            "Epoch 64/300\n",
            "2/2 [==============================] - 0s 44ms/step - loss: 0.0842 - accuracy: 0.9775 - val_loss: 0.6388 - val_accuracy: 0.8333\n",
            "Epoch 65/300\n",
            "2/2 [==============================] - 0s 47ms/step - loss: 0.1057 - accuracy: 0.9324 - val_loss: 0.2519 - val_accuracy: 0.9167\n",
            "Epoch 66/300\n",
            "2/2 [==============================] - 0s 43ms/step - loss: 0.2020 - accuracy: 0.9411 - val_loss: 0.0317 - val_accuracy: 1.0000\n",
            "Epoch 67/300\n",
            "2/2 [==============================] - 0s 45ms/step - loss: 0.1542 - accuracy: 0.9307 - val_loss: 0.1650 - val_accuracy: 0.9167\n",
            "Epoch 68/300\n",
            "2/2 [==============================] - 0s 45ms/step - loss: 0.0480 - accuracy: 0.9879 - val_loss: 0.0431 - val_accuracy: 1.0000\n",
            "Epoch 69/300\n",
            "2/2 [==============================] - 0s 42ms/step - loss: 0.0790 - accuracy: 0.9653 - val_loss: 0.0208 - val_accuracy: 1.0000\n",
            "Epoch 70/300\n",
            "2/2 [==============================] - 0s 46ms/step - loss: 0.0365 - accuracy: 0.9879 - val_loss: 0.0948 - val_accuracy: 0.9167\n",
            "Epoch 71/300\n",
            "2/2 [==============================] - 0s 46ms/step - loss: 0.0433 - accuracy: 1.0000 - val_loss: 0.0843 - val_accuracy: 1.0000\n",
            "Epoch 72/300\n",
            "2/2 [==============================] - 0s 42ms/step - loss: 0.0543 - accuracy: 0.9775 - val_loss: 0.0333 - val_accuracy: 1.0000\n",
            "Epoch 73/300\n",
            "2/2 [==============================] - 0s 42ms/step - loss: 0.0374 - accuracy: 0.9758 - val_loss: 0.0036 - val_accuracy: 1.0000\n",
            "Epoch 74/300\n",
            "2/2 [==============================] - 0s 44ms/step - loss: 0.0522 - accuracy: 0.9775 - val_loss: 4.0481e-04 - val_accuracy: 1.0000\n",
            "Epoch 75/300\n",
            "2/2 [==============================] - 0s 45ms/step - loss: 0.0329 - accuracy: 0.9775 - val_loss: 6.7900e-04 - val_accuracy: 1.0000\n",
            "Epoch 76/300\n",
            "2/2 [==============================] - 0s 43ms/step - loss: 0.0153 - accuracy: 1.0000 - val_loss: 0.0016 - val_accuracy: 1.0000\n",
            "Epoch 77/300\n",
            "2/2 [==============================] - 0s 46ms/step - loss: 0.0043 - accuracy: 1.0000 - val_loss: 0.0013 - val_accuracy: 1.0000\n",
            "Epoch 78/300\n",
            "2/2 [==============================] - 0s 44ms/step - loss: 0.0490 - accuracy: 0.9653 - val_loss: 3.6838e-04 - val_accuracy: 1.0000\n",
            "Epoch 79/300\n",
            "2/2 [==============================] - 0s 46ms/step - loss: 0.0290 - accuracy: 0.9775 - val_loss: 7.8960e-05 - val_accuracy: 1.0000\n",
            "Epoch 80/300\n",
            "2/2 [==============================] - 0s 48ms/step - loss: 0.0087 - accuracy: 1.0000 - val_loss: 6.3959e-05 - val_accuracy: 1.0000\n",
            "Epoch 81/300\n",
            "2/2 [==============================] - 0s 47ms/step - loss: 0.0092 - accuracy: 1.0000 - val_loss: 3.3773e-05 - val_accuracy: 1.0000\n",
            "Epoch 82/300\n",
            "2/2 [==============================] - 0s 43ms/step - loss: 0.0188 - accuracy: 0.9879 - val_loss: 5.0844e-05 - val_accuracy: 1.0000\n",
            "Epoch 83/300\n",
            "2/2 [==============================] - 0s 47ms/step - loss: 0.0447 - accuracy: 0.9879 - val_loss: 4.6123e-04 - val_accuracy: 1.0000\n",
            "Epoch 84/300\n",
            "2/2 [==============================] - 0s 47ms/step - loss: 0.0105 - accuracy: 1.0000 - val_loss: 0.0025 - val_accuracy: 1.0000\n",
            "Epoch 85/300\n",
            "2/2 [==============================] - 0s 45ms/step - loss: 0.0390 - accuracy: 0.9775 - val_loss: 2.6751e-04 - val_accuracy: 1.0000\n",
            "Epoch 86/300\n",
            "2/2 [==============================] - 0s 46ms/step - loss: 0.0071 - accuracy: 1.0000 - val_loss: 0.0052 - val_accuracy: 1.0000\n",
            "Epoch 87/300\n",
            "2/2 [==============================] - 0s 45ms/step - loss: 0.0439 - accuracy: 0.9653 - val_loss: 0.0153 - val_accuracy: 1.0000\n",
            "Epoch 88/300\n",
            "2/2 [==============================] - 0s 46ms/step - loss: 0.0086 - accuracy: 1.0000 - val_loss: 0.0192 - val_accuracy: 1.0000\n",
            "Epoch 89/300\n",
            "2/2 [==============================] - 0s 43ms/step - loss: 0.0549 - accuracy: 0.9775 - val_loss: 0.0111 - val_accuracy: 1.0000\n",
            "Epoch 90/300\n",
            "2/2 [==============================] - 0s 45ms/step - loss: 0.2968 - accuracy: 0.9636 - val_loss: 0.1007 - val_accuracy: 0.9167\n",
            "Epoch 91/300\n",
            "2/2 [==============================] - 0s 48ms/step - loss: 0.0897 - accuracy: 0.9653 - val_loss: 0.7975 - val_accuracy: 0.9167\n",
            "Epoch 92/300\n",
            "2/2 [==============================] - 0s 47ms/step - loss: 0.2037 - accuracy: 0.9428 - val_loss: 0.5191 - val_accuracy: 0.9167\n",
            "Epoch 93/300\n",
            "2/2 [==============================] - 0s 45ms/step - loss: 0.2424 - accuracy: 0.9081 - val_loss: 1.8115 - val_accuracy: 0.7500\n",
            "Epoch 94/300\n",
            "2/2 [==============================] - 0s 46ms/step - loss: 0.8863 - accuracy: 0.7920 - val_loss: 1.0438 - val_accuracy: 0.7500\n",
            "Epoch 95/300\n",
            "2/2 [==============================] - 0s 46ms/step - loss: 0.2003 - accuracy: 0.8977 - val_loss: 0.6167 - val_accuracy: 0.8333\n",
            "Epoch 96/300\n",
            "2/2 [==============================] - 0s 44ms/step - loss: 0.0884 - accuracy: 0.9879 - val_loss: 0.4989 - val_accuracy: 0.9167\n",
            "Epoch 97/300\n",
            "2/2 [==============================] - 0s 48ms/step - loss: 0.0501 - accuracy: 0.9758 - val_loss: 0.4997 - val_accuracy: 0.9167\n",
            "Epoch 98/300\n",
            "2/2 [==============================] - 0s 47ms/step - loss: 0.3182 - accuracy: 0.8856 - val_loss: 0.4082 - val_accuracy: 0.9167\n",
            "Epoch 99/300\n",
            "2/2 [==============================] - 0s 43ms/step - loss: 0.0789 - accuracy: 0.9428 - val_loss: 0.5635 - val_accuracy: 0.9167\n",
            "Epoch 100/300\n",
            "2/2 [==============================] - 0s 45ms/step - loss: 0.0675 - accuracy: 0.9879 - val_loss: 0.4900 - val_accuracy: 0.9167\n",
            "Epoch 101/300\n",
            "2/2 [==============================] - 0s 45ms/step - loss: 0.0685 - accuracy: 0.9775 - val_loss: 0.0105 - val_accuracy: 1.0000\n",
            "Epoch 102/300\n",
            "2/2 [==============================] - 0s 45ms/step - loss: 0.0124 - accuracy: 1.0000 - val_loss: 0.0511 - val_accuracy: 1.0000\n",
            "Epoch 103/300\n",
            "2/2 [==============================] - 0s 44ms/step - loss: 0.1218 - accuracy: 0.9775 - val_loss: 0.0244 - val_accuracy: 1.0000\n",
            "Epoch 104/300\n",
            "2/2 [==============================] - 0s 43ms/step - loss: 0.0687 - accuracy: 0.9653 - val_loss: 0.0068 - val_accuracy: 1.0000\n",
            "Epoch 105/300\n",
            "2/2 [==============================] - 0s 45ms/step - loss: 0.0247 - accuracy: 0.9775 - val_loss: 0.0062 - val_accuracy: 1.0000\n",
            "Epoch 106/300\n",
            "2/2 [==============================] - 0s 45ms/step - loss: 0.0313 - accuracy: 0.9775 - val_loss: 0.0974 - val_accuracy: 0.9167\n",
            "Epoch 107/300\n",
            "2/2 [==============================] - 0s 46ms/step - loss: 0.0168 - accuracy: 1.0000 - val_loss: 0.2385 - val_accuracy: 0.9167\n",
            "Epoch 108/300\n",
            "2/2 [==============================] - 0s 46ms/step - loss: 0.0199 - accuracy: 1.0000 - val_loss: 0.3110 - val_accuracy: 0.9167\n",
            "Epoch 109/300\n",
            "2/2 [==============================] - 0s 48ms/step - loss: 0.0152 - accuracy: 1.0000 - val_loss: 0.3695 - val_accuracy: 0.9167\n",
            "Epoch 110/300\n",
            "2/2 [==============================] - 0s 47ms/step - loss: 0.0361 - accuracy: 1.0000 - val_loss: 0.2055 - val_accuracy: 0.9167\n",
            "Epoch 111/300\n",
            "2/2 [==============================] - 0s 43ms/step - loss: 0.0599 - accuracy: 0.9879 - val_loss: 0.0055 - val_accuracy: 1.0000\n",
            "Epoch 112/300\n",
            "2/2 [==============================] - 0s 48ms/step - loss: 0.0297 - accuracy: 1.0000 - val_loss: 0.1934 - val_accuracy: 0.9167\n",
            "Epoch 113/300\n",
            "2/2 [==============================] - 0s 46ms/step - loss: 0.0126 - accuracy: 1.0000 - val_loss: 0.4191 - val_accuracy: 0.9167\n",
            "Epoch 114/300\n",
            "2/2 [==============================] - 0s 46ms/step - loss: 0.0147 - accuracy: 1.0000 - val_loss: 0.1680 - val_accuracy: 0.9167\n",
            "Epoch 115/300\n",
            "2/2 [==============================] - 0s 44ms/step - loss: 8.9903e-04 - accuracy: 1.0000 - val_loss: 0.0942 - val_accuracy: 0.9167\n",
            "Epoch 116/300\n",
            "2/2 [==============================] - 0s 44ms/step - loss: 0.0012 - accuracy: 1.0000 - val_loss: 0.0557 - val_accuracy: 1.0000\n",
            "Epoch 117/300\n",
            "2/2 [==============================] - 0s 44ms/step - loss: 0.0291 - accuracy: 0.9879 - val_loss: 0.0438 - val_accuracy: 1.0000\n",
            "Epoch 118/300\n",
            "2/2 [==============================] - 0s 45ms/step - loss: 0.0665 - accuracy: 0.9549 - val_loss: 0.0150 - val_accuracy: 1.0000\n",
            "Epoch 119/300\n",
            "2/2 [==============================] - 0s 45ms/step - loss: 0.1378 - accuracy: 0.9775 - val_loss: 0.0106 - val_accuracy: 1.0000\n",
            "Epoch 120/300\n",
            "2/2 [==============================] - 0s 50ms/step - loss: 0.0148 - accuracy: 1.0000 - val_loss: 0.0213 - val_accuracy: 1.0000\n",
            "Epoch 121/300\n",
            "2/2 [==============================] - 0s 46ms/step - loss: 0.0018 - accuracy: 1.0000 - val_loss: 0.0417 - val_accuracy: 1.0000\n",
            "Epoch 122/300\n",
            "2/2 [==============================] - 0s 47ms/step - loss: 0.0100 - accuracy: 0.9879 - val_loss: 0.0488 - val_accuracy: 1.0000\n",
            "Epoch 123/300\n",
            "2/2 [==============================] - 0s 43ms/step - loss: 0.0175 - accuracy: 0.9879 - val_loss: 0.0250 - val_accuracy: 1.0000\n",
            "Epoch 124/300\n",
            "2/2 [==============================] - 0s 47ms/step - loss: 2.0016e-04 - accuracy: 1.0000 - val_loss: 0.0104 - val_accuracy: 1.0000\n",
            "Epoch 125/300\n",
            "2/2 [==============================] - 0s 50ms/step - loss: 0.0022 - accuracy: 1.0000 - val_loss: 0.0063 - val_accuracy: 1.0000\n",
            "Epoch 126/300\n",
            "2/2 [==============================] - 0s 45ms/step - loss: 0.0058 - accuracy: 1.0000 - val_loss: 0.0060 - val_accuracy: 1.0000\n",
            "Epoch 127/300\n",
            "2/2 [==============================] - 0s 43ms/step - loss: 0.0530 - accuracy: 0.9879 - val_loss: 0.0079 - val_accuracy: 1.0000\n",
            "Epoch 128/300\n",
            "2/2 [==============================] - 0s 46ms/step - loss: 0.0013 - accuracy: 1.0000 - val_loss: 0.0124 - val_accuracy: 1.0000\n",
            "Epoch 129/300\n",
            "2/2 [==============================] - 0s 45ms/step - loss: 0.0197 - accuracy: 1.0000 - val_loss: 0.0197 - val_accuracy: 1.0000\n",
            "Epoch 130/300\n",
            "2/2 [==============================] - 0s 45ms/step - loss: 0.0275 - accuracy: 0.9775 - val_loss: 0.0313 - val_accuracy: 1.0000\n",
            "Epoch 131/300\n",
            "2/2 [==============================] - 0s 43ms/step - loss: 4.8439e-05 - accuracy: 1.0000 - val_loss: 0.0451 - val_accuracy: 1.0000\n",
            "Epoch 132/300\n",
            "2/2 [==============================] - 0s 45ms/step - loss: 0.0023 - accuracy: 1.0000 - val_loss: 0.0631 - val_accuracy: 0.9167\n",
            "Epoch 133/300\n",
            "2/2 [==============================] - 0s 46ms/step - loss: 0.0476 - accuracy: 0.9775 - val_loss: 0.0383 - val_accuracy: 1.0000\n",
            "Epoch 134/300\n",
            "2/2 [==============================] - 0s 44ms/step - loss: 0.0019 - accuracy: 1.0000 - val_loss: 0.0241 - val_accuracy: 1.0000\n",
            "Epoch 135/300\n",
            "2/2 [==============================] - 0s 45ms/step - loss: 0.0334 - accuracy: 0.9775 - val_loss: 0.0161 - val_accuracy: 1.0000\n",
            "Epoch 136/300\n",
            "2/2 [==============================] - 0s 45ms/step - loss: 0.0738 - accuracy: 0.9775 - val_loss: 0.0133 - val_accuracy: 1.0000\n",
            "Epoch 137/300\n",
            "2/2 [==============================] - 0s 44ms/step - loss: 0.0026 - accuracy: 1.0000 - val_loss: 0.0120 - val_accuracy: 1.0000\n",
            "Epoch 138/300\n",
            "2/2 [==============================] - 0s 45ms/step - loss: 0.0279 - accuracy: 0.9775 - val_loss: 0.0102 - val_accuracy: 1.0000\n",
            "Epoch 139/300\n",
            "2/2 [==============================] - 0s 49ms/step - loss: 0.0130 - accuracy: 1.0000 - val_loss: 0.0089 - val_accuracy: 1.0000\n",
            "Epoch 140/300\n",
            "2/2 [==============================] - 0s 52ms/step - loss: 0.0032 - accuracy: 1.0000 - val_loss: 0.0079 - val_accuracy: 1.0000\n",
            "Epoch 141/300\n",
            "2/2 [==============================] - 0s 45ms/step - loss: 0.0037 - accuracy: 1.0000 - val_loss: 0.0067 - val_accuracy: 1.0000\n",
            "Epoch 142/300\n",
            "2/2 [==============================] - 0s 47ms/step - loss: 4.3617e-04 - accuracy: 1.0000 - val_loss: 0.0057 - val_accuracy: 1.0000\n",
            "Epoch 143/300\n",
            "2/2 [==============================] - 0s 45ms/step - loss: 0.0251 - accuracy: 1.0000 - val_loss: 0.0046 - val_accuracy: 1.0000\n",
            "Epoch 144/300\n",
            "2/2 [==============================] - 0s 48ms/step - loss: 0.0065 - accuracy: 1.0000 - val_loss: 0.0038 - val_accuracy: 1.0000\n",
            "Epoch 145/300\n",
            "2/2 [==============================] - 0s 51ms/step - loss: 0.0023 - accuracy: 1.0000 - val_loss: 0.0030 - val_accuracy: 1.0000\n",
            "Epoch 146/300\n",
            "2/2 [==============================] - 0s 45ms/step - loss: 0.0208 - accuracy: 1.0000 - val_loss: 0.0025 - val_accuracy: 1.0000\n",
            "Epoch 147/300\n",
            "2/2 [==============================] - 0s 45ms/step - loss: 0.0226 - accuracy: 0.9775 - val_loss: 0.0030 - val_accuracy: 1.0000\n",
            "Epoch 148/300\n",
            "2/2 [==============================] - 0s 48ms/step - loss: 0.0058 - accuracy: 1.0000 - val_loss: 0.0047 - val_accuracy: 1.0000\n",
            "Epoch 149/300\n",
            "2/2 [==============================] - 0s 47ms/step - loss: 0.0320 - accuracy: 0.9775 - val_loss: 0.0089 - val_accuracy: 1.0000\n",
            "Epoch 150/300\n",
            "2/2 [==============================] - 0s 48ms/step - loss: 0.0300 - accuracy: 0.9879 - val_loss: 0.0177 - val_accuracy: 1.0000\n",
            "Epoch 151/300\n",
            "2/2 [==============================] - 0s 48ms/step - loss: 0.0819 - accuracy: 0.9775 - val_loss: 0.0151 - val_accuracy: 1.0000\n",
            "Epoch 152/300\n",
            "2/2 [==============================] - 0s 47ms/step - loss: 0.0290 - accuracy: 0.9879 - val_loss: 0.0108 - val_accuracy: 1.0000\n",
            "Epoch 153/300\n",
            "2/2 [==============================] - 0s 48ms/step - loss: 0.0037 - accuracy: 1.0000 - val_loss: 0.0067 - val_accuracy: 1.0000\n",
            "Epoch 154/300\n",
            "2/2 [==============================] - 0s 43ms/step - loss: 0.0164 - accuracy: 1.0000 - val_loss: 0.0021 - val_accuracy: 1.0000\n",
            "Epoch 155/300\n",
            "2/2 [==============================] - 0s 46ms/step - loss: 3.6257e-04 - accuracy: 1.0000 - val_loss: 0.0013 - val_accuracy: 1.0000\n",
            "Epoch 156/300\n",
            "2/2 [==============================] - 0s 49ms/step - loss: 0.0637 - accuracy: 0.9775 - val_loss: 0.0012 - val_accuracy: 1.0000\n",
            "Epoch 157/300\n",
            "2/2 [==============================] - 0s 45ms/step - loss: 8.6325e-05 - accuracy: 1.0000 - val_loss: 0.0013 - val_accuracy: 1.0000\n",
            "Epoch 158/300\n",
            "2/2 [==============================] - 0s 43ms/step - loss: 0.0152 - accuracy: 1.0000 - val_loss: 0.0011 - val_accuracy: 1.0000\n",
            "Epoch 159/300\n",
            "2/2 [==============================] - 0s 45ms/step - loss: 0.0021 - accuracy: 1.0000 - val_loss: 9.9599e-04 - val_accuracy: 1.0000\n",
            "Epoch 160/300\n",
            "2/2 [==============================] - 0s 44ms/step - loss: 0.0564 - accuracy: 0.9758 - val_loss: 0.0012 - val_accuracy: 1.0000\n",
            "Epoch 161/300\n",
            "2/2 [==============================] - 0s 44ms/step - loss: 9.3573e-04 - accuracy: 1.0000 - val_loss: 0.0034 - val_accuracy: 1.0000\n",
            "Epoch 162/300\n",
            "2/2 [==============================] - 0s 49ms/step - loss: 0.0030 - accuracy: 1.0000 - val_loss: 0.0075 - val_accuracy: 1.0000\n",
            "Epoch 163/300\n",
            "2/2 [==============================] - 0s 46ms/step - loss: 0.2219 - accuracy: 0.9758 - val_loss: 0.0086 - val_accuracy: 1.0000\n",
            "Epoch 164/300\n",
            "2/2 [==============================] - 0s 47ms/step - loss: 1.3348e-04 - accuracy: 1.0000 - val_loss: 0.4127 - val_accuracy: 0.9167\n",
            "Epoch 165/300\n",
            "2/2 [==============================] - 0s 45ms/step - loss: 0.2792 - accuracy: 0.9775 - val_loss: 0.5713 - val_accuracy: 0.9167\n",
            "Epoch 166/300\n",
            "2/2 [==============================] - 0s 48ms/step - loss: 0.0242 - accuracy: 0.9879 - val_loss: 0.6431 - val_accuracy: 0.8333\n",
            "Epoch 167/300\n",
            "2/2 [==============================] - 0s 47ms/step - loss: 0.2059 - accuracy: 0.9411 - val_loss: 0.4746 - val_accuracy: 0.8333\n",
            "Epoch 168/300\n",
            "2/2 [==============================] - 0s 43ms/step - loss: 0.0597 - accuracy: 0.9775 - val_loss: 0.3532 - val_accuracy: 0.9167\n",
            "Epoch 169/300\n",
            "2/2 [==============================] - 0s 47ms/step - loss: 0.1314 - accuracy: 0.9653 - val_loss: 0.0543 - val_accuracy: 1.0000\n",
            "Epoch 170/300\n",
            "2/2 [==============================] - 0s 44ms/step - loss: 0.1129 - accuracy: 0.9879 - val_loss: 0.3034 - val_accuracy: 0.8333\n",
            "Epoch 171/300\n",
            "2/2 [==============================] - 0s 45ms/step - loss: 0.1618 - accuracy: 0.9324 - val_loss: 0.1577 - val_accuracy: 0.9167\n",
            "Epoch 172/300\n",
            "2/2 [==============================] - 0s 47ms/step - loss: 0.0580 - accuracy: 0.9775 - val_loss: 0.0616 - val_accuracy: 1.0000\n",
            "Epoch 173/300\n",
            "2/2 [==============================] - 0s 47ms/step - loss: 0.0861 - accuracy: 0.9532 - val_loss: 0.1958 - val_accuracy: 0.8333\n",
            "Epoch 174/300\n",
            "2/2 [==============================] - 0s 48ms/step - loss: 0.0573 - accuracy: 0.9775 - val_loss: 0.3669 - val_accuracy: 0.8333\n",
            "Epoch 175/300\n",
            "2/2 [==============================] - 0s 46ms/step - loss: 0.0078 - accuracy: 1.0000 - val_loss: 0.3700 - val_accuracy: 0.8333\n",
            "Epoch 176/300\n",
            "2/2 [==============================] - 0s 45ms/step - loss: 0.1961 - accuracy: 0.9549 - val_loss: 0.2501 - val_accuracy: 0.9167\n",
            "Epoch 177/300\n",
            "2/2 [==============================] - 0s 45ms/step - loss: 0.0029 - accuracy: 1.0000 - val_loss: 1.0445 - val_accuracy: 0.9167\n",
            "Epoch 178/300\n",
            "2/2 [==============================] - 0s 45ms/step - loss: 0.1047 - accuracy: 0.9532 - val_loss: 0.6373 - val_accuracy: 0.9167\n",
            "Epoch 179/300\n",
            "2/2 [==============================] - 0s 44ms/step - loss: 0.0438 - accuracy: 0.9879 - val_loss: 0.3738 - val_accuracy: 0.9167\n",
            "Epoch 180/300\n",
            "2/2 [==============================] - 0s 45ms/step - loss: 0.0289 - accuracy: 1.0000 - val_loss: 0.3397 - val_accuracy: 0.9167\n",
            "Epoch 181/300\n",
            "2/2 [==============================] - 0s 45ms/step - loss: 0.0551 - accuracy: 0.9653 - val_loss: 0.3496 - val_accuracy: 0.9167\n",
            "Epoch 182/300\n",
            "2/2 [==============================] - 0s 44ms/step - loss: 0.0130 - accuracy: 0.9879 - val_loss: 0.1851 - val_accuracy: 0.9167\n",
            "Epoch 183/300\n",
            "2/2 [==============================] - 0s 43ms/step - loss: 2.2790e-04 - accuracy: 1.0000 - val_loss: 0.0675 - val_accuracy: 0.9167\n",
            "Epoch 184/300\n",
            "2/2 [==============================] - 0s 44ms/step - loss: 0.0018 - accuracy: 1.0000 - val_loss: 0.0177 - val_accuracy: 1.0000\n",
            "Epoch 185/300\n",
            "2/2 [==============================] - 0s 44ms/step - loss: 0.0022 - accuracy: 1.0000 - val_loss: 0.0053 - val_accuracy: 1.0000\n",
            "Epoch 186/300\n",
            "2/2 [==============================] - 0s 43ms/step - loss: 0.0977 - accuracy: 0.9879 - val_loss: 0.0896 - val_accuracy: 1.0000\n",
            "Epoch 187/300\n",
            "2/2 [==============================] - 0s 45ms/step - loss: 0.0644 - accuracy: 0.9549 - val_loss: 0.2698 - val_accuracy: 0.8333\n",
            "Epoch 188/300\n",
            "2/2 [==============================] - 0s 44ms/step - loss: 0.1104 - accuracy: 0.9653 - val_loss: 2.5427 - val_accuracy: 0.7500\n",
            "Epoch 189/300\n",
            "2/2 [==============================] - 0s 45ms/step - loss: 0.0709 - accuracy: 0.9758 - val_loss: 0.4505 - val_accuracy: 0.8333\n",
            "Epoch 190/300\n",
            "2/2 [==============================] - 0s 47ms/step - loss: 0.0537 - accuracy: 0.9758 - val_loss: 0.7755 - val_accuracy: 0.9167\n",
            "Epoch 191/300\n",
            "2/2 [==============================] - 0s 47ms/step - loss: 0.1720 - accuracy: 0.9653 - val_loss: 1.0781 - val_accuracy: 0.9167\n",
            "Epoch 192/300\n",
            "2/2 [==============================] - 0s 43ms/step - loss: 0.6627 - accuracy: 0.9307 - val_loss: 0.8131 - val_accuracy: 0.6667\n",
            "Epoch 193/300\n",
            "2/2 [==============================] - 0s 48ms/step - loss: 0.3134 - accuracy: 0.9081 - val_loss: 1.6390 - val_accuracy: 0.6667\n",
            "Epoch 194/300\n",
            "2/2 [==============================] - 0s 49ms/step - loss: 0.2090 - accuracy: 0.9324 - val_loss: 0.8444 - val_accuracy: 0.9167\n",
            "Epoch 195/300\n",
            "2/2 [==============================] - 0s 47ms/step - loss: 0.3724 - accuracy: 0.9428 - val_loss: 0.7487 - val_accuracy: 0.9167\n",
            "Epoch 196/300\n",
            "2/2 [==============================] - 0s 44ms/step - loss: 0.0116 - accuracy: 1.0000 - val_loss: 0.2616 - val_accuracy: 0.9167\n",
            "Epoch 197/300\n",
            "2/2 [==============================] - 0s 50ms/step - loss: 0.0169 - accuracy: 0.9775 - val_loss: 0.1480 - val_accuracy: 0.9167\n",
            "Epoch 198/300\n",
            "2/2 [==============================] - 0s 46ms/step - loss: 0.0249 - accuracy: 0.9775 - val_loss: 0.2664 - val_accuracy: 0.9167\n",
            "Epoch 199/300\n",
            "2/2 [==============================] - 0s 44ms/step - loss: 0.0505 - accuracy: 0.9879 - val_loss: 0.4526 - val_accuracy: 0.8333\n",
            "Epoch 200/300\n",
            "2/2 [==============================] - 0s 47ms/step - loss: 0.0476 - accuracy: 0.9775 - val_loss: 0.5952 - val_accuracy: 0.8333\n",
            "Epoch 201/300\n",
            "2/2 [==============================] - 0s 45ms/step - loss: 0.0391 - accuracy: 0.9775 - val_loss: 0.6254 - val_accuracy: 0.9167\n",
            "Epoch 202/300\n",
            "2/2 [==============================] - 0s 44ms/step - loss: 0.0086 - accuracy: 1.0000 - val_loss: 0.8248 - val_accuracy: 0.9167\n",
            "Epoch 203/300\n",
            "2/2 [==============================] - 0s 48ms/step - loss: 0.0186 - accuracy: 1.0000 - val_loss: 0.9694 - val_accuracy: 0.9167\n",
            "Epoch 204/300\n",
            "2/2 [==============================] - 0s 45ms/step - loss: 0.0484 - accuracy: 0.9758 - val_loss: 1.2428 - val_accuracy: 0.9167\n",
            "Epoch 205/300\n",
            "2/2 [==============================] - 0s 44ms/step - loss: 0.0648 - accuracy: 0.9775 - val_loss: 2.1402 - val_accuracy: 0.8333\n",
            "Epoch 206/300\n",
            "2/2 [==============================] - 0s 48ms/step - loss: 0.1613 - accuracy: 0.9653 - val_loss: 2.0262 - val_accuracy: 0.8333\n",
            "Epoch 207/300\n",
            "2/2 [==============================] - 0s 43ms/step - loss: 0.0497 - accuracy: 0.9879 - val_loss: 0.8949 - val_accuracy: 0.9167\n",
            "Epoch 208/300\n",
            "2/2 [==============================] - 0s 44ms/step - loss: 0.0025 - accuracy: 1.0000 - val_loss: 0.0446 - val_accuracy: 1.0000\n",
            "Epoch 209/300\n",
            "2/2 [==============================] - 0s 46ms/step - loss: 0.0033 - accuracy: 1.0000 - val_loss: 0.0463 - val_accuracy: 1.0000\n",
            "Epoch 210/300\n",
            "2/2 [==============================] - 0s 45ms/step - loss: 0.0062 - accuracy: 1.0000 - val_loss: 0.3164 - val_accuracy: 0.9167\n",
            "Epoch 211/300\n",
            "2/2 [==============================] - 0s 46ms/step - loss: 0.0020 - accuracy: 1.0000 - val_loss: 0.5789 - val_accuracy: 0.9167\n",
            "Epoch 212/300\n",
            "2/2 [==============================] - 0s 45ms/step - loss: 0.0079 - accuracy: 1.0000 - val_loss: 0.7902 - val_accuracy: 0.9167\n",
            "Epoch 213/300\n",
            "2/2 [==============================] - 0s 45ms/step - loss: 0.0418 - accuracy: 0.9775 - val_loss: 0.5962 - val_accuracy: 0.9167\n",
            "Epoch 214/300\n",
            "2/2 [==============================] - 0s 42ms/step - loss: 7.3760e-04 - accuracy: 1.0000 - val_loss: 0.3935 - val_accuracy: 0.9167\n",
            "Epoch 215/300\n",
            "2/2 [==============================] - 0s 44ms/step - loss: 2.5920e-04 - accuracy: 1.0000 - val_loss: 0.2363 - val_accuracy: 0.9167\n",
            "Epoch 216/300\n",
            "2/2 [==============================] - 0s 44ms/step - loss: 0.0363 - accuracy: 0.9879 - val_loss: 0.1960 - val_accuracy: 0.9167\n",
            "Epoch 217/300\n",
            "2/2 [==============================] - 0s 45ms/step - loss: 7.4305e-04 - accuracy: 1.0000 - val_loss: 0.1846 - val_accuracy: 0.9167\n",
            "Epoch 218/300\n",
            "2/2 [==============================] - 0s 46ms/step - loss: 0.0491 - accuracy: 0.9775 - val_loss: 0.1015 - val_accuracy: 0.9167\n",
            "Epoch 219/300\n",
            "2/2 [==============================] - 0s 44ms/step - loss: 0.0075 - accuracy: 1.0000 - val_loss: 0.0603 - val_accuracy: 0.9167\n",
            "Epoch 220/300\n",
            "2/2 [==============================] - 0s 44ms/step - loss: 0.0081 - accuracy: 1.0000 - val_loss: 0.0069 - val_accuracy: 1.0000\n",
            "Epoch 221/300\n",
            "2/2 [==============================] - 0s 45ms/step - loss: 0.0027 - accuracy: 1.0000 - val_loss: 0.0013 - val_accuracy: 1.0000\n",
            "Epoch 222/300\n",
            "2/2 [==============================] - 0s 46ms/step - loss: 0.0045 - accuracy: 1.0000 - val_loss: 6.3174e-04 - val_accuracy: 1.0000\n",
            "Epoch 223/300\n",
            "2/2 [==============================] - 0s 46ms/step - loss: 3.8135e-04 - accuracy: 1.0000 - val_loss: 4.1220e-04 - val_accuracy: 1.0000\n",
            "Epoch 224/300\n",
            "2/2 [==============================] - 0s 46ms/step - loss: 0.0392 - accuracy: 0.9879 - val_loss: 0.0025 - val_accuracy: 1.0000\n",
            "Epoch 225/300\n",
            "2/2 [==============================] - 0s 43ms/step - loss: 0.0117 - accuracy: 1.0000 - val_loss: 0.1958 - val_accuracy: 0.9167\n",
            "Epoch 226/300\n",
            "2/2 [==============================] - 0s 51ms/step - loss: 1.4190e-04 - accuracy: 1.0000 - val_loss: 0.4893 - val_accuracy: 0.9167\n",
            "Epoch 227/300\n",
            "2/2 [==============================] - 0s 50ms/step - loss: 4.0957e-04 - accuracy: 1.0000 - val_loss: 0.6666 - val_accuracy: 0.9167\n",
            "Epoch 228/300\n",
            "2/2 [==============================] - 0s 45ms/step - loss: 6.2212e-04 - accuracy: 1.0000 - val_loss: 0.8059 - val_accuracy: 0.9167\n",
            "Epoch 229/300\n",
            "2/2 [==============================] - 0s 46ms/step - loss: 0.0050 - accuracy: 1.0000 - val_loss: 0.8899 - val_accuracy: 0.9167\n",
            "Epoch 230/300\n",
            "2/2 [==============================] - 0s 45ms/step - loss: 0.0027 - accuracy: 1.0000 - val_loss: 0.9418 - val_accuracy: 0.9167\n",
            "Epoch 231/300\n",
            "2/2 [==============================] - 0s 45ms/step - loss: 0.0080 - accuracy: 1.0000 - val_loss: 0.9825 - val_accuracy: 0.9167\n",
            "Epoch 232/300\n",
            "2/2 [==============================] - 0s 45ms/step - loss: 0.0105 - accuracy: 1.0000 - val_loss: 1.0345 - val_accuracy: 0.9167\n",
            "Epoch 233/300\n",
            "2/2 [==============================] - 0s 46ms/step - loss: 0.0468 - accuracy: 0.9775 - val_loss: 0.7230 - val_accuracy: 0.9167\n",
            "Epoch 234/300\n",
            "2/2 [==============================] - 0s 46ms/step - loss: 3.5550e-04 - accuracy: 1.0000 - val_loss: 0.4541 - val_accuracy: 0.9167\n",
            "Epoch 235/300\n",
            "2/2 [==============================] - 0s 45ms/step - loss: 0.0014 - accuracy: 1.0000 - val_loss: 0.2372 - val_accuracy: 0.9167\n",
            "Epoch 236/300\n",
            "2/2 [==============================] - 0s 45ms/step - loss: 3.2415e-04 - accuracy: 1.0000 - val_loss: 0.0778 - val_accuracy: 0.9167\n",
            "Epoch 237/300\n",
            "2/2 [==============================] - 0s 46ms/step - loss: 0.0950 - accuracy: 0.9549 - val_loss: 0.0300 - val_accuracy: 1.0000\n",
            "Epoch 238/300\n",
            "2/2 [==============================] - 0s 44ms/step - loss: 1.0256e-04 - accuracy: 1.0000 - val_loss: 0.0246 - val_accuracy: 1.0000\n",
            "Epoch 239/300\n",
            "2/2 [==============================] - 0s 49ms/step - loss: 1.0548e-05 - accuracy: 1.0000 - val_loss: 0.0217 - val_accuracy: 1.0000\n",
            "Epoch 240/300\n",
            "2/2 [==============================] - 0s 43ms/step - loss: 0.0095 - accuracy: 1.0000 - val_loss: 0.0188 - val_accuracy: 1.0000\n",
            "Epoch 241/300\n",
            "2/2 [==============================] - 0s 44ms/step - loss: 0.0070 - accuracy: 1.0000 - val_loss: 0.0196 - val_accuracy: 1.0000\n",
            "Epoch 242/300\n",
            "2/2 [==============================] - 0s 46ms/step - loss: 7.4750e-04 - accuracy: 1.0000 - val_loss: 0.0210 - val_accuracy: 1.0000\n",
            "Epoch 243/300\n",
            "2/2 [==============================] - 0s 46ms/step - loss: 0.0384 - accuracy: 0.9775 - val_loss: 0.0376 - val_accuracy: 1.0000\n",
            "Epoch 244/300\n",
            "2/2 [==============================] - 0s 47ms/step - loss: 9.2749e-05 - accuracy: 1.0000 - val_loss: 0.0509 - val_accuracy: 1.0000\n",
            "Epoch 245/300\n",
            "2/2 [==============================] - 0s 47ms/step - loss: 0.0075 - accuracy: 1.0000 - val_loss: 0.0667 - val_accuracy: 0.9167\n",
            "Epoch 246/300\n",
            "2/2 [==============================] - 0s 47ms/step - loss: 0.0252 - accuracy: 0.9879 - val_loss: 0.0126 - val_accuracy: 1.0000\n",
            "Epoch 247/300\n",
            "2/2 [==============================] - 0s 47ms/step - loss: 2.2694e-05 - accuracy: 1.0000 - val_loss: 0.0013 - val_accuracy: 1.0000\n",
            "Epoch 248/300\n",
            "2/2 [==============================] - 0s 44ms/step - loss: 1.1206e-04 - accuracy: 1.0000 - val_loss: 0.0023 - val_accuracy: 1.0000\n",
            "Epoch 249/300\n",
            "2/2 [==============================] - 0s 47ms/step - loss: 5.7959e-04 - accuracy: 1.0000 - val_loss: 0.0037 - val_accuracy: 1.0000\n",
            "Epoch 250/300\n",
            "2/2 [==============================] - 0s 47ms/step - loss: 2.8021e-04 - accuracy: 1.0000 - val_loss: 0.0055 - val_accuracy: 1.0000\n",
            "Epoch 251/300\n",
            "2/2 [==============================] - 0s 47ms/step - loss: 9.2863e-04 - accuracy: 1.0000 - val_loss: 0.0087 - val_accuracy: 1.0000\n",
            "Epoch 252/300\n",
            "2/2 [==============================] - 0s 49ms/step - loss: 0.0145 - accuracy: 1.0000 - val_loss: 0.0123 - val_accuracy: 1.0000\n",
            "Epoch 253/300\n",
            "2/2 [==============================] - 0s 46ms/step - loss: 0.0308 - accuracy: 0.9775 - val_loss: 6.1420e-04 - val_accuracy: 1.0000\n",
            "Epoch 254/300\n",
            "2/2 [==============================] - 0s 45ms/step - loss: 5.0813e-04 - accuracy: 1.0000 - val_loss: 1.6364e-04 - val_accuracy: 1.0000\n",
            "Epoch 255/300\n",
            "2/2 [==============================] - 0s 47ms/step - loss: 0.0160 - accuracy: 1.0000 - val_loss: 9.9921e-05 - val_accuracy: 1.0000\n",
            "Epoch 256/300\n",
            "2/2 [==============================] - 0s 46ms/step - loss: 0.0089 - accuracy: 1.0000 - val_loss: 8.7390e-05 - val_accuracy: 1.0000\n",
            "Epoch 257/300\n",
            "2/2 [==============================] - 0s 50ms/step - loss: 2.5216e-04 - accuracy: 1.0000 - val_loss: 1.0044e-04 - val_accuracy: 1.0000\n",
            "Epoch 258/300\n",
            "2/2 [==============================] - 0s 45ms/step - loss: 0.0028 - accuracy: 1.0000 - val_loss: 1.4284e-04 - val_accuracy: 1.0000\n",
            "Epoch 259/300\n",
            "2/2 [==============================] - 0s 48ms/step - loss: 8.1107e-04 - accuracy: 1.0000 - val_loss: 2.2622e-04 - val_accuracy: 1.0000\n",
            "Epoch 260/300\n",
            "2/2 [==============================] - 0s 46ms/step - loss: 0.0193 - accuracy: 0.9879 - val_loss: 2.7932e-04 - val_accuracy: 1.0000\n",
            "Epoch 261/300\n",
            "2/2 [==============================] - 0s 45ms/step - loss: 0.1598 - accuracy: 0.9879 - val_loss: 0.0025 - val_accuracy: 1.0000\n",
            "Epoch 262/300\n",
            "2/2 [==============================] - 0s 46ms/step - loss: 9.0080e-05 - accuracy: 1.0000 - val_loss: 0.0452 - val_accuracy: 1.0000\n",
            "Epoch 263/300\n",
            "2/2 [==============================] - 0s 48ms/step - loss: 0.0756 - accuracy: 0.9549 - val_loss: 0.0123 - val_accuracy: 1.0000\n",
            "Epoch 264/300\n",
            "2/2 [==============================] - 0s 46ms/step - loss: 0.0041 - accuracy: 1.0000 - val_loss: 0.0039 - val_accuracy: 1.0000\n",
            "Epoch 265/300\n",
            "2/2 [==============================] - 0s 45ms/step - loss: 0.0074 - accuracy: 1.0000 - val_loss: 0.0011 - val_accuracy: 1.0000\n",
            "Epoch 266/300\n",
            "2/2 [==============================] - 0s 50ms/step - loss: 5.1335e-04 - accuracy: 1.0000 - val_loss: 3.7077e-04 - val_accuracy: 1.0000\n",
            "Epoch 267/300\n",
            "2/2 [==============================] - 0s 47ms/step - loss: 0.0018 - accuracy: 1.0000 - val_loss: 2.5440e-04 - val_accuracy: 1.0000\n",
            "Epoch 268/300\n",
            "2/2 [==============================] - 0s 46ms/step - loss: 4.5663e-04 - accuracy: 1.0000 - val_loss: 4.3888e-04 - val_accuracy: 1.0000\n",
            "Epoch 269/300\n",
            "2/2 [==============================] - 0s 46ms/step - loss: 5.0952e-04 - accuracy: 1.0000 - val_loss: 8.6104e-04 - val_accuracy: 1.0000\n",
            "Epoch 270/300\n",
            "2/2 [==============================] - 0s 45ms/step - loss: 0.0173 - accuracy: 1.0000 - val_loss: 0.0012 - val_accuracy: 1.0000\n",
            "Epoch 271/300\n",
            "2/2 [==============================] - 0s 50ms/step - loss: 0.0022 - accuracy: 1.0000 - val_loss: 0.0013 - val_accuracy: 1.0000\n",
            "Epoch 272/300\n",
            "2/2 [==============================] - 0s 45ms/step - loss: 0.0079 - accuracy: 1.0000 - val_loss: 0.0013 - val_accuracy: 1.0000\n",
            "Epoch 273/300\n",
            "2/2 [==============================] - 0s 50ms/step - loss: 0.0088 - accuracy: 1.0000 - val_loss: 0.0010 - val_accuracy: 1.0000\n",
            "Epoch 274/300\n",
            "2/2 [==============================] - 0s 46ms/step - loss: 0.0424 - accuracy: 0.9775 - val_loss: 2.8235e-04 - val_accuracy: 1.0000\n",
            "Epoch 275/300\n",
            "2/2 [==============================] - 0s 47ms/step - loss: 0.0027 - accuracy: 1.0000 - val_loss: 2.0340e-04 - val_accuracy: 1.0000\n",
            "Epoch 276/300\n",
            "2/2 [==============================] - 0s 44ms/step - loss: 0.0265 - accuracy: 0.9775 - val_loss: 3.4622e-04 - val_accuracy: 1.0000\n",
            "Epoch 277/300\n",
            "2/2 [==============================] - 0s 45ms/step - loss: 0.0057 - accuracy: 1.0000 - val_loss: 2.7482e-04 - val_accuracy: 1.0000\n",
            "Epoch 278/300\n",
            "2/2 [==============================] - 0s 47ms/step - loss: 0.0015 - accuracy: 1.0000 - val_loss: 2.6070e-04 - val_accuracy: 1.0000\n",
            "Epoch 279/300\n",
            "2/2 [==============================] - 0s 44ms/step - loss: 0.0102 - accuracy: 0.9879 - val_loss: 3.0343e-04 - val_accuracy: 1.0000\n",
            "Epoch 280/300\n",
            "2/2 [==============================] - 0s 47ms/step - loss: 4.2881e-04 - accuracy: 1.0000 - val_loss: 5.1794e-04 - val_accuracy: 1.0000\n",
            "Epoch 281/300\n",
            "2/2 [==============================] - 0s 46ms/step - loss: 0.0017 - accuracy: 1.0000 - val_loss: 0.0147 - val_accuracy: 1.0000\n",
            "Epoch 282/300\n",
            "2/2 [==============================] - 0s 50ms/step - loss: 0.0036 - accuracy: 1.0000 - val_loss: 0.1267 - val_accuracy: 0.9167\n",
            "Epoch 283/300\n",
            "2/2 [==============================] - 0s 48ms/step - loss: 5.3577e-04 - accuracy: 1.0000 - val_loss: 0.2752 - val_accuracy: 0.9167\n",
            "Epoch 284/300\n",
            "2/2 [==============================] - 0s 45ms/step - loss: 0.0262 - accuracy: 0.9775 - val_loss: 0.3345 - val_accuracy: 0.9167\n",
            "Epoch 285/300\n",
            "2/2 [==============================] - 0s 46ms/step - loss: 0.0066 - accuracy: 1.0000 - val_loss: 0.1588 - val_accuracy: 0.9167\n",
            "Epoch 286/300\n",
            "2/2 [==============================] - 0s 48ms/step - loss: 0.0318 - accuracy: 0.9775 - val_loss: 0.0367 - val_accuracy: 1.0000\n",
            "Epoch 287/300\n",
            "2/2 [==============================] - 0s 52ms/step - loss: 5.4745e-05 - accuracy: 1.0000 - val_loss: 0.0035 - val_accuracy: 1.0000\n",
            "Epoch 288/300\n",
            "2/2 [==============================] - 0s 44ms/step - loss: 2.0161e-04 - accuracy: 1.0000 - val_loss: 4.0647e-04 - val_accuracy: 1.0000\n",
            "Epoch 289/300\n",
            "2/2 [==============================] - 0s 47ms/step - loss: 7.5965e-06 - accuracy: 1.0000 - val_loss: 7.8394e-05 - val_accuracy: 1.0000\n",
            "Epoch 290/300\n",
            "2/2 [==============================] - 0s 46ms/step - loss: 4.5246e-06 - accuracy: 1.0000 - val_loss: 2.1585e-05 - val_accuracy: 1.0000\n",
            "Epoch 291/300\n",
            "2/2 [==============================] - 0s 46ms/step - loss: 1.6730e-06 - accuracy: 1.0000 - val_loss: 1.0083e-05 - val_accuracy: 1.0000\n",
            "Epoch 292/300\n",
            "2/2 [==============================] - 0s 51ms/step - loss: 0.0800 - accuracy: 0.9879 - val_loss: 1.4106e-05 - val_accuracy: 1.0000\n",
            "Epoch 293/300\n",
            "2/2 [==============================] - 0s 45ms/step - loss: 2.5914e-04 - accuracy: 1.0000 - val_loss: 7.1853e-05 - val_accuracy: 1.0000\n",
            "Epoch 294/300\n",
            "2/2 [==============================] - 0s 44ms/step - loss: 0.0016 - accuracy: 1.0000 - val_loss: 3.6745e-04 - val_accuracy: 1.0000\n",
            "Epoch 295/300\n",
            "2/2 [==============================] - 0s 46ms/step - loss: 7.5003e-05 - accuracy: 1.0000 - val_loss: 0.0016 - val_accuracy: 1.0000\n",
            "Epoch 296/300\n",
            "2/2 [==============================] - 0s 52ms/step - loss: 3.7945e-05 - accuracy: 1.0000 - val_loss: 0.0065 - val_accuracy: 1.0000\n",
            "Epoch 297/300\n",
            "2/2 [==============================] - 0s 45ms/step - loss: 8.2761e-04 - accuracy: 1.0000 - val_loss: 0.0273 - val_accuracy: 1.0000\n",
            "Epoch 298/300\n",
            "2/2 [==============================] - 0s 46ms/step - loss: 0.0558 - accuracy: 0.9775 - val_loss: 0.4100 - val_accuracy: 0.8333\n",
            "Epoch 299/300\n",
            "2/2 [==============================] - 0s 46ms/step - loss: 0.0012 - accuracy: 1.0000 - val_loss: 0.8235 - val_accuracy: 0.8333\n",
            "Epoch 300/300\n",
            "2/2 [==============================] - 0s 46ms/step - loss: 0.1182 - accuracy: 0.9775 - val_loss: 0.0152 - val_accuracy: 1.0000\n"
          ],
          "name": "stdout"
        }
      ]
    },
    {
      "cell_type": "code",
      "metadata": {
        "colab": {
          "base_uri": "https://localhost:8080/"
        },
        "id": "CEg7GB4S9bRp",
        "outputId": "4e535d53-3744-4756-b58f-51779a995704"
      },
      "source": [
        "model.summary()"
      ],
      "execution_count": 745,
      "outputs": [
        {
          "output_type": "stream",
          "text": [
            "Model: \"sequential_31\"\n",
            "_________________________________________________________________\n",
            "Layer (type)                 Output Shape              Param #   \n",
            "=================================================================\n",
            "conv2d_66 (Conv2D)           (None, 196, 14, 64)       3200      \n",
            "_________________________________________________________________\n",
            "max_pooling2d_32 (MaxPooling (None, 98, 7, 64)         0         \n",
            "_________________________________________________________________\n",
            "conv2d_67 (Conv2D)           (None, 98, 7, 128)        73856     \n",
            "_________________________________________________________________\n",
            "conv2d_68 (Conv2D)           (None, 98, 7, 128)        147584    \n",
            "_________________________________________________________________\n",
            "max_pooling2d_33 (MaxPooling (None, 49, 3, 128)        0         \n",
            "_________________________________________________________________\n",
            "conv2d_69 (Conv2D)           (None, 49, 3, 256)        295168    \n",
            "_________________________________________________________________\n",
            "conv2d_70 (Conv2D)           (None, 49, 3, 256)        590080    \n",
            "_________________________________________________________________\n",
            "flatten_17 (Flatten)         (None, 37632)             0         \n",
            "_________________________________________________________________\n",
            "dense_48 (Dense)             (None, 128)               4817024   \n",
            "_________________________________________________________________\n",
            "dropout_29 (Dropout)         (None, 128)               0         \n",
            "_________________________________________________________________\n",
            "dense_49 (Dense)             (None, 64)                8256      \n",
            "_________________________________________________________________\n",
            "dropout_30 (Dropout)         (None, 64)                0         \n",
            "_________________________________________________________________\n",
            "dense_50 (Dense)             (None, 3)                 195       \n",
            "=================================================================\n",
            "Total params: 5,935,363\n",
            "Trainable params: 5,935,363\n",
            "Non-trainable params: 0\n",
            "_________________________________________________________________\n"
          ],
          "name": "stdout"
        }
      ]
    },
    {
      "cell_type": "code",
      "metadata": {
        "colab": {
          "base_uri": "https://localhost:8080/"
        },
        "id": "rgeZtFmAzOeQ",
        "outputId": "88d439a5-a0b7-42e1-8f7f-1d2dba8940e6"
      },
      "source": [
        "test_loss, test_mae= model.evaluate(ver_X_train, ver_y_train) # 잘 학습 되었나 확인"
      ],
      "execution_count": 746,
      "outputs": [
        {
          "output_type": "stream",
          "text": [
            "2/2 [==============================] - 0s 6ms/step - loss: 3.4895e-07 - accuracy: 1.0000\n"
          ],
          "name": "stdout"
        }
      ]
    },
    {
      "cell_type": "code",
      "metadata": {
        "id": "PRgsfd5U8Z7X"
      },
      "source": [
        "from tensorflow.python.keras.models import load_model\n",
        "\n",
        "save_path= '/content/drive/MyDrive/화자인식/'\n",
        "model.save(save_path+'tutorial_model.h5') # 잘 학습된 모델 저장"
      ],
      "execution_count": 747,
      "outputs": []
    },
    {
      "cell_type": "code",
      "metadata": {
        "colab": {
          "base_uri": "https://localhost:8080/"
        },
        "id": "cov3f0COfGux",
        "outputId": "fbd3fc8a-6f71-405d-b9ed-21ce140df61e"
      },
      "source": [
        "model.layers"
      ],
      "execution_count": 748,
      "outputs": [
        {
          "output_type": "execute_result",
          "data": {
            "text/plain": [
              "[<tensorflow.python.keras.layers.convolutional.Conv2D at 0x7fc40fca9e50>,\n",
              " <tensorflow.python.keras.layers.pooling.MaxPooling2D at 0x7fc40fbbae10>,\n",
              " <tensorflow.python.keras.layers.convolutional.Conv2D at 0x7fc40fc41e10>,\n",
              " <tensorflow.python.keras.layers.convolutional.Conv2D at 0x7fc40bde42d0>,\n",
              " <tensorflow.python.keras.layers.pooling.MaxPooling2D at 0x7fc40fbff390>,\n",
              " <tensorflow.python.keras.layers.convolutional.Conv2D at 0x7fc40fbff190>,\n",
              " <tensorflow.python.keras.layers.convolutional.Conv2D at 0x7fc40fc92390>,\n",
              " <tensorflow.python.keras.layers.core.Flatten at 0x7fc40fb6d0d0>,\n",
              " <tensorflow.python.keras.layers.core.Dense at 0x7fc40fed0f50>,\n",
              " <tensorflow.python.keras.layers.core.Dropout at 0x7fc40fe78510>,\n",
              " <tensorflow.python.keras.layers.core.Dense at 0x7fc40fb6c610>,\n",
              " <tensorflow.python.keras.layers.core.Dropout at 0x7fc40b2bca50>,\n",
              " <tensorflow.python.keras.layers.core.Dense at 0x7fc511bf6e10>]"
            ]
          },
          "metadata": {
            "tags": []
          },
          "execution_count": 748
        }
      ]
    },
    {
      "cell_type": "code",
      "metadata": {
        "id": "AJ_s7bO_dQt9"
      },
      "source": [
        "save_path= '/content/drive/MyDrive/화자인식/'\n",
        "model_a= keras.models.load_model(save_path+'tutorial_model.h5') # temp모델 "
      ],
      "execution_count": 749,
      "outputs": []
    },
    {
      "cell_type": "code",
      "metadata": {
        "id": "Cl4C5INIewCT"
      },
      "source": [
        "new_model= keras.models.Sequential(model_a.layers[:-1])\n",
        "new_model.add(Dense(3, activation='linear')) ## 마지막 층만 linear로 바꿔서 softmax되기 전 값 출력할 준비\n",
        "\n",
        "new_model.compile(optimizer='adam',\n",
        "              loss='sparse_categorical_crossentropy',\n",
        "              metrics=['accuracy']) ## 컴파일을 해주어야 새로운 모델 사용가능"
      ],
      "execution_count": 750,
      "outputs": []
    },
    {
      "cell_type": "code",
      "metadata": {
        "id": "Iix39LMwiMon"
      },
      "source": [
        "new_model.load_weights(save_path+'tutorial_model.h5') # weitght을 복사해서 불러옴"
      ],
      "execution_count": 751,
      "outputs": []
    },
    {
      "cell_type": "code",
      "metadata": {
        "colab": {
          "base_uri": "https://localhost:8080/"
        },
        "id": "KZ5tdn4UkYUi",
        "outputId": "eae62a47-c7d6-4a22-bb5c-74fccdb2866d"
      },
      "source": [
        "test_loss, test_mae= new_model.evaluate(ver_X_train, ver_y_train) ## 같은 성능을 내는지 확인"
      ],
      "execution_count": 752,
      "outputs": [
        {
          "output_type": "stream",
          "text": [
            "2/2 [==============================] - 0s 6ms/step - loss: 0.0898 - accuracy: 1.0000\n"
          ],
          "name": "stdout"
        }
      ]
    },
    {
      "cell_type": "code",
      "metadata": {
        "colab": {
          "base_uri": "https://localhost:8080/"
        },
        "id": "SPR93UL4mqJp",
        "outputId": "91fd4649-1d05-4e1b-e3d1-858b396f62be"
      },
      "source": [
        "penultimate_vector= np.array(new_model.predict(ver_X_train))\n",
        "penultimate_vector[:3]"
      ],
      "execution_count": 753,
      "outputs": [
        {
          "output_type": "execute_result",
          "data": {
            "text/plain": [
              "array([[  2.5823462,  28.986065 ,  -7.5350966],\n",
              "       [  1.9419631,  26.37224  ,  -5.878332 ],\n",
              "       [ -1.1800346,  42.46373  , -10.900003 ]], dtype=float32)"
            ]
          },
          "metadata": {
            "tags": []
          },
          "execution_count": 753
        }
      ]
    },
    {
      "cell_type": "code",
      "metadata": {
        "id": "A6ZSiv7hlzd3",
        "colab": {
          "base_uri": "https://localhost:8080/"
        },
        "outputId": "df65de7d-5a6a-41b4-af96-3b5364d81151"
      },
      "source": [
        "# ver_y_train 데이터와 합치기\n",
        "tmp=ver_y_train.reshape((-1,1))\n",
        "\n",
        "penultimate_vector=np.hstack((penultimate_vector, tmp))\n",
        "penultimate_vector[:5]"
      ],
      "execution_count": 754,
      "outputs": [
        {
          "output_type": "execute_result",
          "data": {
            "text/plain": [
              "array([[  2.5823462 ,  28.98606491,  -7.53509665,   1.        ],\n",
              "       [  1.94196308,  26.37224007,  -5.87833214,   1.        ],\n",
              "       [ -1.18003464,  42.46372986, -10.90000343,   1.        ],\n",
              "       [ 17.40877914,  -6.75039244,  -5.26610994,   0.        ],\n",
              "       [ 15.12278461,  -5.23559093,  -4.39759016,   0.        ]])"
            ]
          },
          "metadata": {
            "tags": []
          },
          "execution_count": 754
        }
      ]
    },
    {
      "cell_type": "code",
      "metadata": {
        "colab": {
          "base_uri": "https://localhost:8080/"
        },
        "id": "lokkBmtunWUG",
        "outputId": "630cfba1-4e6b-4a34-c146-39a78576269a"
      },
      "source": [
        "# 각 클래스별로 배열을 새로 나누기\n",
        "arr_0penultimate= np.array([])\n",
        "arr_1penultimate= np.array([])\n",
        "arr_2penultimate= np.array([])\n",
        "\n",
        "for i in penultimate_vector:\n",
        "  if int(i[3])==0:\n",
        "    arr_0penultimate= np.append(arr_0penultimate, i)\n",
        "  elif int(i[3])==1:\n",
        "    arr_1penultimate= np.append(arr_1penultimate, i)\n",
        "  else:\n",
        "    arr_2penultimate= np.append(arr_2penultimate, i)\n",
        "arr_0penultimate = arr_0penultimate.reshape((-1, 4))\n",
        "arr_1penultimate = arr_1penultimate.reshape((-1, 4))\n",
        "arr_2penultimate = arr_2penultimate.reshape((-1, 4))\n",
        "arr_0penultimate[:3]"
      ],
      "execution_count": 755,
      "outputs": [
        {
          "output_type": "execute_result",
          "data": {
            "text/plain": [
              "array([[17.40877914, -6.75039244, -5.26610994,  0.        ],\n",
              "       [15.12278461, -5.23559093, -4.39759016,  0.        ],\n",
              "       [16.53941727, -6.67961884, -5.38052511,  0.        ]])"
            ]
          },
          "metadata": {
            "tags": []
          },
          "execution_count": 755
        }
      ]
    },
    {
      "cell_type": "code",
      "metadata": {
        "colab": {
          "base_uri": "https://localhost:8080/"
        },
        "id": "CDCFBH6cnXK-",
        "outputId": "33b42319-1701-4766-c0b3-e171193d835d"
      },
      "source": [
        "# 각 클래스의 평균 구하기\n",
        "mean_0= arr_0penultimate.mean(axis=0)[:3]\n",
        "mean_1= arr_1penultimate.mean(axis=0)[:3]\n",
        "mean_2= arr_2penultimate.mean(axis=0)[:3]\n",
        "\n",
        "print(mean_0,'\\n', mean_1,'\\n', mean_2)"
      ],
      "execution_count": 756,
      "outputs": [
        {
          "output_type": "stream",
          "text": [
            "[20.11806526 -7.93315294 -6.7427938 ] \n",
            " [-1.40042481 37.19088564 -9.03550478] \n",
            " [-18.42501221  -0.30047735  26.23310318]\n"
          ],
          "name": "stdout"
        }
      ]
    },
    {
      "cell_type": "markdown",
      "metadata": {
        "id": "vYg1bvAjtF7a"
      },
      "source": [
        "- 각 클래스의 평균과의 거리를 구합니다"
      ]
    },
    {
      "cell_type": "code",
      "metadata": {
        "id": "kq5eXPDHo-2j"
      },
      "source": [
        "distance_0= np.array([])\n",
        "distance_1= np.array([])\n",
        "distance_2= np.array([])\n",
        "\n",
        "for i in arr_0penultimate:\n",
        "  a= i[:3]\n",
        "  tmp= a-mean_0\n",
        "  tmp= tmp**2\n",
        "  distance_0= np.append(distance_0, tmp.sum())\n",
        "\n",
        "for i in arr_1penultimate:\n",
        "  a= i[:3]\n",
        "  tmp= a-mean_1\n",
        "  tmp= tmp**2\n",
        "  distance_1= np.append(distance_1, tmp.sum())\n",
        "\n",
        "for i in arr_2penultimate:\n",
        "  a= i[:3]\n",
        "  tmp= a-mean_2\n",
        "  tmp= tmp**2\n",
        "  distance_2= np.append(distance_2, tmp.sum())"
      ],
      "execution_count": 757,
      "outputs": []
    },
    {
      "cell_type": "code",
      "metadata": {
        "id": "cUGLe9jLpAF6"
      },
      "source": [
        "distance_0.sort()\n",
        "distance_1.sort()\n",
        "distance_2.sort()"
      ],
      "execution_count": 758,
      "outputs": []
    },
    {
      "cell_type": "code",
      "metadata": {
        "colab": {
          "base_uri": "https://localhost:8080/"
        },
        "id": "aWF_mhuP6jZk",
        "outputId": "43077c1c-be3d-4f36-f71c-f1fa77fe391a"
      },
      "source": [
        "distance_0"
      ],
      "execution_count": 759,
      "outputs": [
        {
          "output_type": "execute_result",
          "data": {
            "text/plain": [
              "array([  0.16409206,   0.23190754,   1.39833784,   1.54147967,\n",
              "         3.42955455,   5.11469393,   7.51044884,   8.50171535,\n",
              "         8.50967493,  10.91974888,  11.77923728,  11.89329709,\n",
              "        12.85524813,  14.49136591,  16.23384519,  18.08164071,\n",
              "        32.3966553 ,  37.1181123 ,  37.72964961, 134.16744858])"
            ]
          },
          "metadata": {
            "tags": []
          },
          "execution_count": 759
        }
      ]
    },
    {
      "cell_type": "code",
      "metadata": {
        "colab": {
          "base_uri": "https://localhost:8080/",
          "height": 407
        },
        "id": "6snKlJ6x8cFL",
        "outputId": "4bc807e4-7073-4c39-8e02-f2ef7625a3ae"
      },
      "source": [
        "from scipy.stats import weibull_min\n",
        "import matplotlib.pyplot as plt\n",
        "import seaborn as sns\n",
        "\n",
        "fig, axes = plt.subplots(nrows=1,ncols=3)\n",
        "\n",
        "c_0, loc_0, scale_0 = weibull_min.fit(distance_0[-20:])\n",
        "dist_0 = weibull_min.rvs(c_0, loc_0, scale_0, size=1000)\n",
        "sns.distplot(dist_0, ax= axes[0])\n",
        "\n",
        "c_1, loc_1, scale_1 = weibull_min.fit(distance_1[-20:])\n",
        "dist_1 = weibull_min.rvs(c_1, loc_1, scale_1, size=1000)\n",
        "sns.distplot(dist_1, ax= axes[1])\n",
        "\n",
        "c_2, loc_2, scale_2 = weibull_min.fit(distance_2[-20:])\n",
        "dist_2 = weibull_min.rvs(c_2, loc_2, scale_2, size=1000)\n",
        "sns.distplot(dist_2, ax= axes[2])"
      ],
      "execution_count": 797,
      "outputs": [
        {
          "output_type": "stream",
          "text": [
            "/usr/local/lib/python3.7/dist-packages/seaborn/distributions.py:2557: FutureWarning: `distplot` is a deprecated function and will be removed in a future version. Please adapt your code to use either `displot` (a figure-level function with similar flexibility) or `histplot` (an axes-level function for histograms).\n",
            "  warnings.warn(msg, FutureWarning)\n",
            "/usr/local/lib/python3.7/dist-packages/seaborn/distributions.py:2557: FutureWarning: `distplot` is a deprecated function and will be removed in a future version. Please adapt your code to use either `displot` (a figure-level function with similar flexibility) or `histplot` (an axes-level function for histograms).\n",
            "  warnings.warn(msg, FutureWarning)\n",
            "/usr/local/lib/python3.7/dist-packages/seaborn/distributions.py:2557: FutureWarning: `distplot` is a deprecated function and will be removed in a future version. Please adapt your code to use either `displot` (a figure-level function with similar flexibility) or `histplot` (an axes-level function for histograms).\n",
            "  warnings.warn(msg, FutureWarning)\n"
          ],
          "name": "stderr"
        },
        {
          "output_type": "execute_result",
          "data": {
            "text/plain": [
              "<matplotlib.axes._subplots.AxesSubplot at 0x7fc407f25e10>"
            ]
          },
          "metadata": {
            "tags": []
          },
          "execution_count": 797
        },
        {
          "output_type": "display_data",
          "data": {
            "image/png": "[encoded data removed]",
            "text/plain": [
              "<Figure size 432x288 with 3 Axes>"
            ]
          },
          "metadata": {
            "tags": [],
            "needs_background": "light"
          }
        }
      ]
    },
    {
      "cell_type": "code",
      "metadata": {
        "colab": {
          "base_uri": "https://localhost:8080/"
        },
        "id": "i3OSr5VOLA1T",
        "outputId": "c2dd8008-816a-47b4-b17a-55926750567b"
      },
      "source": [
        "print( distance_0[10:],'\\n',distance_1[10:],'\\n',distance_2[10:])"
      ],
      "execution_count": 798,
      "outputs": [
        {
          "output_type": "stream",
          "text": [
            "[ 11.77923728  11.89329709  12.85524813  14.49136591  16.23384519\n",
            "  18.08164071  32.3966553   37.1181123   37.72964961 134.16744858] \n",
            " [ 139.4146239   140.27271879  179.25817982  182.41560884  196.68594383\n",
            "  394.51479467  419.07914858  610.41270377  761.62988697 2656.28282312] \n",
            " [ 90.23437047  93.2584207  113.33890863 120.76759014 170.00811972]\n"
          ],
          "name": "stdout"
        }
      ]
    },
    {
      "cell_type": "code",
      "metadata": {
        "colab": {
          "base_uri": "https://localhost:8080/"
        },
        "id": "uztMP1cpmEUp",
        "outputId": "9f7f5320-992d-42ec-f5bc-0f5fe489f428"
      },
      "source": [
        "print(c_0, loc_0, scale_0)\n",
        "print(c_1, loc_1, scale_1)\n",
        "print(c_2, loc_2, scale_2)"
      ],
      "execution_count": 799,
      "outputs": [
        {
          "output_type": "stream",
          "text": [
            "0.6403390213858535 0.16409206407463386 11.292356617287037\n",
            "0.7157860337191997 5.775930966502452 205.13583071570812\n",
            "0.27725974159073274 2.30543435489844 3.1861473862932916\n"
          ],
          "name": "stdout"
        }
      ]
    },
    {
      "cell_type": "code",
      "metadata": {
        "id": "H9HfulPWtBC0"
      },
      "source": [
        "list_unver_logit= np.array(new_model.predict(X_test))"
      ],
      "execution_count": 800,
      "outputs": []
    },
    {
      "cell_type": "code",
      "metadata": {
        "id": "3aBFaewUtSKv",
        "colab": {
          "base_uri": "https://localhost:8080/"
        },
        "outputId": "d901623c-646d-455d-9691-247b4ebf6c88"
      },
      "source": [
        "list_unver_logit[:3]"
      ],
      "execution_count": 801,
      "outputs": [
        {
          "output_type": "execute_result",
          "data": {
            "text/plain": [
              "array([[ -3.67121   ,  27.795355  ,  -8.566868  ],\n",
              "       [-15.18357   ,   0.05014728,  22.183535  ],\n",
              "       [-11.025855  ,  -0.15805377,  15.57248   ]], dtype=float32)"
            ]
          },
          "metadata": {
            "tags": []
          },
          "execution_count": 801
        }
      ]
    },
    {
      "cell_type": "code",
      "metadata": {
        "colab": {
          "base_uri": "https://localhost:8080/"
        },
        "id": "kO9qu1Phps_H",
        "outputId": "077c18dc-44b8-45f9-8af7-84c7383846e3"
      },
      "source": [
        "mean_0"
      ],
      "execution_count": 802,
      "outputs": [
        {
          "output_type": "execute_result",
          "data": {
            "text/plain": [
              "array([20.11806526, -7.93315294, -6.7427938 ])"
            ]
          },
          "metadata": {
            "tags": []
          },
          "execution_count": 802
        }
      ]
    },
    {
      "cell_type": "code",
      "metadata": {
        "id": "z1YOJbCLA2yU",
        "colab": {
          "base_uri": "https://localhost:8080/"
        },
        "outputId": "f1feca8a-b545-463c-b0a3-957fe1fd3076"
      },
      "source": [
        "new_unver_logit= np.array([])\n",
        "mean_0= np.array(mean_0)[:3]\n",
        "mean_1= np.array(mean_1)[:3]\n",
        "mean_2= np.array(mean_2)[:3]\n",
        "\n",
        "for i in list_unver_logit:\n",
        "  val_0= (i-mean_0)**2\n",
        "  val_1= (i-mean_1)**2\n",
        "  val_2= (i-mean_2)**2\n",
        "\n",
        "  val_0= val_0.sum()\n",
        "  val_1= val_1.sum()\n",
        "  val_2= val_2.sum()\n",
        "\n",
        "  w_0= weibull_min.cdf(val_0, c_0, loc_0, scale_0) \n",
        "  w_1= weibull_min.cdf(val_1, c_1, loc_1, scale_1)\n",
        "  w_2= weibull_min.cdf(val_2, c_2, loc_2, scale_2)\n",
        "\n",
        "  data=np.array([i[0]-(w_0*i[0]), i[1]- (w_1*i[1]), i[2]-(w_2*i[2]),(i[0]*w_0)+(i[1]*w_1)+(i[2]*w_2)])\n",
        "  \n",
        "  if all(i == list_unver_logit[0]):\n",
        "    new_unver_logit= np.append(new_unver_logit, data)\n",
        "  else:\n",
        "    new_unver_logit= np.vstack((new_unver_logit, data))\n",
        "new_unver_logit[:3]"
      ],
      "execution_count": 803,
      "outputs": [
        {
          "output_type": "execute_result",
          "data": {
            "text/plain": [
              "array([[-1.63122849e-11,  1.61154476e+01, -1.84932600e-02,\n",
              "        -5.39677408e-01],\n",
              "       [-4.74642547e-12,  1.17850146e-04,  3.79794436e+00,\n",
              "         3.25204979e+00],\n",
              "       [-9.60172386e-10, -8.19050986e-04,  7.80834009e-01,\n",
              "         3.60855641e+00]])"
            ]
          },
          "metadata": {
            "tags": []
          },
          "execution_count": 803
        }
      ]
    },
    {
      "cell_type": "code",
      "metadata": {
        "colab": {
          "base_uri": "https://localhost:8080/"
        },
        "id": "WG_lwRNUhRnE",
        "outputId": "add81d75-4a65-4927-d0d3-998555dfef77"
      },
      "source": [
        "soft_max_list=[]\n",
        "for i in new_unver_logit:\n",
        "  exp_list= np.exp(i)\n",
        "  sum= exp_list.sum()\n",
        "\n",
        "  soft_max_list.append(exp_list/sum)\n",
        "soft_max_list[:10]"
      ],
      "execution_count": 804,
      "outputs": [
        {
          "output_type": "execute_result",
          "data": {
            "text/plain": [
              "[array([1.00265127e-07, 9.99999743e-01, 9.84279382e-08, 5.84481795e-08]),\n",
              " array([0.0138021 , 0.01380372, 0.61570305, 0.35669113]),\n",
              " array([0.02433374, 0.02431382, 0.05312767, 0.89822477]),\n",
              " array([0.00126998, 0.00151624, 0.00126322, 0.99595055]),\n",
              " array([9.98441435e-01, 6.53169249e-04, 6.56316115e-04, 2.49079920e-04]),\n",
              " array([0.00317302, 0.00250986, 0.00250513, 0.99181199]),\n",
              " array([0.00275301, 0.00275274, 0.92587564, 0.0686186 ]),\n",
              " array([9.99837069e-01, 7.72471236e-05, 7.77049089e-05, 7.97863835e-06]),\n",
              " array([0.12947111, 0.0361782 , 0.03683029, 0.79752039]),\n",
              " array([8.31885904e-11, 9.99982068e-01, 8.25174424e-11, 1.79321556e-05])]"
            ]
          },
          "metadata": {
            "tags": []
          },
          "execution_count": 804
        }
      ]
    },
    {
      "cell_type": "code",
      "metadata": {
        "colab": {
          "base_uri": "https://localhost:8080/"
        },
        "id": "hezSjQ8ojCgv",
        "outputId": "4e4002b2-8229-4ccf-9ea9-0f8b59b98770"
      },
      "source": [
        "predict=np.array([])\n",
        "for i in soft_max_list:\n",
        "  predict= np.append(predict,(np.argmax(i)))\n",
        "predict.reshape(1,-1)\n",
        "predict"
      ],
      "execution_count": 805,
      "outputs": [
        {
          "output_type": "execute_result",
          "data": {
            "text/plain": [
              "array([1., 2., 3., 3., 0., 3., 2., 0., 3., 1., 1., 1., 3., 3., 3., 3., 3.,\n",
              "       1., 3., 3., 3., 3., 3., 3., 3., 3., 3., 3., 3., 3., 3., 3., 3., 2.,\n",
              "       3., 3., 1., 3., 3., 3., 3., 3., 3., 3., 3., 3., 1., 1., 3., 3., 3.,\n",
              "       3., 3., 3., 1., 3., 3., 3., 3., 3., 3., 3., 3., 3., 3., 3., 3., 3.,\n",
              "       3., 1., 3., 3., 3., 3., 3., 3., 1., 3., 3., 3., 3., 3., 3., 3., 3.,\n",
              "       3., 3., 3., 3., 3., 3., 3., 3., 3., 3., 3., 3., 3., 3., 3., 3., 3.,\n",
              "       3., 3., 3., 3., 1., 3., 3., 3., 3., 3., 3., 3., 3., 3., 3., 3., 3.,\n",
              "       3., 3., 3., 3., 3., 3., 3., 3., 3., 3., 3., 3., 3., 3., 3., 3., 3.,\n",
              "       3., 3., 3., 3., 3., 3., 3., 1., 3., 3., 3., 3., 3., 3., 3., 3., 3.,\n",
              "       3., 3., 3., 3., 3., 3., 3., 3., 3., 3., 3., 3., 3., 3., 3., 3., 3.,\n",
              "       3., 3., 3., 3., 3., 3., 3., 3., 3., 3., 3., 3., 3., 3., 3., 3., 3.,\n",
              "       3., 3., 3., 3., 3., 3., 1., 3., 1.])"
            ]
          },
          "metadata": {
            "tags": []
          },
          "execution_count": 805
        }
      ]
    },
    {
      "cell_type": "code",
      "metadata": {
        "id": "HMwCMR8Gjxht",
        "colab": {
          "base_uri": "https://localhost:8080/"
        },
        "outputId": "5e49dc39-fb3c-40ce-de94-072153973e82"
      },
      "source": [
        "y_test"
      ],
      "execution_count": 806,
      "outputs": [
        {
          "output_type": "execute_result",
          "data": {
            "text/plain": [
              "array([1, 2, 2, 1, 0, 0, 2, 0, 0, 1, 1, 1, 3, 3, 3, 3, 3, 3, 3, 3, 3, 3,\n",
              "       3, 3, 3, 3, 3, 3, 3, 3, 3, 3, 3, 3, 3, 3, 3, 3, 3, 3, 3, 3, 3, 3,\n",
              "       3, 3, 3, 3, 3, 3, 3, 3, 3, 3, 3, 3, 3, 3, 3, 3, 3, 3, 3, 3, 3, 3,\n",
              "       3, 3, 3, 3, 3, 3, 3, 3, 3, 3, 3, 3, 3, 3, 3, 3, 3, 3, 3, 3, 3, 3,\n",
              "       3, 3, 3, 3, 3, 3, 3, 3, 3, 3, 3, 3, 3, 3, 3, 3, 3, 3, 3, 3, 3, 3,\n",
              "       3, 3, 3, 3, 3, 3, 3, 3, 3, 3, 3, 3, 3, 3, 3, 3, 3, 3, 3, 3, 3, 3,\n",
              "       3, 3, 3, 3, 3, 3, 3, 3, 3, 3, 3, 3, 3, 3, 3, 3, 3, 3, 3, 3, 3, 3,\n",
              "       3, 3, 3, 3, 3, 3, 3, 3, 3, 3, 3, 3, 3, 3, 3, 3, 3, 3, 3, 3, 3, 3,\n",
              "       3, 3, 3, 3, 3, 3, 3, 3, 3, 3, 3, 3, 3, 3, 3, 3, 3, 3, 3, 3])"
            ]
          },
          "metadata": {
            "tags": []
          },
          "execution_count": 806
        }
      ]
    },
    {
      "cell_type": "code",
      "metadata": {
        "colab": {
          "base_uri": "https://localhost:8080/"
        },
        "id": "hLpvtcUEKGxC",
        "outputId": "c3ac3170-ed75-4b73-a318-48f01ee4fdbd"
      },
      "source": [
        "from sklearn.metrics import confusion_matrix, accuracy_score\n",
        "\n",
        "confusion_matrix(y_test, predict)"
      ],
      "execution_count": 807,
      "outputs": [
        {
          "output_type": "execute_result",
          "data": {
            "text/plain": [
              "array([[  2,   0,   0,   2],\n",
              "       [  0,   4,   0,   1],\n",
              "       [  0,   0,   2,   1],\n",
              "       [  0,  11,   1, 172]])"
            ]
          },
          "metadata": {
            "tags": []
          },
          "execution_count": 807
        }
      ]
    },
    {
      "cell_type": "code",
      "metadata": {
        "colab": {
          "base_uri": "https://localhost:8080/"
        },
        "id": "OpCp7X3MKSAL",
        "outputId": "7a3ae84d-4ab4-443e-c3ac-598f14661804"
      },
      "source": [
        "accuracy_score(y_test, predict)"
      ],
      "execution_count": 808,
      "outputs": [
        {
          "output_type": "execute_result",
          "data": {
            "text/plain": [
              "0.9183673469387755"
            ]
          },
          "metadata": {
            "tags": []
          },
          "execution_count": 808
        }
      ]
    },
    {
      "cell_type": "code",
      "metadata": {
        "id": "yWyw1Y4_Kt0f"
      },
      "source": [
        "far=(11+1+2)/(2+15+3+172)"
      ],
      "execution_count": 809,
      "outputs": []
    },
    {
      "cell_type": "code",
      "metadata": {
        "colab": {
          "base_uri": "https://localhost:8080/"
        },
        "id": "R8NWmGsvocnm",
        "outputId": "29ec91c4-f2fc-4096-dcdd-e7e3220f3ade"
      },
      "source": [
        "far"
      ],
      "execution_count": 810,
      "outputs": [
        {
          "output_type": "execute_result",
          "data": {
            "text/plain": [
              "0.07291666666666667"
            ]
          },
          "metadata": {
            "tags": []
          },
          "execution_count": 810
        }
      ]
    },
    {
      "cell_type": "code",
      "metadata": {
        "id": "9hkJfcDrodMY"
      },
      "source": [
        ""
      ],
      "execution_count": null,
      "outputs": []
    }
  ]
}
